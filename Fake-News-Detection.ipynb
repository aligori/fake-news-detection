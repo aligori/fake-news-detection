{
 "cells": [
  {
   "cell_type": "markdown",
   "id": "0b8cb037",
   "metadata": {},
   "source": [
    "# **Covid-19 Fake News detection using Naive Bayes Classifier**"
   ]
  },
  {
   "cell_type": "markdown",
   "id": "237bd1a7",
   "metadata": {},
   "source": [
    "## 1. Dataset Loading and visualisation"
   ]
  },
  {
   "cell_type": "markdown",
   "id": "73d7b5f1",
   "metadata": {},
   "source": [
    "### Required imports"
   ]
  },
  {
   "cell_type": "code",
   "execution_count": 1,
   "id": "69e4e5c6",
   "metadata": {},
   "outputs": [],
   "source": [
    "# Used for dataset loading and visualisation\n",
    "import pandas as pd\n",
    "import seaborn as seaborn\n",
    "import matplotlib.pyplot as plt"
   ]
  },
  {
   "cell_type": "markdown",
   "id": "aac04e2e",
   "metadata": {},
   "source": [
    "### Dataset Loading"
   ]
  },
  {
   "cell_type": "code",
   "execution_count": 2,
   "id": "faec4b66",
   "metadata": {},
   "outputs": [],
   "source": [
    "# Load training dataset into a pandas dataframe\n",
    "df_train = pd.read_csv('datasets/TrainData.csv')\n",
    "\n",
    "# Load validation dataset into a pandas dataframe\n",
    "df_val = pd.read_csv('datasets/ValData.csv')\n",
    "\n",
    "# Load testing dataset into a pandas dataframe\n",
    "df_test = pd.read_csv('datasets/TestData.csv')"
   ]
  },
  {
   "cell_type": "code",
   "execution_count": 3,
   "id": "59fb2571",
   "metadata": {},
   "outputs": [
    {
     "data": {
      "text/html": [
       "<div>\n",
       "<style scoped>\n",
       "    .dataframe tbody tr th:only-of-type {\n",
       "        vertical-align: middle;\n",
       "    }\n",
       "\n",
       "    .dataframe tbody tr th {\n",
       "        vertical-align: top;\n",
       "    }\n",
       "\n",
       "    .dataframe thead th {\n",
       "        text-align: right;\n",
       "    }\n",
       "</style>\n",
       "<table border=\"1\" class=\"dataframe\">\n",
       "  <thead>\n",
       "    <tr style=\"text-align: right;\">\n",
       "      <th></th>\n",
       "      <th>id</th>\n",
       "      <th>tweet</th>\n",
       "      <th>label</th>\n",
       "    </tr>\n",
       "  </thead>\n",
       "  <tbody>\n",
       "    <tr>\n",
       "      <th>746</th>\n",
       "      <td>747</td>\n",
       "      <td>On therapeutics the first proven therapy for s...</td>\n",
       "      <td>real</td>\n",
       "    </tr>\n",
       "    <tr>\n",
       "      <th>4303</th>\n",
       "      <td>4304</td>\n",
       "      <td>.@realDonaldTrump has blamed past administrati...</td>\n",
       "      <td>fake</td>\n",
       "    </tr>\n",
       "    <tr>\n",
       "      <th>3280</th>\n",
       "      <td>3281</td>\n",
       "      <td>34000 LTC deaths have occurred since June. Eve...</td>\n",
       "      <td>real</td>\n",
       "    </tr>\n",
       "    <tr>\n",
       "      <th>814</th>\n",
       "      <td>815</td>\n",
       "      <td>@DHFWKA @readingkafka @IasAlok @DeccanHerald @...</td>\n",
       "      <td>fake</td>\n",
       "    </tr>\n",
       "    <tr>\n",
       "      <th>2347</th>\n",
       "      <td>2348</td>\n",
       "      <td>_A photo of a woman lying in a hospital bed wi...</td>\n",
       "      <td>fake</td>\n",
       "    </tr>\n",
       "  </tbody>\n",
       "</table>\n",
       "</div>"
      ],
      "text/plain": [
       "        id                                              tweet label\n",
       "746    747  On therapeutics the first proven therapy for s...  real\n",
       "4303  4304  .@realDonaldTrump has blamed past administrati...  fake\n",
       "3280  3281  34000 LTC deaths have occurred since June. Eve...  real\n",
       "814    815  @DHFWKA @readingkafka @IasAlok @DeccanHerald @...  fake\n",
       "2347  2348  _A photo of a woman lying in a hospital bed wi...  fake"
      ]
     },
     "execution_count": 3,
     "metadata": {},
     "output_type": "execute_result"
    }
   ],
   "source": [
    "# 5 sample rows from the training dataset\n",
    "df_train.sample(5)"
   ]
  },
  {
   "cell_type": "code",
   "execution_count": 4,
   "id": "64a05b33",
   "metadata": {
    "scrolled": true
   },
   "outputs": [
    {
     "data": {
      "text/html": [
       "<div>\n",
       "<style scoped>\n",
       "    .dataframe tbody tr th:only-of-type {\n",
       "        vertical-align: middle;\n",
       "    }\n",
       "\n",
       "    .dataframe tbody tr th {\n",
       "        vertical-align: top;\n",
       "    }\n",
       "\n",
       "    .dataframe thead th {\n",
       "        text-align: right;\n",
       "    }\n",
       "</style>\n",
       "<table border=\"1\" class=\"dataframe\">\n",
       "  <thead>\n",
       "    <tr style=\"text-align: right;\">\n",
       "      <th></th>\n",
       "      <th>id</th>\n",
       "      <th>tweet</th>\n",
       "      <th>label</th>\n",
       "    </tr>\n",
       "  </thead>\n",
       "  <tbody>\n",
       "    <tr>\n",
       "      <th>0</th>\n",
       "      <td>1</td>\n",
       "      <td>Chinese converting to Islam after realising th...</td>\n",
       "      <td>fake</td>\n",
       "    </tr>\n",
       "    <tr>\n",
       "      <th>1</th>\n",
       "      <td>2</td>\n",
       "      <td>11 out of 13 people (from the Diamond Princess...</td>\n",
       "      <td>fake</td>\n",
       "    </tr>\n",
       "    <tr>\n",
       "      <th>2</th>\n",
       "      <td>3</td>\n",
       "      <td>COVID-19 Is Caused By A Bacterium, Not Virus A...</td>\n",
       "      <td>fake</td>\n",
       "    </tr>\n",
       "    <tr>\n",
       "      <th>3</th>\n",
       "      <td>4</td>\n",
       "      <td>Mike Pence in RNC speech praises Donald Trump’...</td>\n",
       "      <td>fake</td>\n",
       "    </tr>\n",
       "    <tr>\n",
       "      <th>4</th>\n",
       "      <td>5</td>\n",
       "      <td>6/10 Sky's @EdConwaySky explains the latest #C...</td>\n",
       "      <td>real</td>\n",
       "    </tr>\n",
       "  </tbody>\n",
       "</table>\n",
       "</div>"
      ],
      "text/plain": [
       "   id                                              tweet label\n",
       "0   1  Chinese converting to Islam after realising th...  fake\n",
       "1   2  11 out of 13 people (from the Diamond Princess...  fake\n",
       "2   3  COVID-19 Is Caused By A Bacterium, Not Virus A...  fake\n",
       "3   4  Mike Pence in RNC speech praises Donald Trump’...  fake\n",
       "4   5  6/10 Sky's @EdConwaySky explains the latest #C...  real"
      ]
     },
     "execution_count": 4,
     "metadata": {},
     "output_type": "execute_result"
    }
   ],
   "source": [
    "# 5 first rows from the training dataset\n",
    "df_val.head(5)"
   ]
  },
  {
   "cell_type": "code",
   "execution_count": 5,
   "id": "e939f0a5",
   "metadata": {},
   "outputs": [
    {
     "data": {
      "text/html": [
       "<div>\n",
       "<style scoped>\n",
       "    .dataframe tbody tr th:only-of-type {\n",
       "        vertical-align: middle;\n",
       "    }\n",
       "\n",
       "    .dataframe tbody tr th {\n",
       "        vertical-align: top;\n",
       "    }\n",
       "\n",
       "    .dataframe thead th {\n",
       "        text-align: right;\n",
       "    }\n",
       "</style>\n",
       "<table border=\"1\" class=\"dataframe\">\n",
       "  <thead>\n",
       "    <tr style=\"text-align: right;\">\n",
       "      <th></th>\n",
       "      <th>id</th>\n",
       "      <th>tweet</th>\n",
       "      <th>label</th>\n",
       "    </tr>\n",
       "  </thead>\n",
       "  <tbody>\n",
       "    <tr>\n",
       "      <th>0</th>\n",
       "      <td>1</td>\n",
       "      <td>Our daily update is published. States reported...</td>\n",
       "      <td>real</td>\n",
       "    </tr>\n",
       "    <tr>\n",
       "      <th>1</th>\n",
       "      <td>2</td>\n",
       "      <td>Alfalfa is the only cure for COVID-19.</td>\n",
       "      <td>fake</td>\n",
       "    </tr>\n",
       "    <tr>\n",
       "      <th>2</th>\n",
       "      <td>3</td>\n",
       "      <td>President Trump Asked What He Would Do If He W...</td>\n",
       "      <td>fake</td>\n",
       "    </tr>\n",
       "    <tr>\n",
       "      <th>3</th>\n",
       "      <td>4</td>\n",
       "      <td>States reported 630 deaths. We are still seein...</td>\n",
       "      <td>real</td>\n",
       "    </tr>\n",
       "    <tr>\n",
       "      <th>4</th>\n",
       "      <td>5</td>\n",
       "      <td>This is the sixth time a global health emergen...</td>\n",
       "      <td>real</td>\n",
       "    </tr>\n",
       "  </tbody>\n",
       "</table>\n",
       "</div>"
      ],
      "text/plain": [
       "   id                                              tweet label\n",
       "0   1  Our daily update is published. States reported...  real\n",
       "1   2             Alfalfa is the only cure for COVID-19.  fake\n",
       "2   3  President Trump Asked What He Would Do If He W...  fake\n",
       "3   4  States reported 630 deaths. We are still seein...  real\n",
       "4   5  This is the sixth time a global health emergen...  real"
      ]
     },
     "execution_count": 5,
     "metadata": {},
     "output_type": "execute_result"
    }
   ],
   "source": [
    "# 5 sample rows from the training dataset\n",
    "df_test.head(5)"
   ]
  },
  {
   "cell_type": "markdown",
   "id": "d68b349a",
   "metadata": {},
   "source": [
    "### Statistics"
   ]
  },
  {
   "cell_type": "code",
   "execution_count": 6,
   "id": "86621bfe",
   "metadata": {},
   "outputs": [
    {
     "name": "stdout",
     "output_type": "stream",
     "text": [
      "There are 6420 tweets and 3 columns for each tweet.\n",
      "Is there any null value?  False\n",
      "The distribution of data into classes is:\n"
     ]
    },
    {
     "data": {
      "text/plain": [
       "real    3360\n",
       "fake    3060\n",
       "Name: label, dtype: int64"
      ]
     },
     "execution_count": 6,
     "metadata": {},
     "output_type": "execute_result"
    }
   ],
   "source": [
    "# Training Data checking\n",
    "shape = df_train.shape\n",
    "print('There are {0} tweets and {1} columns for each tweet.'.format(shape[0], shape[1]))\n",
    "print('Is there any null value? ', df_train.isnull().values.any())\n",
    "print('The distribution of data into classes is:')\n",
    "df_train['label'].value_counts()"
   ]
  },
  {
   "cell_type": "code",
   "execution_count": 7,
   "id": "c7a7e06e",
   "metadata": {},
   "outputs": [
    {
     "name": "stdout",
     "output_type": "stream",
     "text": [
      "There are 2140 tweets and 3 columns for each tweet.\n",
      "Is there any null value?  False\n",
      "The distribution of data into classes is:\n"
     ]
    },
    {
     "data": {
      "text/plain": [
       "real    1120\n",
       "fake    1020\n",
       "Name: label, dtype: int64"
      ]
     },
     "execution_count": 7,
     "metadata": {},
     "output_type": "execute_result"
    }
   ],
   "source": [
    "# Validation Data checking\n",
    "shape = df_val.shape\n",
    "print('There are {0} tweets and {1} columns for each tweet.'.format(shape[0], shape[1]))\n",
    "print('Is there any null value? ', df_val.isnull().values.any())\n",
    "print('The distribution of data into classes is:')\n",
    "df_val['label'].value_counts()"
   ]
  },
  {
   "cell_type": "code",
   "execution_count": 8,
   "id": "70afafbc",
   "metadata": {},
   "outputs": [
    {
     "name": "stdout",
     "output_type": "stream",
     "text": [
      "There are 2140 tweets and 3 columns for each tweet.\n",
      "Is there any null value?  False\n",
      "The distribution of data into classes is:\n"
     ]
    },
    {
     "data": {
      "text/plain": [
       "real    1120\n",
       "fake    1020\n",
       "Name: label, dtype: int64"
      ]
     },
     "execution_count": 8,
     "metadata": {},
     "output_type": "execute_result"
    }
   ],
   "source": [
    "# Testing Data checking\n",
    "shape = df_test.shape\n",
    "print('There are {0} tweets and {1} columns for each tweet.'.format(shape[0], shape[1]))\n",
    "print('Is there any null value? ', df_test.isnull().values.any())\n",
    "print('The distribution of data into classes is:')\n",
    "df_test['label'].value_counts()"
   ]
  },
  {
   "cell_type": "markdown",
   "id": "70898f2c",
   "metadata": {},
   "source": [
    "### Droping the columns that are not necessary"
   ]
  },
  {
   "cell_type": "code",
   "execution_count": 9,
   "id": "55e1b59f",
   "metadata": {},
   "outputs": [
    {
     "data": {
      "text/html": [
       "<div>\n",
       "<style scoped>\n",
       "    .dataframe tbody tr th:only-of-type {\n",
       "        vertical-align: middle;\n",
       "    }\n",
       "\n",
       "    .dataframe tbody tr th {\n",
       "        vertical-align: top;\n",
       "    }\n",
       "\n",
       "    .dataframe thead th {\n",
       "        text-align: right;\n",
       "    }\n",
       "</style>\n",
       "<table border=\"1\" class=\"dataframe\">\n",
       "  <thead>\n",
       "    <tr style=\"text-align: right;\">\n",
       "      <th></th>\n",
       "      <th>tweet</th>\n",
       "      <th>label</th>\n",
       "    </tr>\n",
       "  </thead>\n",
       "  <tbody>\n",
       "    <tr>\n",
       "      <th>0</th>\n",
       "      <td>The CDC currently reports 99031 deaths. In gen...</td>\n",
       "      <td>real</td>\n",
       "    </tr>\n",
       "    <tr>\n",
       "      <th>1</th>\n",
       "      <td>States reported 1121 deaths a small rise from ...</td>\n",
       "      <td>real</td>\n",
       "    </tr>\n",
       "  </tbody>\n",
       "</table>\n",
       "</div>"
      ],
      "text/plain": [
       "                                               tweet label\n",
       "0  The CDC currently reports 99031 deaths. In gen...  real\n",
       "1  States reported 1121 deaths a small rise from ...  real"
      ]
     },
     "execution_count": 9,
     "metadata": {},
     "output_type": "execute_result"
    }
   ],
   "source": [
    "columns_to_drop = ['id']\n",
    "df_train = df_train.drop(columns_to_drop, axis = 1)\n",
    "df_val = df_val.drop(columns_to_drop, axis = 1)\n",
    "df_test = df_test.drop(columns_to_drop, axis = 1)\n",
    "df_train.head(2)"
   ]
  },
  {
   "cell_type": "markdown",
   "id": "9a90c6e9",
   "metadata": {},
   "source": [
    "### Merging test and val data to use in k-fold cross validation"
   ]
  },
  {
   "cell_type": "code",
   "execution_count": 10,
   "id": "5587a186",
   "metadata": {},
   "outputs": [],
   "source": [
    "df_train = pd.concat([df_train, df_val], ignore_index=True)"
   ]
  },
  {
   "cell_type": "markdown",
   "id": "720b433b",
   "metadata": {},
   "source": [
    "### Plotting the class-wise distribution of datasets"
   ]
  },
  {
   "cell_type": "code",
   "execution_count": 11,
   "id": "fa582378",
   "metadata": {},
   "outputs": [
    {
     "data": {
      "image/png": "[encoded data removed]",
      "text/plain": [
       "<Figure size 288x288 with 1 Axes>"
      ]
     },
     "metadata": {
      "needs_background": "light"
     },
     "output_type": "display_data"
    }
   ],
   "source": [
    "plt.figure(figsize=(4, 4))\n",
    "\n",
    "ax = seaborn.countplot(\n",
    "    x = df_train['label'],  \n",
    "    data = df_train, \n",
    "    order = df_train['label'].value_counts().index \n",
    ")\n",
    "\n",
    "ax.set_title('Distribution of tweets into classes for the train-val dataset', fontsize = 11)\n",
    "ax.set_xlabel ('Class Label')\n",
    "ax.set_ylabel ('Number of tweets')\n",
    "\n",
    "for p, label in zip(ax.patches, df_train['label'].value_counts()):\n",
    "    ax.annotate(label, (p.get_x() + 0.25, p.get_height() + 0.5), weight = 'bold')"
   ]
  },
  {
   "cell_type": "code",
   "execution_count": 12,
   "id": "0626ac57",
   "metadata": {},
   "outputs": [
    {
     "data": {
      "image/png": "[encoded data removed]",
      "text/plain": [
       "<Figure size 216x288 with 1 Axes>"
      ]
     },
     "metadata": {
      "needs_background": "light"
     },
     "output_type": "display_data"
    }
   ],
   "source": [
    "plt.figure(figsize=(3,4))\n",
    "\n",
    "ax = seaborn.countplot(\n",
    "    x = df_test['label'], \n",
    "    data = df_test, \n",
    "    order = df_test['label'].value_counts().index \n",
    "    )\n",
    "\n",
    "ax.set_title('Test Data', fontsize=11)\n",
    "ax.set_xlabel ('label')\n",
    "ax.set_ylabel ('count')\n",
    "\n",
    "for p, label in zip(ax.patches, df_test['label'].value_counts()):\n",
    "    ax.annotate(label, (p.get_x() + 0.25, p.get_height() + 0.5), weight = 'bold')"
   ]
  },
  {
   "cell_type": "markdown",
   "id": "2089ca15",
   "metadata": {},
   "source": [
    "## 2. Pre-processing"
   ]
  },
  {
   "cell_type": "markdown",
   "id": "b7a43697",
   "metadata": {},
   "source": [
    "### Required imports"
   ]
  },
  {
   "cell_type": "code",
   "execution_count": 13,
   "id": "36cad504",
   "metadata": {},
   "outputs": [
    {
     "name": "stderr",
     "output_type": "stream",
     "text": [
      "[nltk_data] Downloading package stopwords to\n",
      "[nltk_data]     C:\\Users\\DELL\\AppData\\Roaming\\nltk_data...\n",
      "[nltk_data]   Package stopwords is already up-to-date!\n"
     ]
    }
   ],
   "source": [
    "import nltk\n",
    "nltk.download('stopwords')\n",
    "from nltk.corpus import stopwords\n",
    "from nltk.stem import WordNetLemmatizer\n",
    "import contractions\n",
    "import string\n",
    "import re\n",
    "from collections import Counter\n",
    "from numpy import array"
   ]
  },
  {
   "cell_type": "markdown",
   "id": "111aa79b",
   "metadata": {},
   "source": [
    "### Pre-processing Function"
   ]
  },
  {
   "cell_type": "code",
   "execution_count": 14,
   "id": "11453b9a",
   "metadata": {},
   "outputs": [],
   "source": [
    "def clean_tweet(tweet):\n",
    "    # lowercasing the text\n",
    "    tweet = tweet.lower()\n",
    "    \n",
    "    # URL normalization\n",
    "    url_pattern = '(\\w+:\\/\\/\\S+)'\n",
    "    tweet = re.sub(url_pattern, 'url', tweet)\n",
    "    \n",
    "    # Mentions normalization\n",
    "    mention_pattern = '(\\^@[._A-Za-z0-9]+)'\n",
    "    tweet = re.sub(mention_pattern, '@user', tweet)\n",
    "    \n",
    "    # Contractions expansion\n",
    "    tweet = contractions.fix(tweet)\n",
    "    \n",
    "    # split into tokens by white space\n",
    "    words = tweet.split()\n",
    "    \n",
    "    # prepare regex for char filtering\n",
    "    re_punc = re.compile('[%s]' % re.escape(string.punctuation))\n",
    "    \n",
    "    # remove punctuation from each word\n",
    "    words = [re_punc.sub('', w) for w in words]\n",
    "    \n",
    "    # remove remaining tokens that are not alphabetic\n",
    "    words = [word for word in words if word.isalpha() or word == 'covid19']\n",
    "    \n",
    "    # filter out stop words\n",
    "    stop_words = set(stopwords.words('english'))\n",
    "    words = [w for w in words if not w in stop_words]\n",
    "    \n",
    "    # Lemmatization\n",
    "    lemmatizer = WordNetLemmatizer()\n",
    "    words = [lemmatizer.lemmatize(word) for word in words]\n",
    "    \n",
    "    # filter out short tokens\n",
    "    words = [word for word in words if len(word) > 2]\n",
    "        \n",
    "    return \" \".join(words)"
   ]
  },
  {
   "cell_type": "code",
   "execution_count": 15,
   "id": "05bd8800",
   "metadata": {},
   "outputs": [
    {
     "name": "stdout",
     "output_type": "stream",
     "text": [
      "announces algeria outside danger regarding covid19\n"
     ]
    }
   ],
   "source": [
    "print(clean_tweet('WHO announces Algeria outside of danger regarding COVID-19'))"
   ]
  },
  {
   "cell_type": "code",
   "execution_count": 16,
   "id": "109250c4",
   "metadata": {},
   "outputs": [
    {
     "name": "stdout",
     "output_type": "stream",
     "text": [
      "Original tweet:  Populous states can generate large case counts but if you look at the new cases per million today 9 smaller states are showing more cases per million than California or Texas: AL AR ID KS KY LA MS NV and SC. https://t.co/1pYW6cWRaS \n",
      "\n",
      "Pre-processed : populous state generate large case count look new case per million today smaller state showing case per million california texas url \n",
      "\n"
     ]
    }
   ],
   "source": [
    "# Testing the function\n",
    "sampleTweet = df_train['tweet'][4]\n",
    "tokens = clean_tweet(sampleTweet)\n",
    "print('Original tweet: ', sampleTweet,'\\n')\n",
    "print('Pre-processed :', tokens, '\\n')"
   ]
  },
  {
   "cell_type": "markdown",
   "id": "9a7564f7",
   "metadata": {},
   "source": [
    "### Applying pre-processing to training and test data"
   ]
  },
  {
   "cell_type": "code",
   "execution_count": 17,
   "id": "b26d64f8",
   "metadata": {},
   "outputs": [],
   "source": [
    "# Preprocess trainingData\n",
    "df_train['tweet'] = df_train['tweet'].map(lambda x: clean_tweet(x))\n",
    "\n",
    "# Preprocess validationData\n",
    "df_test['tweet'] = df_test['tweet'].map(lambda x: clean_tweet(x))"
   ]
  },
  {
   "cell_type": "markdown",
   "id": "c3aafc54",
   "metadata": {},
   "source": [
    "## 3. Feature Extraction"
   ]
  },
  {
   "cell_type": "markdown",
   "id": "5bd990d7",
   "metadata": {},
   "source": [
    "##### 1. BOW Model"
   ]
  },
  {
   "cell_type": "code",
   "execution_count": 18,
   "id": "542cafce",
   "metadata": {},
   "outputs": [
    {
     "name": "stdout",
     "output_type": "stream",
     "text": [
      "There are 8560 tweets, each of them represented as a 12780 dim feature vector\n"
     ]
    }
   ],
   "source": [
    "from sklearn.feature_extraction.text import CountVectorizer\n",
    "\n",
    "vectorizer = CountVectorizer()\n",
    "X_train_counts = vectorizer.fit_transform(df_train['tweet'])\n",
    "\n",
    "print(\"There are {} tweets, each of them represented as a {} dim feature vector\"\\\n",
    "      .format(X_train_counts.shape[0], X_train_counts.shape[1]))"
   ]
  },
  {
   "cell_type": "code",
   "execution_count": 19,
   "id": "7f450441",
   "metadata": {},
   "outputs": [
    {
     "name": "stdout",
     "output_type": "stream",
     "text": [
      "[[0 0 0 ... 0 0 0]\n",
      " [0 0 0 ... 0 0 0]\n",
      " [0 0 0 ... 0 0 0]\n",
      " ...\n",
      " [0 0 0 ... 0 0 0]\n",
      " [0 0 0 ... 0 0 0]\n",
      " [0 0 0 ... 0 0 0]]\n"
     ]
    }
   ],
   "source": [
    "print(X_train_counts.toarray()) #Feature values\n",
    "# When printed it will seem as if all the values are 0, since it is a very sparse array\n",
    "# Each row is of size 12780, and only few of those words are encountered in a tweet"
   ]
  },
  {
   "cell_type": "code",
   "execution_count": 20,
   "id": "ea7dbd6f",
   "metadata": {},
   "outputs": [
    {
     "name": "stdout",
     "output_type": "stream",
     "text": [
      "Preprocessed tweet: take simple daily precaution help prevent spread respiratory illness like covid19 learn protect coronavirus covid19 url url \n",
      "\n",
      "Occurrencies: \n",
      "coronavirus: 1\n",
      "covid19: 2\n",
      "daily: 1\n",
      "help: 1\n",
      "illness: 1\n",
      "learn: 1\n",
      "like: 1\n",
      "precaution: 1\n",
      "prevent: 1\n",
      "protect: 1\n",
      "respiratory: 1\n",
      "simple: 1\n",
      "spread: 1\n",
      "take: 1\n",
      "url: 2\n"
     ]
    }
   ],
   "source": [
    "counts = X_train_counts.toarray()[10]\n",
    "features = vectorizer.get_feature_names()\n",
    "\n",
    "print('Preprocessed tweet:', df_train['tweet'][10], '\\n')\n",
    "print('Occurrencies: ')\n",
    "for i in range(len(features)):\n",
    "    count = counts[i]\n",
    "    if(count > 0):\n",
    "        print('{}: {}'.format(features[i], count))"
   ]
  },
  {
   "cell_type": "markdown",
   "id": "79e9bd3d",
   "metadata": {},
   "source": [
    "##### 2. TF-IDF Representation"
   ]
  },
  {
   "cell_type": "code",
   "execution_count": 21,
   "id": "8fd29385",
   "metadata": {},
   "outputs": [
    {
     "name": "stdout",
     "output_type": "stream",
     "text": [
      "There are 8560 tweets and 12780 is the size of the vocabulary for all the tweets\n"
     ]
    }
   ],
   "source": [
    "from sklearn.feature_extraction.text import TfidfTransformer\n",
    "\n",
    "tf_transformer = TfidfTransformer(use_idf = False).fit(X_train_counts)\n",
    "X_train_tf = tf_transformer.transform(X_train_counts)\n",
    "X_train_tf.shape\n",
    "print('There are {} tweets and {} is the size of the vocabulary for all the tweets'\\\n",
    "      .format(X_train_tf.shape[0], X_train_tf.shape[1]))"
   ]
  },
  {
   "cell_type": "markdown",
   "id": "9d4cee5f",
   "metadata": {},
   "source": [
    "## 4. Naive Bayes"
   ]
  },
  {
   "cell_type": "markdown",
   "id": "ddc36ee8",
   "metadata": {},
   "source": [
    "#### Model Training"
   ]
  },
  {
   "cell_type": "code",
   "execution_count": 22,
   "id": "830f1d75",
   "metadata": {},
   "outputs": [],
   "source": [
    "from sklearn.pipeline import Pipeline\n",
    "from sklearn.naive_bayes import MultinomialNB\n",
    "from sklearn.model_selection import cross_validate\n",
    "from sklearn.metrics import make_scorer, recall_score\n",
    "\n",
    "pipeline = Pipeline([\n",
    "        ('bow', CountVectorizer()),  \n",
    "        ('tfidf', TfidfTransformer()),  \n",
    "        ('clf', MultinomialNB())\n",
    "    ])\n",
    "\n",
    "scoring = {'prec_macro': 'precision_macro', 'rec_macro': make_scorer(recall_score, average='macro'), 'f1_macro': 'f1_macro', 'accuracy': 'accuracy'}\n",
    "scores = cross_validate(pipeline, df_train['tweet'], df_train['label'], cv = 5, scoring = scoring, return_train_score = True)"
   ]
  },
  {
   "cell_type": "code",
   "execution_count": 23,
   "id": "1a903d18",
   "metadata": {},
   "outputs": [
    {
     "name": "stdout",
     "output_type": "stream",
     "text": [
      "Mean Accuracy: 0.8995327102803738\n"
     ]
    },
    {
     "data": {
      "text/plain": [
       "array([0.89836449, 0.89661215, 0.90303738, 0.89369159, 0.90595794])"
      ]
     },
     "execution_count": 23,
     "metadata": {},
     "output_type": "execute_result"
    }
   ],
   "source": [
    "print('Mean Accuracy:', scores['test_accuracy'].mean())\n",
    "scores['test_accuracy']"
   ]
  },
  {
   "cell_type": "code",
   "execution_count": 24,
   "id": "01745779",
   "metadata": {},
   "outputs": [
    {
     "name": "stdout",
     "output_type": "stream",
     "text": [
      "Mean F1: 0.8986076022495666\n"
     ]
    },
    {
     "data": {
      "text/plain": [
       "array([0.89749138, 0.89546942, 0.90216132, 0.89258198, 0.9053339 ])"
      ]
     },
     "execution_count": 24,
     "metadata": {},
     "output_type": "execute_result"
    }
   ],
   "source": [
    "print('Mean F1:', scores['test_f1_macro'].mean())\n",
    "scores['test_f1_macro']"
   ]
  },
  {
   "cell_type": "code",
   "execution_count": 25,
   "id": "6bf6af4e",
   "metadata": {},
   "outputs": [
    {
     "name": "stdout",
     "output_type": "stream",
     "text": [
      "Mean Precision: 0.9045608836789762\n"
     ]
    },
    {
     "data": {
      "text/plain": [
       "array([0.90279795, 0.90345661, 0.90799496, 0.89983212, 0.90872278])"
      ]
     },
     "execution_count": 25,
     "metadata": {},
     "output_type": "execute_result"
    }
   ],
   "source": [
    "print('Mean Precision:', scores['test_prec_macro'].mean())\n",
    "scores['test_prec_macro']"
   ]
  },
  {
   "cell_type": "code",
   "execution_count": 26,
   "id": "d52fe3e7",
   "metadata": {},
   "outputs": [
    {
     "name": "stdout",
     "output_type": "stream",
     "text": [
      "Mean Recall: 0.8970588235294118\n"
     ]
    },
    {
     "data": {
      "text/plain": [
       "array([0.8960084 , 0.89367778, 0.90058211, 0.89088761, 0.90413822])"
      ]
     },
     "execution_count": 26,
     "metadata": {},
     "output_type": "execute_result"
    }
   ],
   "source": [
    "print('Mean Recall:', scores['test_rec_macro'].mean())\n",
    "scores['test_rec_macro']"
   ]
  },
  {
   "cell_type": "code",
   "execution_count": 27,
   "id": "bfa0af14",
   "metadata": {},
   "outputs": [],
   "source": [
    "fit = pipeline.fit(df_train['tweet'], df_train['label'])"
   ]
  },
  {
   "cell_type": "markdown",
   "id": "5cc2615c",
   "metadata": {},
   "source": [
    "#### Prediction on test data"
   ]
  },
  {
   "cell_type": "code",
   "execution_count": 28,
   "id": "ab1089e0",
   "metadata": {},
   "outputs": [],
   "source": [
    "predictions = pipeline.predict(df_test['tweet'])"
   ]
  },
  {
   "cell_type": "markdown",
   "id": "6a69f5c1",
   "metadata": {},
   "source": [
    "#### Confusion Matrix"
   ]
  },
  {
   "cell_type": "code",
   "execution_count": 30,
   "id": "1d6e90eb",
   "metadata": {
    "scrolled": true
   },
   "outputs": [
    {
     "data": {
      "image/png": "[encoded data removed]",
      "text/plain": [
       "<Figure size 504x360 with 2 Axes>"
      ]
     },
     "metadata": {
      "needs_background": "light"
     },
     "output_type": "display_data"
    }
   ],
   "source": [
    "# Plot confusion matrix\n",
    "import pandas as pd\n",
    "import seaborn as sbn\n",
    "import matplotlib.pyplot as plt\n",
    "\n",
    "data = {'true_labels': df_test['label'], 'predicted_labels': predictions}\n",
    "\n",
    "df = pd.DataFrame(data, columns = ['true_labels', 'predicted_labels'])\n",
    "\n",
    "confusion_matrix = pd.crosstab(\n",
    "    df['true_labels'], \n",
    "    df['predicted_labels'], \n",
    "    rownames = ['True Label'], \n",
    "    colnames = ['Predicted Label']\n",
    "    )\n",
    "\n",
    "fig, ax = plt.subplots(figsize=(7,5))\n",
    "sbn.heatmap(confusion_matrix, annot = True, linewidths = 1, fmt = 'd', cmap=\"Blues\")\n",
    "plt.title(\"Confusion matrix of Naive Bayes on Test Data\")\n",
    "plt.show()"
   ]
  },
  {
   "cell_type": "markdown",
   "id": "d4a69f25",
   "metadata": {},
   "source": [
    "#### Classification Reports"
   ]
  },
  {
   "cell_type": "code",
   "execution_count": 43,
   "id": "d3450c8a",
   "metadata": {},
   "outputs": [
    {
     "name": "stdout",
     "output_type": "stream",
     "text": [
      "_________________Naive Bayes Classifier______________\n",
      "\n",
      "              precision    recall  f1-score   support\n",
      "\n",
      "        fake     0.9502    0.8598    0.9027      1020\n",
      "        real     0.8825    0.9589    0.9191      1120\n",
      "\n",
      "    accuracy                         0.9117      2140\n",
      "   macro avg     0.9163    0.9094    0.9109      2140\n",
      "weighted avg     0.9147    0.9117    0.9113      2140\n",
      "\n"
     ]
    }
   ],
   "source": [
    "from sklearn.metrics import classification_report,confusion_matrix\n",
    "\n",
    "print('_________________Naive Bayes Classifier______________\\n')\n",
    "print(classification_report(df_test['label'], predictions, digits = 4))"
   ]
  },
  {
   "cell_type": "code",
   "execution_count": 44,
   "id": "a245bc91",
   "metadata": {},
   "outputs": [
    {
     "name": "stdout",
     "output_type": "stream",
     "text": [
      "Accurracy:  0.9116822429906543\n",
      "F1-Score:  0.9113105755832154\n",
      "Precision Score:  0.91474928181034\n",
      "Recall Score:  0.9116822429906543\n"
     ]
    }
   ],
   "source": [
    "from sklearn.metrics import accuracy_score, f1_score, precision_score, recall_score\n",
    "\n",
    "# Results\n",
    "print('Accurracy: ', accuracy_score(df_test['label'], predictions))\n",
    "print('F1-Score: ', f1_score(df_test['label'], predictions, average='weighted'))\n",
    "print('Precision Score: ', precision_score(df_test['label'], predictions, average='weighted'))\n",
    "print('Recall Score: ', recall_score(df_test['label'], predictions, average='weighted'))"
   ]
  }
 ],
 "metadata": {
  "kernelspec": {
   "display_name": "Python 3",
   "language": "python",
   "name": "python3"
  },
  "language_info": {
   "codemirror_mode": {
    "name": "ipython",
    "version": 3
   },
   "file_extension": ".py",
   "mimetype": "text/x-python",
   "name": "python",
   "nbconvert_exporter": "python",
   "pygments_lexer": "ipython3",
   "version": "3.8.8"
  }
 },
 "nbformat": 4,
 "nbformat_minor": 5
}
