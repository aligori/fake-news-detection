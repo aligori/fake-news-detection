{
 "cells": [
  {
   "cell_type": "markdown",
   "id": "0b8cb037",
   "metadata": {},
   "source": [
    "# **Covid-19 Fake News detection using Naive Bayes Classifier**"
   ]
  },
  {
   "cell_type": "markdown",
   "id": "237bd1a7",
   "metadata": {},
   "source": [
    "## 1. Dataset Loading and visualisation"
   ]
  },
  {
   "cell_type": "markdown",
   "id": "73d7b5f1",
   "metadata": {},
   "source": [
    "### Required imports"
   ]
  },
  {
   "cell_type": "code",
   "execution_count": 1,
   "id": "69e4e5c6",
   "metadata": {},
   "outputs": [],
   "source": [
    "# Used for dataset loading and visualisation\n",
    "import pandas as pd\n",
    "import seaborn as seaborn\n",
    "import matplotlib.pyplot as plt"
   ]
  },
  {
   "cell_type": "markdown",
   "id": "aac04e2e",
   "metadata": {},
   "source": [
    "### Dataset Loading"
   ]
  },
  {
   "cell_type": "code",
   "execution_count": 2,
   "id": "faec4b66",
   "metadata": {},
   "outputs": [],
   "source": [
    "# Load training dataset into a pandas dataframe\n",
    "df_train = pd.read_csv('datasets/TrainData.csv')\n",
    "\n",
    "# Load validation dataset into a pandas dataframe\n",
    "df_val = pd.read_csv('datasets/ValData.csv')\n",
    "\n",
    "# Load testing dataset into a pandas dataframe\n",
    "df_test = pd.read_csv('datasets/TestData.csv')"
   ]
  },
  {
   "cell_type": "code",
   "execution_count": 3,
   "id": "59fb2571",
   "metadata": {},
   "outputs": [
    {
     "data": {
      "text/html": [
       "<div>\n",
       "<style scoped>\n",
       "    .dataframe tbody tr th:only-of-type {\n",
       "        vertical-align: middle;\n",
       "    }\n",
       "\n",
       "    .dataframe tbody tr th {\n",
       "        vertical-align: top;\n",
       "    }\n",
       "\n",
       "    .dataframe thead th {\n",
       "        text-align: right;\n",
       "    }\n",
       "</style>\n",
       "<table border=\"1\" class=\"dataframe\">\n",
       "  <thead>\n",
       "    <tr style=\"text-align: right;\">\n",
       "      <th></th>\n",
       "      <th>id</th>\n",
       "      <th>tweet</th>\n",
       "      <th>label</th>\n",
       "    </tr>\n",
       "  </thead>\n",
       "  <tbody>\n",
       "    <tr>\n",
       "      <th>0</th>\n",
       "      <td>1</td>\n",
       "      <td>The CDC currently reports 99031 deaths. In gen...</td>\n",
       "      <td>real</td>\n",
       "    </tr>\n",
       "    <tr>\n",
       "      <th>1</th>\n",
       "      <td>2</td>\n",
       "      <td>States reported 1121 deaths a small rise from ...</td>\n",
       "      <td>real</td>\n",
       "    </tr>\n",
       "    <tr>\n",
       "      <th>2</th>\n",
       "      <td>3</td>\n",
       "      <td>Politically Correct Woman (Almost) Uses Pandem...</td>\n",
       "      <td>fake</td>\n",
       "    </tr>\n",
       "    <tr>\n",
       "      <th>3</th>\n",
       "      <td>4</td>\n",
       "      <td>#IndiaFightsCorona: We have 1524 #COVID testin...</td>\n",
       "      <td>real</td>\n",
       "    </tr>\n",
       "    <tr>\n",
       "      <th>4</th>\n",
       "      <td>5</td>\n",
       "      <td>Populous states can generate large case counts...</td>\n",
       "      <td>real</td>\n",
       "    </tr>\n",
       "  </tbody>\n",
       "</table>\n",
       "</div>"
      ],
      "text/plain": [
       "   id                                              tweet label\n",
       "0   1  The CDC currently reports 99031 deaths. In gen...  real\n",
       "1   2  States reported 1121 deaths a small rise from ...  real\n",
       "2   3  Politically Correct Woman (Almost) Uses Pandem...  fake\n",
       "3   4  #IndiaFightsCorona: We have 1524 #COVID testin...  real\n",
       "4   5  Populous states can generate large case counts...  real"
      ]
     },
     "execution_count": 3,
     "metadata": {},
     "output_type": "execute_result"
    }
   ],
   "source": [
    "# 5 sample rows from the training dataset\n",
    "df_train.head(5)"
   ]
  },
  {
   "cell_type": "code",
   "execution_count": 4,
   "id": "64a05b33",
   "metadata": {
    "scrolled": true
   },
   "outputs": [
    {
     "data": {
      "text/html": [
       "<div>\n",
       "<style scoped>\n",
       "    .dataframe tbody tr th:only-of-type {\n",
       "        vertical-align: middle;\n",
       "    }\n",
       "\n",
       "    .dataframe tbody tr th {\n",
       "        vertical-align: top;\n",
       "    }\n",
       "\n",
       "    .dataframe thead th {\n",
       "        text-align: right;\n",
       "    }\n",
       "</style>\n",
       "<table border=\"1\" class=\"dataframe\">\n",
       "  <thead>\n",
       "    <tr style=\"text-align: right;\">\n",
       "      <th></th>\n",
       "      <th>id</th>\n",
       "      <th>tweet</th>\n",
       "      <th>label</th>\n",
       "    </tr>\n",
       "  </thead>\n",
       "  <tbody>\n",
       "    <tr>\n",
       "      <th>0</th>\n",
       "      <td>1</td>\n",
       "      <td>Chinese converting to Islam after realising th...</td>\n",
       "      <td>fake</td>\n",
       "    </tr>\n",
       "    <tr>\n",
       "      <th>1</th>\n",
       "      <td>2</td>\n",
       "      <td>11 out of 13 people (from the Diamond Princess...</td>\n",
       "      <td>fake</td>\n",
       "    </tr>\n",
       "    <tr>\n",
       "      <th>2</th>\n",
       "      <td>3</td>\n",
       "      <td>COVID-19 Is Caused By A Bacterium, Not Virus A...</td>\n",
       "      <td>fake</td>\n",
       "    </tr>\n",
       "    <tr>\n",
       "      <th>3</th>\n",
       "      <td>4</td>\n",
       "      <td>Mike Pence in RNC speech praises Donald Trump’...</td>\n",
       "      <td>fake</td>\n",
       "    </tr>\n",
       "    <tr>\n",
       "      <th>4</th>\n",
       "      <td>5</td>\n",
       "      <td>6/10 Sky's @EdConwaySky explains the latest #C...</td>\n",
       "      <td>real</td>\n",
       "    </tr>\n",
       "  </tbody>\n",
       "</table>\n",
       "</div>"
      ],
      "text/plain": [
       "   id                                              tweet label\n",
       "0   1  Chinese converting to Islam after realising th...  fake\n",
       "1   2  11 out of 13 people (from the Diamond Princess...  fake\n",
       "2   3  COVID-19 Is Caused By A Bacterium, Not Virus A...  fake\n",
       "3   4  Mike Pence in RNC speech praises Donald Trump’...  fake\n",
       "4   5  6/10 Sky's @EdConwaySky explains the latest #C...  real"
      ]
     },
     "execution_count": 4,
     "metadata": {},
     "output_type": "execute_result"
    }
   ],
   "source": [
    "# 5 first rows from the training dataset\n",
    "df_val.head(5)"
   ]
  },
  {
   "cell_type": "code",
   "execution_count": 5,
   "id": "e939f0a5",
   "metadata": {},
   "outputs": [
    {
     "data": {
      "text/html": [
       "<div>\n",
       "<style scoped>\n",
       "    .dataframe tbody tr th:only-of-type {\n",
       "        vertical-align: middle;\n",
       "    }\n",
       "\n",
       "    .dataframe tbody tr th {\n",
       "        vertical-align: top;\n",
       "    }\n",
       "\n",
       "    .dataframe thead th {\n",
       "        text-align: right;\n",
       "    }\n",
       "</style>\n",
       "<table border=\"1\" class=\"dataframe\">\n",
       "  <thead>\n",
       "    <tr style=\"text-align: right;\">\n",
       "      <th></th>\n",
       "      <th>id</th>\n",
       "      <th>tweet</th>\n",
       "      <th>label</th>\n",
       "    </tr>\n",
       "  </thead>\n",
       "  <tbody>\n",
       "    <tr>\n",
       "      <th>0</th>\n",
       "      <td>1</td>\n",
       "      <td>Our daily update is published. States reported...</td>\n",
       "      <td>real</td>\n",
       "    </tr>\n",
       "    <tr>\n",
       "      <th>1</th>\n",
       "      <td>2</td>\n",
       "      <td>Alfalfa is the only cure for COVID-19.</td>\n",
       "      <td>fake</td>\n",
       "    </tr>\n",
       "    <tr>\n",
       "      <th>2</th>\n",
       "      <td>3</td>\n",
       "      <td>President Trump Asked What He Would Do If He W...</td>\n",
       "      <td>fake</td>\n",
       "    </tr>\n",
       "    <tr>\n",
       "      <th>3</th>\n",
       "      <td>4</td>\n",
       "      <td>States reported 630 deaths. We are still seein...</td>\n",
       "      <td>real</td>\n",
       "    </tr>\n",
       "    <tr>\n",
       "      <th>4</th>\n",
       "      <td>5</td>\n",
       "      <td>This is the sixth time a global health emergen...</td>\n",
       "      <td>real</td>\n",
       "    </tr>\n",
       "  </tbody>\n",
       "</table>\n",
       "</div>"
      ],
      "text/plain": [
       "   id                                              tweet label\n",
       "0   1  Our daily update is published. States reported...  real\n",
       "1   2             Alfalfa is the only cure for COVID-19.  fake\n",
       "2   3  President Trump Asked What He Would Do If He W...  fake\n",
       "3   4  States reported 630 deaths. We are still seein...  real\n",
       "4   5  This is the sixth time a global health emergen...  real"
      ]
     },
     "execution_count": 5,
     "metadata": {},
     "output_type": "execute_result"
    }
   ],
   "source": [
    "# 5 sample rows from the training dataset\n",
    "df_test.head(5)"
   ]
  },
  {
   "cell_type": "markdown",
   "id": "d68b349a",
   "metadata": {},
   "source": [
    "### Statistics"
   ]
  },
  {
   "cell_type": "code",
   "execution_count": 6,
   "id": "86621bfe",
   "metadata": {},
   "outputs": [
    {
     "name": "stdout",
     "output_type": "stream",
     "text": [
      "There are 6420 tweets and 3 columns for each tweet.\n",
      "Is there any null value?  False\n",
      "The distribution of data into classes is:\n"
     ]
    },
    {
     "data": {
      "text/plain": [
       "real    3360\n",
       "fake    3060\n",
       "Name: label, dtype: int64"
      ]
     },
     "execution_count": 6,
     "metadata": {},
     "output_type": "execute_result"
    }
   ],
   "source": [
    "# Training Data checking\n",
    "shape = df_train.shape\n",
    "print('There are {0} tweets and {1} columns for each tweet.'.format(shape[0], shape[1]))\n",
    "print('Is there any null value? ', df_train.isnull().values.any())\n",
    "print('The distribution of data into classes is:')\n",
    "df_train['label'].value_counts()"
   ]
  },
  {
   "cell_type": "code",
   "execution_count": 7,
   "id": "c7a7e06e",
   "metadata": {},
   "outputs": [
    {
     "name": "stdout",
     "output_type": "stream",
     "text": [
      "There are 2140 tweets and 3 columns for each tweet.\n",
      "Is there any null value?  False\n",
      "The distribution of data into classes is:\n"
     ]
    },
    {
     "data": {
      "text/plain": [
       "real    1120\n",
       "fake    1020\n",
       "Name: label, dtype: int64"
      ]
     },
     "execution_count": 7,
     "metadata": {},
     "output_type": "execute_result"
    }
   ],
   "source": [
    "# Validation Data checking\n",
    "shape = df_val.shape\n",
    "print('There are {0} tweets and {1} columns for each tweet.'.format(shape[0], shape[1]))\n",
    "print('Is there any null value? ', df_val.isnull().values.any())\n",
    "print('The distribution of data into classes is:')\n",
    "df_val['label'].value_counts()"
   ]
  },
  {
   "cell_type": "code",
   "execution_count": 8,
   "id": "70afafbc",
   "metadata": {},
   "outputs": [
    {
     "name": "stdout",
     "output_type": "stream",
     "text": [
      "There are 2140 tweets and 3 columns for each tweet.\n",
      "Is there any null value?  False\n",
      "The distribution of data into classes is:\n"
     ]
    },
    {
     "data": {
      "text/plain": [
       "real    1120\n",
       "fake    1020\n",
       "Name: label, dtype: int64"
      ]
     },
     "execution_count": 8,
     "metadata": {},
     "output_type": "execute_result"
    }
   ],
   "source": [
    "# Testing Data checking\n",
    "shape = df_test.shape\n",
    "print('There are {0} tweets and {1} columns for each tweet.'.format(shape[0], shape[1]))\n",
    "print('Is there any null value? ', df_test.isnull().values.any())\n",
    "print('The distribution of data into classes is:')\n",
    "df_test['label'].value_counts()"
   ]
  },
  {
   "cell_type": "markdown",
   "id": "70898f2c",
   "metadata": {},
   "source": [
    "### Droping the columns that are not necessary"
   ]
  },
  {
   "cell_type": "code",
   "execution_count": 9,
   "id": "55e1b59f",
   "metadata": {},
   "outputs": [
    {
     "data": {
      "text/html": [
       "<div>\n",
       "<style scoped>\n",
       "    .dataframe tbody tr th:only-of-type {\n",
       "        vertical-align: middle;\n",
       "    }\n",
       "\n",
       "    .dataframe tbody tr th {\n",
       "        vertical-align: top;\n",
       "    }\n",
       "\n",
       "    .dataframe thead th {\n",
       "        text-align: right;\n",
       "    }\n",
       "</style>\n",
       "<table border=\"1\" class=\"dataframe\">\n",
       "  <thead>\n",
       "    <tr style=\"text-align: right;\">\n",
       "      <th></th>\n",
       "      <th>tweet</th>\n",
       "      <th>label</th>\n",
       "    </tr>\n",
       "  </thead>\n",
       "  <tbody>\n",
       "    <tr>\n",
       "      <th>0</th>\n",
       "      <td>The CDC currently reports 99031 deaths. In gen...</td>\n",
       "      <td>real</td>\n",
       "    </tr>\n",
       "    <tr>\n",
       "      <th>1</th>\n",
       "      <td>States reported 1121 deaths a small rise from ...</td>\n",
       "      <td>real</td>\n",
       "    </tr>\n",
       "  </tbody>\n",
       "</table>\n",
       "</div>"
      ],
      "text/plain": [
       "                                               tweet label\n",
       "0  The CDC currently reports 99031 deaths. In gen...  real\n",
       "1  States reported 1121 deaths a small rise from ...  real"
      ]
     },
     "execution_count": 9,
     "metadata": {},
     "output_type": "execute_result"
    }
   ],
   "source": [
    "columns_to_drop = ['id']\n",
    "df_train = df_train.drop(columns_to_drop, axis = 1)\n",
    "df_val = df_val.drop(columns_to_drop, axis = 1)\n",
    "df_test = df_test.drop(columns_to_drop, axis = 1)\n",
    "df_train.head(2)"
   ]
  },
  {
   "cell_type": "markdown",
   "id": "9a90c6e9",
   "metadata": {},
   "source": [
    "### Merging test and val data to use in k-fold cross validation"
   ]
  },
  {
   "cell_type": "code",
   "execution_count": 10,
   "id": "5587a186",
   "metadata": {},
   "outputs": [],
   "source": [
    "df_train = pd.concat([df_train, df_val], ignore_index=True)"
   ]
  },
  {
   "cell_type": "markdown",
   "id": "720b433b",
   "metadata": {},
   "source": [
    "### Plotting the class-wise distribution of datasets"
   ]
  },
  {
   "cell_type": "code",
   "execution_count": 11,
   "id": "fa582378",
   "metadata": {},
   "outputs": [
    {
     "data": {
      "image/png": "[encoded data removed]",
      "text/plain": [
       "<Figure size 288x288 with 1 Axes>"
      ]
     },
     "metadata": {
      "needs_background": "light"
     },
     "output_type": "display_data"
    }
   ],
   "source": [
    "plt.figure(figsize=(4, 4))\n",
    "\n",
    "ax = seaborn.countplot(\n",
    "    x = df_train['label'],  \n",
    "    data = df_train, \n",
    "    order = df_train['label'].value_counts().index \n",
    ")\n",
    "\n",
    "ax.set_title('Distribution of tweets into classes for the train-val dataset', fontsize = 11)\n",
    "ax.set_xlabel ('Class Label')\n",
    "ax.set_ylabel ('Number of tweets')\n",
    "\n",
    "for p, label in zip(ax.patches, df_train['label'].value_counts()):\n",
    "    ax.annotate(label, (p.get_x() + 0.25, p.get_height() + 0.5), weight = 'bold')"
   ]
  },
  {
   "cell_type": "code",
   "execution_count": 12,
   "id": "0626ac57",
   "metadata": {},
   "outputs": [
    {
     "data": {
      "image/png": "[encoded data removed]",
      "text/plain": [
       "<Figure size 216x288 with 1 Axes>"
      ]
     },
     "metadata": {
      "needs_background": "light"
     },
     "output_type": "display_data"
    }
   ],
   "source": [
    "plt.figure(figsize=(3,4))\n",
    "\n",
    "ax = seaborn.countplot(\n",
    "    x = df_test['label'], \n",
    "    data = df_test, \n",
    "    order = df_test['label'].value_counts().index \n",
    "    )\n",
    "\n",
    "ax.set_title('Test Data', fontsize=11)\n",
    "ax.set_xlabel ('label')\n",
    "ax.set_ylabel ('count')\n",
    "\n",
    "for p, label in zip(ax.patches, df_test['label'].value_counts()):\n",
    "    ax.annotate(label, (p.get_x() + 0.25, p.get_height() + 0.5), weight = 'bold')"
   ]
  },
  {
   "cell_type": "markdown",
   "id": "2089ca15",
   "metadata": {},
   "source": [
    "## 2. Pre-processing"
   ]
  },
  {
   "cell_type": "markdown",
   "id": "b7a43697",
   "metadata": {},
   "source": [
    "### Required imports"
   ]
  },
  {
   "cell_type": "code",
   "execution_count": 13,
   "id": "36cad504",
   "metadata": {},
   "outputs": [
    {
     "name": "stderr",
     "output_type": "stream",
     "text": [
      "[nltk_data] Downloading package stopwords to\n",
      "[nltk_data]     C:\\Users\\DELL\\AppData\\Roaming\\nltk_data...\n",
      "[nltk_data]   Package stopwords is already up-to-date!\n"
     ]
    }
   ],
   "source": [
    "import nltk\n",
    "nltk.download('stopwords')\n",
    "from nltk.corpus import stopwords\n",
    "import contractions\n",
    "import string\n",
    "import re\n",
    "from collections import Counter\n",
    "from numpy import array"
   ]
  },
  {
   "cell_type": "markdown",
   "id": "111aa79b",
   "metadata": {},
   "source": [
    "### Pre-processing Function"
   ]
  },
  {
   "cell_type": "code",
   "execution_count": 14,
   "id": "11453b9a",
   "metadata": {},
   "outputs": [],
   "source": [
    "def clean_tweet(tweet):\n",
    "    # lowercasing the text\n",
    "    tweet = tweet.lower()\n",
    "    \n",
    "    # URL normalization\n",
    "    url_pattern = '(\\w+:\\/\\/\\S+)'\n",
    "    tweet = re.sub(url_pattern, 'url', tweet)\n",
    "    \n",
    "    # Mentions normalization\n",
    "    mention_pattern = '(\\^@[._A-Za-z0-9]+)'\n",
    "    tweet = re.sub(mention_pattern, '@user', tweet)\n",
    "    \n",
    "    # Contractions expansion\n",
    "    tweet = contractions.fix(tweet)\n",
    "    \n",
    "    # split into tokens by white space\n",
    "    words = tweet.split()\n",
    "    \n",
    "    # prepare regex for char filtering\n",
    "    re_punc = re.compile('[%s]' % re.escape(string.punctuation))\n",
    "    \n",
    "    # remove punctuation from each word\n",
    "    words = [re_punc.sub('', w) for w in words]\n",
    "    \n",
    "    # remove remaining tokens that are not alphabetic\n",
    "    words = [word for word in words if word.isalpha()]\n",
    "    \n",
    "    # filter out stop words\n",
    "    stop_words = set(stopwords.words('english'))\n",
    "    words = [w for w in words if not w in stop_words]\n",
    "    \n",
    "    # filter out short tokens\n",
    "    words = [word for word in words if len(word) > 2]\n",
    "    \n",
    "    return \" \".join(words)"
   ]
  },
  {
   "cell_type": "code",
   "execution_count": 15,
   "id": "05bd8800",
   "metadata": {},
   "outputs": [
    {
     "name": "stdout",
     "output_type": "stream",
     "text": [
      "announces algeria outside danger regarding\n"
     ]
    }
   ],
   "source": [
    "print(clean_tweet('WHO announces Algeria outside of danger regarding COVID-19'))"
   ]
  },
  {
   "cell_type": "code",
   "execution_count": 16,
   "id": "109250c4",
   "metadata": {},
   "outputs": [
    {
     "name": "stdout",
     "output_type": "stream",
     "text": [
      "Original tweet:  Populous states can generate large case counts but if you look at the new cases per million today 9 smaller states are showing more cases per million than California or Texas: AL AR ID KS KY LA MS NV and SC. https://t.co/1pYW6cWRaS \n",
      "\n",
      "Pre-processed : populous states generate large case counts look new cases per million today smaller states showing cases per million california texas url \n",
      "\n"
     ]
    }
   ],
   "source": [
    "# Testing the function\n",
    "sampleTweet = df_train['tweet'][4]\n",
    "tokens = clean_tweet(sampleTweet)\n",
    "print('Original tweet: ', sampleTweet,'\\n')\n",
    "print('Pre-processed :', tokens, '\\n')"
   ]
  },
  {
   "cell_type": "markdown",
   "id": "9a7564f7",
   "metadata": {},
   "source": [
    "### Applying pre-processing to training and validation data"
   ]
  },
  {
   "cell_type": "code",
   "execution_count": 17,
   "id": "b26d64f8",
   "metadata": {},
   "outputs": [],
   "source": [
    "# Preprocess trainingData\n",
    "df_train['tweet'] = df_train['tweet'].map(lambda x: clean_tweet(x))\n",
    "\n",
    "# Preprocess validationData\n",
    "df_val['tweet'] = df_val['tweet'].map(lambda x: clean_tweet(x))"
   ]
  },
  {
   "cell_type": "markdown",
   "id": "c3aafc54",
   "metadata": {},
   "source": [
    "## 3. Feature Extraction"
   ]
  },
  {
   "cell_type": "markdown",
   "id": "5bd990d7",
   "metadata": {},
   "source": [
    "##### 1. BOW Model"
   ]
  },
  {
   "cell_type": "code",
   "execution_count": 18,
   "id": "542cafce",
   "metadata": {},
   "outputs": [
    {
     "name": "stdout",
     "output_type": "stream",
     "text": [
      "There are 8560 tweets, each of them represented as a 14139 dim feature vector\n"
     ]
    }
   ],
   "source": [
    "from sklearn.feature_extraction.text import CountVectorizer\n",
    "\n",
    "vectorizer = CountVectorizer()\n",
    "X_train_counts = vectorizer.fit_transform(df_train['tweet'])\n",
    "\n",
    "print(\"There are {} tweets, each of them represented as a {} dim feature vector\"\\\n",
    "      .format(X_train_counts.shape[0], X_train_counts.shape[1]))"
   ]
  },
  {
   "cell_type": "code",
   "execution_count": 19,
   "id": "7f450441",
   "metadata": {},
   "outputs": [
    {
     "name": "stdout",
     "output_type": "stream",
     "text": [
      "['aadab', 'aadajoli', 'aaiofficial', 'aaj', 'aajtak', 'aamaadmiparty', 'aamctoday', 'aamir', 'aampe', 'aampes', 'aap', 'aaradhya', 'ababa', 'abacha', 'abakaliki', 'abandon', 'abandoned', 'abating', 'abba', 'abbasi', 'abbott', 'abbottnews', 'abbreviation', 'abbys', 'abc', 'abcfactcheck', 'abcmediawatch', 'abcworldnews', 'abdicated', 'abdul', 'abdulaziz', 'abhigyan', 'abhishek', 'abia', 'abide', 'ability', 'able', 'abledoc', 'ableg', 'abnormally', 'aboard', 'aborted', 'abortion', 'abound', 'aboveinflation', 'aboveremained', 'abp', 'abpnews', 'abraham', 'abruptly', 'abscbn', 'absence', 'absent', 'absentee', 'absolute', 'absolutely', 'absorb', 'absorbed', 'abt', 'abubakar', 'abuja', 'abundantly', 'abused', 'abysmal', 'aca', 'academic', 'academy', 'acalabrutinib', 'acc', 'accelerate', 'accelerates', 'accelerating', 'acceleration', 'accelerator', 'acceleratordrtedros', 'accept', 'acceptable', 'accepted', 'access', 'accessdrtedros', 'accessibility', 'accessible', 'accident', 'accidental', 'accidentally', 'accommodate', 'accommodations', 'accompanies', 'accompany', 'accompanying', 'accomplish', 'according', 'accordingly', 'account', 'accountable', 'accounted', 'accounting', 'accounts', 'accredited', 'accunalysis', 'accuracy', 'accurate', 'accurately', 'accuse', 'accused', 'accuses', 'accusing', 'acetylcysteine', 'aches', 'achha', 'achievable', 'achieve', 'achieved', 'achievement', 'achievements', 'achieves', 'achieving', 'achristmascarol', 'acid', 'acidic', 'acidosis', 'acknowledge', 'acmadotgov', 'acoss', 'acquire', 'acquired', 'acquiring', 'acres', 'acronym', 'across', 'acrosstheboard', 'act', 'actaccelerator', 'acted', 'acting', 'action', 'actionnot', 'actions', 'activated', 'activates', 'activating', 'activation', 'active', 'activecases', 'actively', 'activist', 'activists', 'activities', 'activity', 'actnow', 'actor', 'actors', 'actress', 'acts', 'actual', 'actually', 'actuals', 'acute', 'acuteflaccidmyelitis', 'acutely', 'adaab', 'adam', 'adamawa', 'adamjkucharski', 'adammccu', 'adamsilver', 'adamwulf', 'adaptable', 'adapted', 'adapts', 'add', 'added', 'addeddrtedros', 'adding', 'addis', 'addition', 'additional', 'additionally', 'additive', 'address', 'addresses', 'addressing', 'adds', 'adelaide', 'adeline', 'adequate', 'adequately', 'adf', 'adhaan', 'adhanom', 'adhere', 'adherence', 'adhering', 'adhesive', 'adiabo', 'aditya', 'adjust', 'adjusted', 'adjusting', 'adjustment', 'adjustments', 'adjusts', 'admin', 'administer', 'administered', 'administration', 'administrations', 'administrative', 'administrator', 'administrators', 'admins', 'admission', 'admissions', 'admit', 'admited', 'admits', 'admittance', 'admitted', 'admittedly', 'admitting', 'adolescents', 'adolescentsdrtedros', 'adopt', 'adopted', 'adoption', 'adorned', 'adria', 'ads', 'adtd', 'adult', 'adults', 'advance', 'advanced', 'advances', 'advantage', 'adversary', 'adverse', 'advertisement', 'advertising', 'advice', 'adviced', 'advices', 'advise', 'advised', 'adviser', 'advisers', 'advises', 'advising', 'advisor', 'advisories', 'advisory', 'advocacy', 'advocates', 'aei', 'aerobridges', 'aerodynamic', 'aerosolized', 'aerosols', 'aest', 'afaik', 'afaracare', 'afewpoints', 'affairs', 'affect', 'affected', 'affecting', 'affects', 'afffecting', 'affiliate', 'affiliated', 'afford', 'affordable', 'afghanistan', 'afm', 'afp', 'afraid', 'afresh', 'africa', 'africacdc', 'african', 'africans', 'africathe', 'afterhours', 'afternoon', 'afterwards', 'afzaal', 'againdrtedros', 'againt', 'againtoday', 'agardenpath', 'agarwal', 'age', 'aged', 'agedcare', 'agencies', 'agency', 'agenda', 'agent', 'agents', 'ages', 'ageusia', 'agewise', 'aggregate', 'aggregated', 'aggregation', 'aggression', 'aggressive', 'aggressively', 'agitated', 'agniveer', 'ago', 'agowe', 'agra', 'agree', 'agreed', 'agreeing', 'agreement', 'agreements', 'agrees', 'aground', 'ags', 'aguascalientes', 'ahead', 'ahmedabad', 'aid', 'aidanisagirl', 'aide', 'aided', 'aides', 'aiding', 'aids', 'aidthousands', 'aiims', 'aiimsnewdelhi', 'ailments', 'aim', 'aimed', 'aimim', 'aims', 'aintropy', 'air', 'airborne', 'aired', 'aires', 'airflow', 'airing', 'airline', 'airlines', 'airlocked', 'airnewsalerts', 'airport', 'airports', 'airs', 'airspace', 'airway', 'airways', 'aisha', 'aishwarya', 'aitonline', 'ajdlinux', 'ajenglish', 'aka', 'akanirelo', 'akbar', 'akbarpur', 'akira', 'akl', 'akwa', 'alabama', 'alaikum', 'alameda', 'alamerqld', 'alanlcit', 'alappuzha', 'alarm', 'alarming', 'alaska', 'alaskadhss', 'alazhar', 'albany', 'albendazole', 'alberta', 'alberto', 'album', 'alcohol', 'alcoholbased', 'alcoholchangeuk', 'alcoholfree', 'alcoholic', 'aldi', 'aled', 'alegre', 'alert', 'alerted', 'alertness', 'alerts', 'alexandria', 'alexismadrigal', 'alexmahadevan', 'alfa', 'algeria', 'algerian', 'ali', 'alien', 'aliens', 'alikodangotefdn', 'alistairhaimes', 'alive', 'alkaline', 'alkalize', 'allah', 'allahs', 'allahu', 'alledegedly', 'allegations', 'alleged', 'allegedly', 'allegheny', 'allergic', 'allergies', 'allergy', 'allergyamp', 'alleviate', 'alleyesonkentucky', 'allies', 'alllivesmatter', 'allocate', 'allocated', 'allocating', 'allocation', 'allow', 'allowance', 'allowances', 'allowed', 'allowing', 'allows', 'alltime', 'almost', 'alone', 'along', 'alongside', 'alot', 'alphons', 'already', 'also', 'alsolike', 'alsounder', 'alt', 'alter', 'altered', 'altering', 'alternate', 'alternative', 'alternatives', 'although', 'alukas', 'alumni', 'always', 'alykatzz', 'alyoubi', 'amal', 'amaramarasingam', 'amatitlán', 'amazed', 'amazing', 'amazon', 'amazonas', 'amazondrtedros', 'ambiguous', 'ambulance', 'ambulances', 'amd', 'amendment', 'america', 'american', 'americans', 'americas', 'americold', 'amermedicalassn', 'amid', 'amidst', 'aminu', 'amish', 'amit', 'amitabh', 'amitabhbachchan', 'among', 'amongst', 'amor', 'amount', 'amounting', 'amounts', 'amoxi', 'amp', 'amplified', 'amplitude', 'amply', 'amr', 'amtrehan', 'amusement', 'ana', 'anaesthesia', 'anahita', 'analyse', 'analyses', 'analysing', 'analysis', 'analysisdrtedros', 'analysts', 'analytics', 'anambra', 'anand', 'anant', 'anarchists', 'anatomy', 'anchor', 'ancient', 'andaman', 'anderson', 'andhra', 'andhrapradesh', 'andor', 'andra', 'andrew', 'andrewlawrence', 'andrews', 'andrey', 'android', 'andry', 'andré', 'andy', 'andyspecht', 'andywarhol', 'angel', 'angela', 'angeles', 'angelina', 'anger', 'angieholan', 'angierasmussen', 'angiotensinconverting', 'angry', 'anhembi', 'ani', 'anidigital', 'anil', 'animal', 'animalcrossing', 'animalhusbandry', 'animals', 'anise', 'anita', 'anjanaomkashyap', 'annaamatorights', 'annagconnell', 'annexure', 'annita', 'anniversary', 'announce', 'announced', 'announcement', 'announcements', 'announces', 'announcing', 'annoying', 'annoyingly', 'annual', 'annually', 'anonymous', 'anonymously', 'anosmia', 'another', 'ansari', 'answer', 'answered', 'answering', 'answers', 'ant', 'anteater', 'antennas', 'anthem', 'anthony', 'anti', 'antibiotic', 'antibiotics', 'antiblackness', 'antibodies', 'antibody', 'antichinese', 'anticipated', 'anticipating', 'anticoagulants', 'anticorona', 'anticoronavirus', 'anticovid', 'antidote', 'antidotes', 'antifa', 'antigen', 'antigens', 'antihistamines', 'antiinflammatories', 'antimalaria', 'antimalarial', 'antimuslim', 'antipandemic', 'antiparasitic', 'antiracismctr', 'antiracist', 'antiseptic', 'antivaccine', 'antivaxxers', 'antiviral', 'antivirals', 'antivirus', 'antonio', 'antonioguterres', 'anttibiotics', 'anubis', 'anxiety', 'anxiousness', 'anybody', 'anymore', 'anyone', 'anything', 'anytime', 'anyway', 'anyways', 'anywhere', 'aoc', 'apart', 'aphrodisiac', 'api', 'apocalypse', 'apocalyptic', 'apologies', 'apologise', 'apologised', 'apologises', 'apologising', 'apologizes', 'app', 'appalling', 'apparently', 'appeal', 'appealed', 'appear', 'appearances', 'appeared', 'appearing', 'appears', 'appendix', 'applaud', 'applauded', 'applause', 'apple', 'apples', 'appliance', 'application', 'applied', 'applies', 'apply', 'applying', 'appoint', 'appointed', 'appointment', 'appointments', 'appoints', 'appraisals', 'appreciate', 'appreciative', 'apprises', 'approach', 'approached', 'approaches', 'approaching', 'appropriate', 'approval', 'approvals', 'approve', 'approved', 'approves', 'approving', 'approx', 'approximately', 'apps', 'apr', 'april', 'aprilearly', 'apron', 'apronax', 'apturi', 'aqtime', 'aquino', 'arab', 'arabia', 'arackal', 'arbidol', 'archie', 'archillect', 'archived', 'ardern', 'ards', 'area', 'areas', 'arent', 'argar', 'argentina', 'argentinas', 'argentine', 'argentinian', 'arguably', 'argue', 'argued', 'argues', 'arielbogle', 'ariellesophia', 'arif', 'arifleischer', 'arise', 'arisen', 'ariseswhere', 'arisetv', 'arizona', 'arizonans', 'arizonas', 'arkancideisreal', 'arkansas', 'arlene', 'arm', 'armed', 'arms', 'armstrong', 'army', 'arogya', 'aroha', 'arora', 'around', 'arrange', 'arranged', 'arrangements', 'arrest', 'arrested', 'arrestfauci', 'arrestgates', 'arresting', 'arrival', 'arrivals', 'arrive', 'arrived', 'arrives', 'arriving', 'arse', 'arsehole', 'arsenicum', 'arsonistfire', 'art', 'arthritis', 'arthurcaplan', 'article', 'articles', 'artifact', 'artificial', 'artificially', 'artiste', 'artists', 'artois', 'arumugam', 'arunachalpradesh', 'arvind', 'arvindersoin', 'arvindkejriwal', 'asaduddin', 'ash', 'asha', 'ashamed', 'ashas', 'ashishkjha', 'ashishskynews', 'ashley', 'ashokepandit', 'ashoswai', 'ashwinikchoubey', 'ashworth', 'asia', 'asian', 'asianpacific', 'asians', 'aside', 'ask', 'askd', 'asked', 'asking', 'asks', 'asl', 'aslavitt', 'aspect', 'aspects', 'aspergillosis', 'aspirin', 'aspirine', 'asprin', 'ass', 'assalamu', 'assam', 'assassination', 'assault', 'assaulting', 'asscovering', 'assemble', 'assembly', 'assertions', 'asserts', 'assess', 'assessed', 'assesses', 'assessing', 'assessment', 'assessments', 'assets', 'assiduously', 'assign', 'assigned', 'assigning', 'assigns', 'assist', 'assistance', 'assistants', 'assisted', 'assisting', 'assoc', 'associated', 'associates', 'association', 'associations', 'assume', 'assumed', 'assuming', 'assumption', 'assumptions', 'assured', 'assures', 'assuring', 'asthma', 'asthmaawareness', 'astonishing', 'astonishingly', 'astounding', 'astrazeneca', 'astrologer', 'astrology', 'astute', 'asunción', 'asxgold', 'asymmetric', 'asymmetry', 'asymptomatic', 'atampt', 'athens', 'athletes', 'athome', 'atishi', 'atlanta', 'atlantic', 'atleast', 'atrisk', 'attached', 'attack', 'attacked', 'attacking', 'attacks', 'attempt', 'attempted', 'attempting', 'attempts', 'attend', 'attendance', 'attendants', 'attended', 'attendees', 'attending', 'attention', 'attitude', 'attitudes', 'attorney', 'attract', 'attractive', 'attributable', 'attribute', 'attributed', 'atul', 'auckland', 'aucklandbased', 'aucklandd', 'auction', 'audi', 'audience', 'audiences', 'audio', 'aug', 'augmentation', 'augmenting', 'august', 'augustamasters', 'augusto', 'aung', 'aunt', 'aunts', 'aurangaba', 'aurangabad', 'auspol', 'australia', 'australian', 'australians', 'australias', 'authenticity', 'author', 'authoritarian', 'authorities', 'authority', 'authorization', 'authorize', 'authorized', 'authorizes', 'authors', 'autism', 'autohemotherapy', 'autoimmune', 'autoimmunity', 'automated', 'automatically', 'autonomous', 'autopsies', 'autopsy', 'autumn', 'avail', 'availability', 'available', 'availing', 'avec', 'avenue', 'average', 'averaged', 'averages', 'averaging', 'averyabe', 'avg', 'avian', 'avifavir', 'avigan', 'aviganfavipiravir', 'avoid', 'avoidable', 'avoided', 'avoiding', 'await', 'awaiting', 'award', 'awarded', 'awards', 'aware', 'awareness', 'away', 'awhad', 'aworldindisorder', 'axel', 'axes', 'axios', 'aya', 'ayodhya', 'aytac', 'aytu', 'ayurved', 'ayurveda', 'ayurvedic', 'ayush', 'ayushman', 'ayushmanhwcs', 'azadi', 'azcafltx', 'azim', 'azimpremji', 'azithromycin', 'azithromycindoxycycline', 'baap', 'baba', 'babies', 'baby', 'bacchan', 'bachchan', 'back', 'backbone', 'backdate', 'backdoor', 'backdrop', 'backend', 'backfill', 'backfilled', 'backfired', 'backhand', 'backlog', 'backlogged', 'backlogs', 'backs', 'backtoback', 'backtofront', 'backtoschool', 'backtrack', 'backtracked', 'backup', 'backwards', 'bacon', 'bacteria', 'bacteriaeating', 'bacterial', 'bacterium', 'bad', 'bader', 'badly', 'badminton', 'badusha', 'baffled', 'bag', 'bagh', 'bags', 'bahia', 'bahrain', 'baijal', 'bail', 'bailed', 'baileinis', 'bailout', 'bajaav', 'bajao', 'bakersfield', 'bakery', 'baking', 'bakker', 'balance', 'balanced', 'balancing', 'balasore', 'balasubrahmanyams', 'balcony', 'ball', 'ballisticmissile', 'balloon', 'balloting', 'ballouxfrancois', 'bame', 'ban', 'banana', 'bananas', 'bananenrijperij', 'bancheneproduct', 'bandhugan', 'bandwagon', 'bandwidth', 'banerjee', 'bangalore', 'bangarutelangana', 'banging', 'bangladesh', 'banigeria', 'banish', 'banjelope', 'bank', 'bankerhaipolicenahi', 'banknotes', 'bankofamerica', 'bankrupt', 'banks', 'banlic', 'banned', 'banner', 'banning', 'bans', 'banwarilal', 'baptism', 'baptisms', 'bar', 'barack', 'barackobama', 'barak', 'barbarajdurkin', 'barcelona', 'barcodenz', 'barda', 'bardhaman', 'bare', 'barely', 'bargain', 'bark', 'barmer', 'baroda', 'baroness', 'barotrauma', 'barr', 'barranquilla', 'barrel', 'barrier', 'barriers', 'bars', 'barsclubs', 'base', 'baseball', 'based', 'baseless', 'baselessly', 'baseline', 'bash', 'bashed', 'basic', 'basically', 'basics', 'basis', 'basisdrtedros', 'bask', 'basketball', 'basketballs', 'bastards', 'bat', 'batch', 'batching', 'bath', 'baths', 'batman', 'bats', 'batspangolins', 'battle', 'battled', 'bauchi', 'bay', 'bayer', 'bayero', 'bazar', 'bazarti', 'bbc', 'bbcnews', 'bbibpcorv', 'bbmp', 'bbmpcomm', 'bbmpmayor', 'bcci', 'bcg', 'bcoz', 'bdsm', 'beach', 'beachboys', 'beaches', 'bean', 'beans', 'bear', 'beard', 'beards', 'bearing', 'beat', 'beaten', 'beating', 'beatncds', 'beats', 'beauticians', 'beautiful', 'beaverton', 'became', 'become', 'becomes', 'becoming', 'becoz', 'bed', 'bedroom', 'beds', 'beef', 'beefier', 'beeodune', 'beer', 'beet', 'began', 'begging', 'begin', 'beginning', 'begins', 'begum', 'begun', 'behalf', 'behaves', 'behaving', 'behavior', 'behaviors', 'behaviour', 'behaviours', 'behind', 'beijing', 'beingeyedolls', 'beings', 'belarus', 'belated', 'belgian', 'belgium', 'belief', 'beliefs', 'believe', 'believed', 'believes', 'believing', 'belize', 'belladonamodels', 'bellends', 'bello', 'belong', 'belonging', 'belongs', 'beloved', 'belsky', 'belt', 'belém', 'ben', 'benchmark', 'benchmarks', 'bendepear', 'bendigo', 'beneath', 'beneficiaries', 'beneficiary', 'benefit', 'benefited', 'benefits', 'benfordham', 'bengal', 'bengali', 'bengalis', 'benin', 'bent', 'benue', 'benzalkonium', 'benzorn', 'beowulfschaefer', 'bepdelta', 'bereaved', 'bereavement', 'berejiklians', 'bergamo', 'berger', 'berlin', 'berniesanders', 'berries', 'bersani', 'beshear', 'besides', 'best', 'bet', 'betacoronaviruses', 'betadine', 'bethrigby', 'better', 'bettiah', 'beverage', 'beveragealcohol', 'beverages', 'beware', 'beyond', 'bezgate', 'bfast', 'bhabhi', 'bhabhijikapapaad', 'bhagalpur', 'bhagane', 'bhagwants', 'bhan', 'bhanhealth', 'bharat', 'bharatbiotech', 'bharath', 'bhi', 'bhima', 'bhopal', 'bhubaneswar', 'bhuj', 'bhutan', 'bicarbonate', 'bicester', 'bidding', 'biden', 'bidendeep', 'bidens', 'bidensoetoro', 'bidensooetoro', 'bidhuri', 'bids', 'bier', 'big', 'bigger', 'biggest', 'bigly', 'bigpharma', 'bigpharmapuppets', 'bihar', 'biharhealthdept', 'bihars', 'biil', 'bilateral', 'bilgehan', 'bilges', 'biliary', 'bill', 'billboard', 'billdmccarthy', 'billhanage', 'billiion', 'billion', 'billionaire', 'billions', 'bills', 'bima', 'binaxnow', 'bind', 'binding', 'bio', 'biocomca', 'bioeasy', 'bioengineer', 'bioengineered', 'biological', 'biologicalweapon', 'biologicalweapons', 'biologist', 'biologists', 'biology', 'biomagnetism', 'biomedical', 'biomedj', 'biopharma', 'biosafety', 'bioscience', 'biosecurity', 'bioshield', 'biotech', 'biotechs', 'bioweapon', 'bioweapons', 'birch', 'bird', 'birds', 'birmingham', 'birnin', 'birth', 'birthday', 'birthdays', 'births', 'birx', 'biscuits', 'bissau', 'biswa', 'bit', 'bite', 'bites', 'bitte', 'bitter', 'bittergourd', 'bizarre', 'bjp', 'bjprun', 'bjps', 'black', 'blackface', 'blackie', 'blackled', 'blackout', 'blackpool', 'bladder', 'blame', 'blamed', 'blames', 'blankets', 'blarney', 'blasio', 'blatantly', 'bleach', 'bleachbased', 'bleak', 'bless', 'blessed', 'blind', 'blindingly', 'blindlyfollowing', 'blm', 'block', 'blocked', 'blocking', 'blocks', 'blog', 'blogger', 'bloke', 'blood', 'blooded', 'bloodletting', 'bloom', 'bloomberg', 'bloombergquint', 'bloomfield', 'blow', 'blower', 'blowers', 'blowing', 'blows', 'blue', 'bluff', 'bmc', 'bmj', 'board', 'boasting', 'boasts', 'boat', 'bob', 'bobby', 'bodies', 'body', 'bodywide', 'boe', 'bogies', 'bogotá', 'boil', 'boiled', 'boiling', 'bolivar', 'bolivia', 'bolivian', 'bollywood', 'bollywoof', 'bolsonaro', 'bolton', 'bomb', 'bombay', 'bombed', 'bon', 'bone', 'bong', 'bonhomme', 'bonus', 'book', 'bookings', 'bookmark', 'books', 'boom', 'boomlivein', 'boone', 'boost', 'boosted', 'booster', 'boosts', 'bootsontheground', 'border', 'bordering', 'borders', 'bored', 'boredom', 'boris', 'borisjohnson', 'born', 'borne', 'borno', 'borrowed', 'boss', 'bossle', 'boston', 'bosé', 'botafogos', 'botches', 'bother', 'bottle', 'bottled', 'bottlenecks', 'bottom', 'bottomed', 'boucher', 'bought', 'bounce', 'bounced', 'bounces', 'bound', 'boundaries', 'bounds', 'bowing', 'bowl', 'bowls', 'box', 'boxes', 'boy', 'boyacá', 'boycottchineseproduct', 'boycottmadeinchina', 'boyle', 'boys', 'brace', 'braced', 'bracelet', 'brad', 'braf', 'brahman', 'brahmins', 'brain', 'braindead', 'branch', 'brand', 'branderzy', 'brandnew', 'brandolino', 'brandon', 'brasil', 'brasilian', 'brave', 'brazailian', 'brazil', 'brazilian', 'brazilians', 'brazilnow', 'brazils', 'breached', 'bread', 'break', 'breakdown', 'breaker', 'breakers', 'breakfast', 'breakfastnews', 'breakin', 'breaking', 'breakinghot', 'breaks', 'breakthestigma', 'breakthroug', 'breakthrough', 'breast', 'breastfeed', 'breastfeeddrtedros', 'breastfeeding', 'breath', 'breathe', 'breathed', 'breathing', 'breathlessness', 'breeds', 'brewed', 'brexit', 'brian', 'brianstryker', 'bribe', 'bribed', 'brick', 'bridge', 'briefed', 'briefing', 'briefings', 'bright', 'brighten', 'brikeilarcnn', 'brilliant', 'bring', 'bringing', 'brings', 'brink', 'brinks', 'briones', 'brisbane', 'britain', 'britains', 'british', 'britney', 'britons', 'brits', 'brittajewell', 'brknman', 'brl', 'brnabic', 'broad', 'broadcast', 'broaden', 'broadening', 'broader', 'broadest', 'broadly', 'broadscale', 'broiler', 'broke', 'broken', 'brokers', 'broking', 'bronx', 'bronxzoo', 'brooklyn', 'broomeinwelly', 'bros', 'brothers', 'brought', 'brown', 'browns', 'brownsville', 'brucelambert', 'bruno', 'brush', 'brute', 'bryan', 'bsybjp', 'btindia', 'btk', 'btw', 'bubble', 'bubbles', 'bubonic', 'bucaramanga', 'buck', 'bucket', 'buckets', 'bucks', 'buddhism', 'buddhist', 'budget', 'budgets', 'buenaventura', 'buenos', 'buffalotracedhd', 'buffets', 'bug', 'buhari', 'build', 'building', 'buildinghalt', 'buildings', 'builds', 'built', 'bulgaria', 'bulk', 'bull', 'bullet', 'bulletin', 'bullfighters', 'bullfights', 'bulls', 'bullshit', 'bump', 'bumper', 'bunch', 'bundles', 'bunkum', 'burden', 'bureau', 'burecrat', 'burger', 'burgerking', 'burglars', 'burials', 'buried', 'burka', 'burn', 'burned', 'burnham', 'burning', 'burqaclad', 'burr', 'burrgate', 'bury', 'burying', 'bus', 'buses', 'busey', 'business', 'businesses', 'businessman', 'busy', 'butand', 'butchthorne', 'buttar', 'buy', 'buyers', 'buying', 'byculla', 'byer', 'byoblu', 'bypass', 'bypassed', 'byrti', 'caalkeshkasliwa', 'caba', 'caballero', 'cabbage', 'cabin', 'cabinet', 'cabins', 'cable', 'cabuyao', 'cache', 'cached', 'cadila', 'caesarean', 'cafes', 'caffeine', 'cafreeland', 'cagr', 'cahill', 'cain', 'cains', 'cakes', 'calahorra', 'calculate', 'calculating', 'calendar', 'calgary', 'cali', 'calibrated', 'calif', 'california', 'californias', 'californiavirginia', 'call', 'called', 'caller', 'callin', 'calling', 'calls', 'calm', 'calmly', 'calum', 'cambridge', 'came', 'camel', 'camera', 'cameroon', 'camila', 'camilla', 'camp', 'campaign', 'campaigns', 'campers', 'camphor', 'campinas', 'campos', 'camps', 'campuses', 'canada', 'canadian', 'canadians', 'canal', 'canals', 'cancel', 'cancelcacsexams', 'canceled', 'cancellation', 'cancellations', 'cancelled', 'cancelling', 'cancels', 'cancer', 'candidate', 'candidates', 'candidatesdrtedros', 'candle', 'candles', 'cane', 'canedsupport', 'canine', 'cannabis', 'cannon', 'cannot', 'cansinos', 'cant', 'capa', 'capabilities', 'capacit', 'capacities', 'capacity', 'capacitydrtedros', 'capita', 'capital', 'capitalism', 'capsule', 'captain', 'caption', 'captivity', 'captshaktilumba', 'capture', 'captured', 'capturing', 'car', 'carabinieri', 'carbon', 'card', 'cardboard', 'cardiac', 'cardio', 'cardiology', 'cardiotwitter', 'cardiovascular', 'cards', 'care', 'cared', 'caredrtedros', 'careeningspace', 'career', 'careful', 'carefulindia', 'carefully', 'caregivers', 'careless', 'cares', 'caretakers', 'cargo', 'caring', 'carl', 'carlos', 'carlsbadcharlie', 'carlson', 'carmarthen', 'carolhakios', 'carolina', 'carolinas', 'carom', 'carona', 'carpet', 'carping', 'carrefour', 'carried', 'carrier', 'carriers', 'carries', 'carrots', 'carry', 'carrying', 'cars', 'cart', 'cartagena', 'cartel', 'cartels', 'carts', 'cas', 'casaulty', 'case', 'casebycase', 'casefatality', 'caseload', 'casemanagement', 'casepm', 'cases', 'casesare', 'casescureddischargedmigrateddeaths', 'casesdeaths', 'casesstill', 'casestill', 'cash', 'cashew', 'cashewchicken', 'cassandragoldie', 'cast', 'caste', 'casteism', 'casting', 'casts', 'casual', 'casually', 'casualties', 'casualty', 'cat', 'catalyst', 'catapulted', 'catastrophe', 'catastrophic', 'catch', 'catches', 'catching', 'categorically', 'categories', 'category', 'catfish', 'catherine', 'cathyby', 'cats', 'cattle', 'cauca', 'caught', 'causal', 'caused', 'causes', 'causing', 'caution', 'cautioning', 'cautions', 'cautious', 'cautiousdrtedros', 'caveat', 'caveated', 'caveats', 'cavities', 'cayenne', 'cbac', 'cbc', 'cbi', 'cbs', 'cbse', 'cbsnews', 'cccs', 'ccp', 'ccpamp', 'ccplaunched', 'ccpliedpeopledied', 'ccpvirus', 'ccsimpact', 'cctv', 'cdc', 'cdcaggregated', 'cdcapproved', 'cdcdirector', 'cdcehealth', 'cdcemergency', 'cdcenvironment', 'cdcflu', 'cdcglobal', 'cdcgov', 'cdcgrandrounds', 'cdcheartstroke', 'cdchivaids', 'cdcinjury', 'cdcmmwr', 'cdcncezid', 'cdcs', 'cdctb', 'cdctravel', 'cdctravelnotice', 'cdelise', 'cdnpoli', 'cdntv', 'cdu', 'ceará', 'cease', 'cebmoxford', 'ceccgov', 'cedarcourthotel', 'cede', 'ceiling', 'celaá', 'celcius', 'celebrate', 'celebrated', 'celebrates', 'celebrating', 'celebration', 'celebrations', 'celebratory', 'celebrities', 'celebrity', 'cell', 'cellphone', 'cells', 'cemetery', 'cemitery', 'censor', 'censored', 'census', 'cent', 'center', 'centers', 'centerstage', 'central', 'centralgovernments', 'centre', 'centreled', 'centres', 'century', 'ceo', 'ceos', 'cepivaccines', 'cerb', 'cerebral', 'ceremonial', 'ceremonies', 'ceremony', 'cernovich', 'certain', 'certainly', 'certificate', 'certificates', 'certified', 'certifying', 'cessation', 'cetuximab', 'cfr', 'cghs', 'chaand', 'chaco', 'chaddystacksdfs', 'chain', 'chains', 'chair', 'chairman', 'chairmanship', 'chairmant', 'chalisa', 'challenge', 'challenges', 'challenging', 'chalmers', 'chalta', 'chamber', 'champion', 'championing', 'chan', 'chanakya', 'chance', 'chancellor', 'chances', 'chancine', 'chandigarh', 'chandrabhaga', 'chanel', 'chanels', 'chang', 'change', 'changed', 'changeorgindia', 'changeover', 'changeoverrelated', 'changer', 'changes', 'changing', 'channel', 'channelled', 'channels', 'channelstv', 'chant', 'chanting', 'chaos', 'chaotic', 'characterised', 'characteristics', 'characters', 'charge', 'charged', 'charges', 'charging', 'chariot', 'charity', 'charles', 'charlescovid', 'charleslieber', 'charm', 'chart', 'charter', 'chartmaking', 'charts', 'chase', 'chat', 'chatbot', 'chatbots', 'chats', 'cheap', 'cheaper', 'cheated', 'cheating', 'cheats', 'cheb', 'check', 'checked', 'checken', 'checkers', 'checking', 'checkout', 'checks', 'checkup', 'checkups', 'cheeks', 'cheer', 'cheering', 'cheerleaders', 'cheesburger', 'cheesenbranston', 'chemical', 'chemically', 'chemicals', 'chemicalwarfare', 'chemist', 'chemistry', 'chemists', 'chemo', 'chemotherapy', 'chemtrails', 'chen', 'chennai', 'chenqiushi', 'cheques', 'cherrypicked', 'cherrypicks', 'chesh', 'chest', 'chevrolet', 'chhattisgarh', 'chicago', 'chicagodelhi', 'chicagosmayor', 'chicken', 'chickens', 'chicomvirus', 'chidambaram', 'chief', 'chikwei', 'child', 'childcare', 'childhood', 'children', 'childrens', 'childrensphila', 'childshealth', 'chile', 'chills', 'chin', 'china', 'chinacoronavirus', 'chinadrtedros', 'chinaindiafaceoff', 'chinas', 'chinatown', 'chinatowns', 'chinda', 'chinese', 'chinesecommunistparty', 'chinesemade', 'chinesenationalflag', 'chinesevirus', 'chinweochu', 'chip', 'chiquita', 'chiquitos', 'chirayu', 'chitraaum', 'chittoor', 'chlorhexidine', 'chloride', 'chlorine', 'chlorite', 'chloroquine', 'chloroquinehydroxychloroquine', 'chloroxylenol', 'chmp', 'choice', 'choices', 'choir', 'choke', 'cholera', 'choose', 'choosing', 'chopped', 'chorley', 'chose', 'chosen', 'chouhan', 'chow', 'chris', 'chrisfairchild', 'chrisgulli', 'chrislhayes', 'chrismartenson', 'christ', 'christchurch', 'christian', 'christians', 'christine', 'christmas', 'christopher', 'chromolaena', 'chronic', 'chronologically', 'chrysanthemum', 'chuck', 'chuki', 'chunk', 'chupacabra', 'church', 'churches', 'churchill', 'chyna', 'cia', 'cientists', 'cigarette', 'cigars', 'cinchona', 'cindy', 'cinema', 'cinemas', 'circle', 'circuit', 'circulate', 'circulated', 'circulates', 'circulating', 'circulation', 'circumcisions', 'circumstances', 'circus', 'cited', 'cites', 'cities', 'citing', 'citizen', 'citizens', 'citrus', 'city', 'citylevel', 'citys', 'citywide', 'civil', 'civilization', 'ciyal', 'cjtjgeol', 'clad', 'claim', 'claimed', 'claiming', 'claims', 'claire', 'clairemsomi', 'clamped', 'clara', 'clareadams', 'clarification', 'clarifications', 'clarified', 'clarifies', 'clarify', 'clarity', 'clarín', 'clashed', 'class', 'classes', 'classic', 'classified', 'classifying', 'classroom', 'classrooms', 'clause', 'clean', 'cleaner', 'cleaners', 'cleanest', 'cleaning', 'clear', 'clearance', 'cleared', 'clearly', 'clemson', 'clever', 'click', 'clicking', 'clients', 'climate', 'climb', 'climbing', 'climbs', 'clings', 'clinic', 'clinical', 'clinically', 'clinicaltrials', 'clinician', 'clinicians', 'clinics', 'clinton', 'clintons', 'clip', 'clipon', 'clips', 'clique', 'clive', 'clivefpalmer', 'clock', 'clogged', 'clooney', 'clorox', 'close', 'closecontact', 'closed', 'closeddrtedros', 'closely', 'closer', 'closes', 'closest', 'closing', 'closure', 'closures', 'clot', 'cloth', 'clothes', 'clothesline', 'cloths', 'clots', 'clove', 'clownvirus', 'club', 'clubs', 'cluster', 'clusters', 'clutching', 'clínicas', 'cmofficeup', 'cmoguj', 'cmohry', 'cmomaharashtra', 'cmr', 'cms', 'cmsgov', 'cnbc', 'cnbcafrica', 'cnn', 'cnni', 'cnns', 'cns', 'cnt', 'coa', 'coach', 'coaching', 'coagulopathy', 'coast', 'coats', 'coauthors', 'cobas', 'cobbled', 'cobey', 'cobr', 'cobra', 'coca', 'cocaine', 'cocktails', 'code', 'codecheck', 'codechecking', 'coded', 'codelevel', 'codes', 'coe', 'coevolution', 'coexistence', 'coffee', 'coffins', 'cofounder', 'cohen', 'cohort', 'coimmunity', 'coin', 'coincidence', 'coinfected', 'coinfection', 'coinfections', 'coins', 'cointrirs', 'colas', 'colchicine', 'cold', 'colder', 'coldlike', 'colds', 'coled', 'coleen', 'colfax', 'collaborated', 'collaborates', 'collaboration', 'collaborative', 'collapse', 'collapsed', 'collapses', 'collapsing', 'collated', 'collateral', 'collates', 'colleagues', 'collect', 'collected', 'collecting', 'collection', 'collective', 'collectively', 'collector', 'collectorjamngr', 'colleenkraftmd', 'college', 'collegerelated', 'colleges', 'collide', 'collins', 'colloidal', 'colombia', 'colombian', 'colombo', 'colombres', 'colonoscopies', 'colonoscopy', 'colony', 'color', 'colorado', 'colorados', 'colored', 'colorful', 'colors', 'colour', 'colours', 'colstee', 'columbia', 'columbiamed', 'columns', 'combat', 'combating', 'combination', 'combine', 'combined', 'combining', 'combo', 'come', 'comeback', 'comedian', 'comedk', 'comes', 'comfortably', 'coming', 'command', 'commemorate', 'commemorative', 'commenced', 'commensurate', 'comments', 'commercial', 'commission', 'commissioner', 'commit', 'commitment', 'commitmentdrtedros', 'commitments', 'commits', 'committed', 'committee', 'committees', 'committing', 'commodities', 'commodore', 'common', 'commonly', 'commons', 'comms', 'communal', 'communicate', 'communicated', 'communicating', 'communication', 'communications', 'communist', 'communities', 'community', 'communityacquired', 'communitybased', 'communitys', 'communitywide', 'commute', 'comorbid', 'comorbidities', 'companies', 'company', 'companybranded', 'companys', 'comparable', 'comparative', 'comparatively', 'compare', 'compared', 'compares', 'comparing', 'comparison', 'comparisons', 'compassionate', 'compatibility', 'compatible', 'compelling', 'compensate', 'compensated', 'compensation', 'competition', 'competitions', 'competitive', 'competitor', 'compilation', 'compile', 'compiled', 'compiles', 'compiling', 'complacent', 'complain', 'complaining', 'complaint', 'complaints', 'complete', 'completed', 'completely', 'completes', 'completing', 'completion', 'complex', 'complexities', 'complexity', 'compliance', 'compliant', 'complicate', 'complicated', 'complications', 'complicit', 'comply', 'complying', 'component', 'components', 'compose', 'compounds', 'comprehensive', 'comprehensively', 'comprehensiveness', 'comprising', 'compromise', 'compromising', 'compulsory', 'compute', 'computer', 'computers', 'computing', 'conceal', 'concealed', 'concealedcarry', 'concentrated', 'concentrating', 'concentration', 'conceptualjames', 'concern', 'concerndrtedros', 'concerned', 'concerning', 'concerns', 'concerted', 'concerts', 'concluded', 'conclusions', 'conclusive', 'concoction', 'concordance', 'concrete', 'condemned', 'condition', 'conditioners', 'conditioning', 'conditions', 'condolences', 'condom', 'condoms', 'conduct', 'conducted', 'conducting', 'conducts', 'conestyle', 'confederate', 'conference', 'conferences', 'confers', 'confidence', 'confident', 'confidential', 'confined', 'confinement', 'confirm', 'confirmation', 'confirmed', 'confirming', 'confirms', 'confiscated', 'confiscating', 'confiscation', 'conflict', 'confounding', 'confront', 'confuse', 'confused', 'confusing', 'confusion', 'congestions', 'congolese', 'congrasswoman', 'congrats', 'congratulating', 'congregate', 'congregation', 'congregations', 'congress', 'congressman', 'conjecture', 'conjunction', 'connect', 'connected', 'connectgeeta', 'connecticut', 'connecting', 'connection', 'conquers', 'consecutive', 'consensus', 'consent', 'consequence', 'consequences', 'conservative', 'conserve', 'conserved', 'conservvoice', 'consider', 'considerable', 'considerably', 'consideration', 'considerations', 'considered', 'considering', 'considers', 'consist', 'consistency', 'consistent', 'consistently', 'consisting', 'consists', 'consortium', 'conspiracies', 'conspiraciesfake', 'conspiracy', 'conspiracytheories', 'conspiratorial', 'constant', 'constantly', 'consternation', 'constituents', 'constitute', 'constituted', 'constitutes', 'constitution', 'constrained', 'constraints', 'constructed', 'constructing', 'construction', 'consult', 'consultant', 'consultation', 'consultationdrtedros', 'consultations', 'consulted', 'consume', 'consumed', 'consumer', 'consumerfed', 'consuming', 'consumption', 'cont', 'contact', 'contacted', 'contacting', 'contactkdsg', 'contacts', 'contacttracers', 'contacttracing', 'contagion', 'contagious', 'contain', 'contained', 'containers', 'containing', 'containment', 'containmentzones', 'contains', 'contaminated', 'contaminations', 'contd', 'conte', 'contend', 'content', 'contest', 'contestdrtedros', 'context', 'continent', 'continue', 'continued', 'continues', 'continuing', 'continuity', 'continuous', 'continuously', 'contostavlos', 'contraception', 'contract', 'contracted', 'contracting', 'contracts', 'contradictions', 'contrary', 'contribute', 'contributed', 'contributes', 'contributing', 'contribution', 'contributions', 'control', 'controldrtedros', 'controlipc', 'controllable', 'controlled', 'controller', 'controlling', 'controllingtracking', 'controls', 'controversial', 'controversy', 'convalescent', 'convened', 'convenience', 'conveniently', 'convention', 'conventional', 'converge', 'conversation', 'conversations', 'conversion', 'convert', 'converted', 'convertiblecars', 'convertibles', 'converting', 'convey', 'convicted', 'convince', 'convinced', 'convincing', 'convoy', 'conway', 'cook', 'cooked', 'cookies', 'cooking', 'cool', 'coolies', 'cooling', 'cooper', 'cooperation', 'coordinate', 'coordinated', 'coordinates', 'coordinating', 'coordination', 'coordinator', 'cop', 'copayment', 'copd', 'cope', 'copied', 'coping', 'cops', 'coranavirus', 'core', 'coriander', 'corinavirus', 'cornavirusfacts', 'corned', 'corner', 'corners', 'cornoavirus', 'cornoravirus', 'cornwall', 'coroanvirus', 'corona', 'coronabeer', 'coronacheck', 'coronacorner', 'coronainpakistan', 'coronams', 'coronaoutbreak', 'coronary', 'coronation', 'coronaupdate', 'coronaupdates', 'coronaupdatesindia', 'coronaupdatesinindia', 'coronavac', 'coronavacccine', 'coronavaccine', 'coronavirua', 'coronavirus', 'coronaviruscanada', 'coronaviruses', 'coronavirusfacts', 'coronavirusfree', 'coronavirushit', 'coronavirusincontext', 'coronavirusindia', 'coronavirusinduced', 'coronavirusinfected', 'coronavirusinfested', 'coronavirusinindia', 'coronaviruslike', 'coronaviruslockdown', 'coronavirusmasks', 'coronavirusoutbreak', 'coronaviruspandemic', 'coronaviruspositive', 'coronavirusrelated', 'coronavirusrelief', 'coronavirusthemed', 'coronavirustruth', 'coronavirusupdate', 'coronavirusupdates', 'coronavirususa', 'coronavirusvaccine', 'coronavrus', 'coronawarriors', 'coronawarriorsindia', 'coronawatch', 'coronawhat', 'coroner', 'coroners', 'coronil', 'coronilpost', 'coronilvati', 'corononavirus', 'coronovirus', 'corporate', 'corporation', 'corporations', 'corpse', 'corpses', 'correct', 'corrected', 'correction', 'correctional', 'correctly', 'correctness', 'corrector', 'correlates', 'correlation', 'correlations', 'correspond', 'correspondent', 'corridor', 'corridors', 'corrientes', 'corruption', 'corticosteroids', 'coruscakhaya', 'cosara', 'cosmetic', 'cost', 'costa', 'costco', 'costing', 'costly', 'costs', 'coteimoxazole', 'cottage', 'cotton', 'couch', 'couchmaria', 'cough', 'coughing', 'coughs', 'could', 'couldshould', 'council', 'counsel', 'counselled', 'count', 'counted', 'counter', 'countermeasures', 'counterparts', 'counters', 'counties', 'counting', 'countries', 'countriesdrtedros', 'country', 'countrylevel', 'countryrandomized', 'countrys', 'countryside', 'countrywide', 'counts', 'county', 'countybycounty', 'countylevel', 'countys', 'couple', 'coupled', 'couples', 'courage', 'course', 'coursedrtedros', 'courses', 'coursing', 'court', 'courtrooms', 'courts', 'cousin', 'cov', 'covas', 'covax', 'covaxin', 'covaxine', 'cove', 'cover', 'coverage', 'covered', 'covering', 'coverings', 'covers', 'covert', 'coverup', 'covid', 'covidactnow', 'covidactnowurl', 'covidalert', 'covidcanada', 'covidindiaseva', 'covidiot', 'covidiots', 'covidlike', 'covidlinked', 'covidlockdown', 'covidnet', 'covidnewsbymib', 'covidol', 'covidorganics', 'covidpandemic', 'covidrelated', 'covidsafe', 'covidsceptic', 'covidsorting', 'covidstopswithme', 'covidstudy', 'covidtesting', 'coviduk', 'covidupdate', 'covidupdates', 'covidview', 'covidwarriors', 'covidwarriortips', 'covidzero', 'covishield', 'cow', 'cowboys', 'cowdung', 'coworkers', 'coworking', 'cowurine', 'cowurinesteambar', 'coy', 'cpap', 'cpd', 'cqhcq', 'cra', 'crack', 'crackdown', 'cracking', 'cramped', 'crankydavid', 'crap', 'crash', 'crashed', 'crazy', 'cream', 'creams', 'create', 'created', 'creates', 'creatical', 'creating', 'creatiwit', 'credit', 'credited', 'creep', 'creeping', 'cremated', 'cremation', 'cremations', 'crematorium', 'crematoriums', 'crescent', 'creted', 'crew', 'cricket', 'cried', 'crime', 'crimes', 'criminal', 'criminalised', 'criminalized', 'criminalizes', 'criminals', 'crises', 'crisesdrtedros', 'crisis', 'crispr', 'cristiano', 'critcaremed', 'criteria', 'critical', 'critically', 'criticised', 'criticism', 'criticize', 'criticized', 'criticizing', 'critics', 'critiqued', 'croatian', 'crocin', 'crocodile', 'crook', 'crop', 'crore', 'crores', 'cross', 'crossed', 'crosses', 'crossing', 'crowd', 'crowded', 'crowding', 'crowds', 'crowe', 'crown', 'crowona', 'crucial', 'cruelty', 'cruise', 'cruises', 'cruiseships', 'crushed', 'cry', 'cryill', 'crying', 'cryptowalter', 'csa', 'csirind', 'csogok', 'ctbergstrom', 'ctrevettnzh', 'cuba', 'cuban', 'cubas', 'cubicle', 'cucumbers', 'cudnt', 'cuffs', 'cult', 'cultural', 'cultures', 'cummings', 'cumulative', 'cumulatively', 'cunial', 'cuomo', 'cup', 'cupboard', 'cupboards', 'cups', 'curable', 'curative', 'curb', 'curbside', 'cure', 'cured', 'cureddischarged', 'cureddischargedmigrated', 'cureddischargedmigratedactive', 'curedrecovered', 'cures', 'curfew', 'curfewinindia', 'curfews', 'curing', 'curious', 'currency', 'current', 'currently', 'curried', 'curse', 'cursor', 'curve', 'curves', 'cushion', 'custody', 'customer', 'customers', 'customs', 'cut', 'cutest', 'cutlery', 'cutoff', 'cutout', 'cuts', 'cuttack', 'cutting', 'cuttingforstone', 'cuz', 'cvd', 'cyber', 'cybertiiger', 'cyborgnot', 'cycle', 'cynon', 'cynthia', 'cypress', 'cystic', 'cytokine', 'dacheng', 'dad', 'dadar', 'daily', 'dailyclick', 'dailyinterlake', 'dailyneb', 'dakar', 'dakota', 'dakotas', 'dal', 'dalit', 'dallas', 'dallascowboys', 'dam', 'damage', 'damaged', 'damages', 'damascus', 'dame', 'damn', 'dana', 'dancefloor', 'dancing', 'dandiemann', 'danfodio', 'danforestnc', 'danger', 'dangerous', 'dangers', 'daniel', 'danielandrewsmp', 'danielle', 'danielleiwood', 'danieltobias', 'danwootton', 'danzig', 'dardedar', 'dargah', 'darin', 'dark', 'darker', 'darkness', 'dart', 'das', 'dashboard', 'dashboards', 'dasrealestate', 'data', 'database', 'datadriven', 'datas', 'dataset', 'datasets', 'date', 'dates', 'datestamped', 'datetimeline', 'dating', 'datoscoronavirus', 'daughter', 'daughterinlaw', 'daughternewsomes', 'daughters', 'daunting', 'dave', 'davey', 'david', 'davidmetroland', 'davidvaporium', 'dawood', 'dawson', 'day', 'dayoverday', 'days', 'dayshow', 'daytime', 'daytoday', 'dbtindiabirac', 'dcgi', 'dcs', 'ddindialive', 'ddnewslive', 'deacon', 'dead', 'deadlier', 'deadline', 'deadly', 'deal', 'dealers', 'dealing', 'deals', 'dealt', 'dean', 'dear', 'dearicaitake', 'death', 'deathbed', 'deaths', 'deathsdrtedros', 'deathsmillion', 'deathsthe', 'debacle', 'debate', 'deborah', 'deborahzinger', 'debt', 'debunk', 'debunked', 'debunking', 'debunks', 'decade', 'decades', 'deccanherald', 'decease', 'deceased', 'decedents', 'deceive', 'deceived', 'december', 'decency', 'decent', 'decently', 'decide', 'decided', 'decides', 'deciding', 'decision', 'decisionmaking', 'decisions', 'decisive', 'decisively', 'deck', 'declaration', 'declarations', 'declare', 'declared', 'declares', 'declaring', 'decline', 'declined', 'declines', 'declining', 'decoction', 'decontamination', 'decorate', 'decorum', 'decrease', 'decreased', 'decreases', 'decreasing', 'decree', 'dedan', 'dedicated', 'dedication', 'deeds', 'deemed', 'deep', 'deepaltrevedie', 'deeper', 'deepinder', 'deeply', 'deepswabbing', 'deer', 'default', 'defeat', 'defeated', 'defeating', 'defence', 'defend', 'defended', 'defends', 'defense', 'defenseless', 'defenses', 'defensible', 'defer', 'deferral', 'defiance', 'deficiency', 'deficient', 'deficit', 'defied', 'defined', 'definitely', 'definition', 'definitions', 'deflated', 'deformities', 'defrauded', 'defunding', 'degree', 'degrees', 'dehradun', 'deity', 'dejectedly', 'dekoustav', 'del', 'delaware', 'delay', 'delayed', 'delaying', 'delays', 'delegatestewart', 'delegation', 'deleted', 'delhi', 'delhifightscorona', 'delhihearts', 'delhiite', 'delhiites', 'delhipolice', 'delhis', 'delhites', 'deliberates', 'deliberating', 'delibrolawrence', 'delighted', 'delighting', 'deliver', 'delivered', 'delivering', 'delivers', 'delivery', 'delta', 'demand', 'demanded', 'demanding', 'demands', 'demarcate', 'dementia', 'demi', 'demise', 'democide', 'democrat', 'democratic', 'democraticdebate', 'democrats', 'demographic', 'demolished', 'demonize', 'demonstrate', 'demonstrated', 'demonstrates', 'demonstrating', 'demonstration', 'demonstrations', 'demonstrators', 'dems', 'demystifying', 'denial', 'denialism', 'denied', 'denies', 'denis', 'denmark', 'denominator', 'denounce', 'denounces', 'dense', 'densely', 'density', 'dent', 'dental', 'dentists', 'deny', 'deoria', 'depart', 'departament', 'departed', 'departing', 'department', 'departments', 'departure', 'departures', 'depend', 'depended', 'dependent', 'depending', 'depends', 'depict', 'depicts', 'depleted', 'depleting', 'deplorabledebrn', 'deploy', 'deployed', 'deployment', 'deploys', 'depopulate', 'deposited', 'depressed', 'depressing', 'depression', 'deprived', 'depsechargan', 'dept', 'depth', 'depts', 'deputies', 'deputy', 'derailed', 'derby', 'derivatives', 'derived', 'dermatitis', 'dermatologic', 'dermatology', 'desai', 'desantis', 'described', 'describes', 'describing', 'description', 'descriptions', 'deserve', 'deserves', 'design', 'designates', 'designed', 'designer', 'desired', 'desperately', 'despicable', 'despite', 'destination', 'destiny', 'destroy', 'destroyed', 'destroying', 'destroys', 'destruction', 'detail', 'detailed', 'details', 'detain', 'detained', 'detaining', 'detect', 'detected', 'detecting', 'detection', 'detective', 'detention', 'deteriorates', 'deterioration', 'determine', 'determined', 'determining', 'detourers', 'detrick', 'detroit', 'dettol', 'dev', 'devastated', 'devastating', 'devastation', 'devbhatt', 'develop', 'developed', 'developers', 'developing', 'development', 'develops', 'devender', 'devi', 'devices', 'devil', 'devised', 'devising', 'devour', 'dewine', 'dewormed', 'deworming', 'dexamethasone', 'dexamethsaone', 'dfiduk', 'dgpgujarat', 'dhanbad', 'dharavi', 'dharmendra', 'dharmis', 'dhb', 'dhbs', 'dhebron', 'dhfwka', 'dhhs', 'dhs', 'dhscgovuk', 'dhsgov', 'dhsreport', 'dhswi', 'diabetes', 'diagnose', 'diagnosed', 'diagnoses', 'diagnosing', 'diagnosis', 'diagnosisdetection', 'diagnostic', 'diagnostics', 'dialysis', 'diameter', 'diamond', 'diaper', 'diapers', 'diarrhea', 'diarrhoea', 'diary', 'dicenso', 'dictator', 'dictatorship', 'didier', 'didnt', 'dido', 'die', 'died', 'diego', 'dieing', 'dies', 'diet', 'dietary', 'dietarysupplements', 'differ', 'difference', 'differences', 'different', 'differential', 'differently', 'difficult', 'difficulties', 'difficulty', 'diffies', 'dig', 'digdougftw', 'digestive', 'digital', 'digitizable', 'dignity', 'dilemma', 'diligence', 'diligently', 'dilute', 'dilution', 'dimension', 'dimensions', 'diminished', 'dimsighted', 'dined', 'dining', 'dinner', 'dioxide', 'dip', 'diphtheria', 'dips', 'dire', 'direct', 'directed', 'directing', 'direction', 'directive', 'directives', 'directly', 'director', 'directorgeneral', 'directs', 'dirty', 'disabilities', 'disadvantaged', 'disagreed', 'disagrees', 'disappear', 'disappeared', 'disappointing', 'disaster', 'disasterleogov', 'disasters', 'disastrous', 'disastrously', 'disbands', 'disbursed', 'discard', 'discarded', 'discharge', 'discharged', 'discharges', 'discipline', 'disclose', 'discomfort', 'discontinue', 'discontinued', 'discouraging', 'discover', 'discovered', 'discovers', 'discovery', 'discredited', 'discrepancies', 'discrepancy', 'discrimination', 'discuss', 'discussed', 'discusses', 'discussing', 'discussion', 'discussions', 'disease', 'diseasedetective', 'diseases', 'disestablish', 'disguised', 'disgusting', 'disharmony', 'disheartening', 'disheveled', 'disinfect', 'disinfectant', 'disinfectants', 'disinfected', 'disinfectent', 'disinfecting', 'disinfection', 'dismantle', 'dismantled', 'dismissal', 'dismissed', 'dismissive', 'disney', 'disneymagicmoments', 'disobeyed', 'disobeying', 'disorder', 'disorders', 'disparate', 'disparities', 'dispatch', 'dispelled', 'dispels', 'displaced', 'display', 'displayed', 'displaying', 'disposable', 'disposal', 'dispose', 'disproportionate', 'disproportionately', 'disproven', 'disputed', 'disregard', 'disregarded', 'disrupt', 'disrupted', 'disrupting', 'disruption', 'disruptions', 'disrupts', 'dissect', 'disseminated', 'disseminating', 'dissented', 'dissimilar', 'dissolved', 'dist', 'distance', 'distancing', 'distant', 'distinct', 'distinguish', 'distinguished', 'distinguishing', 'distract', 'distracted', 'distracting', 'distraction', 'distractions', 'distress', 'distribute', 'distributed', 'distributing', 'distribution', 'distributions', 'district', 'districtlevel', 'districts', 'ditch', 'dive', 'diverse', 'diversity', 'divert', 'diverted', 'divided', 'division', 'divorced', 'divulges', 'diy', 'dizzy', 'djibouti', 'djokovic', 'djs', 'dka', 'dlandthebeard', 'dma', 'dmiliband', 'dmk', 'dna', 'dnanudge', 'dnc', 'dobbs', 'docs', 'docters', 'doctor', 'doctoral', 'doctored', 'doctors', 'doctorswhat', 'document', 'documentary', 'documentation', 'documented', 'documents', 'dodge', 'doesnt', 'dog', 'dogs', 'doh', 'doha', 'dollars', 'dolores', 'dolphins', 'dome', 'domestic', 'domestically', 'domesticviolence', 'dominance', 'dominate', 'dominated', 'dominates', 'dominic', 'dominion', 'domino', 'domsinainyc', 'domínguez', 'donald', 'donaldtrump', 'donate', 'donated', 'donates', 'donation', 'donations', 'doncaster', 'done', 'dong', 'donors', 'dont', 'doomed', 'doomsday', 'door', 'doors', 'doorsteps', 'doortodoor', 'doortodoordeworming', 'doorway', 'doria', 'doritos', 'dose', 'dosed', 'doses', 'dosing', 'dosnt', 'dot', 'dots', 'double', 'doublechecking', 'doubled', 'doubleddrtedros', 'doubles', 'doubling', 'doublingrate', 'doubt', 'doubters', 'doubts', 'doug', 'dougburgum', 'doused', 'dovmichaeli', 'downed', 'downfall', 'downgraded', 'downing', 'download', 'downloaded', 'downloading', 'downloads', 'downplay', 'downplayed', 'downplays', 'downs', 'downside', 'downtown', 'downturn', 'downward', 'downwards', 'doxycycline', 'doyle', 'doyourpart', 'dozen', 'dozens', 'dpfunke', 'dphss', 'dpp', 'dps', 'drain', 'drakeford', 'dralisanders', 'drama', 'dramatically', 'dranthonyfauci', 'drashwathcn', 'drastically', 'drauzio', 'drawn', 'draws', 'drccostelloe', 'drdavidsamadi', 'drdoindia', 'dreaded', 'drellie', 'dreoehanire', 'dress', 'dressed', 'drew', 'drharshvardhan', 'drhvoffice', 'dribbling', 'dribram', 'dried', 'drift', 'drifting', 'drink', 'drinkaware', 'drinkers', 'drinking', 'drinks', 'drip', 'dripping', 'drive', 'driven', 'driver', 'drivers', 'driversinvisible', 'drives', 'drivethru', 'driving', 'drjitendrasingh', 'drjlieberman', 'drjohnm', 'drjohnwhyte', 'drjudyamikovits', 'drkhabbazcdc', 'drmamora', 'drmvankerkhove', 'drnancymcdc', 'drone', 'droopaips', 'drop', 'droplets', 'dropped', 'dropping', 'droppings', 'drops', 'drove', 'drowned', 'droz', 'drs', 'drsamirbhatt', 'drsanjaygupta', 'drsourabhkp', 'drtedros', 'drtomfrieden', 'drug', 'drugs', 'drum', 'drunk', 'dry', 'dryer', 'dryers', 'dstv', 'dua', 'dubai', 'dubious', 'dublin', 'dubs', 'ducey', 'duchess', 'duchy', 'duck', 'duckdynasty', 'ducks', 'dude', 'due', 'dump', 'dumped', 'dumps', 'duncan', 'dundee', 'dung', 'dungurine', 'dunks', 'dunnogyna', 'dunsanyjack', 'dupe', 'duping', 'duration', 'dure', 'durham', 'dust', 'dutch', 'duterte', 'dutertes', 'duties', 'duty', 'dwagswpb', 'dwarf', 'dwarfing', 'dwarfs', 'dwaynejohnson', 'dwellers', 'dwellings', 'dwildemuth', 'dyes', 'dying', 'dyk', 'dynamic', 'dynamical', 'dynamics', 'dynasty', 'dysfunction', 'dysfunctional', 'dáil', 'eager', 'eamc', 'ear', 'earlier', 'earliest', 'early', 'earmarked', 'earn', 'earned', 'earring', 'ears', 'earth', 'earthly', 'ease', 'eased', 'eases', 'easier', 'easiest', 'easily', 'easilystayhome', 'easing', 'east', 'eastern', 'easy', 'easyoff', 'eat', 'eating', 'eats', 'eau', 'ebay', 'ebola', 'ebolavirus', 'ebonyi', 'echinacea', 'ecmo', 'economic', 'economically', 'economics', 'economies', 'economist', 'economy', 'economydrtedros', 'econstandard', 'ecstatic', 'ecuador', 'ecuadorian', 'edconwaysky', 'edelebear', 'edged', 'edhi', 'edhifoundation', 'edinburghuni', 'edited', 'edition', 'editor', 'editorial', 'edmonton', 'edmunds', 'edo', 'edpilkington', 'eds', 'educate', 'educated', 'education', 'educational', 'educators', 'edward', 'eels', 'eerily', 'effect', 'effective', 'effectivedrtedros', 'effectively', 'effectiveness', 'effects', 'efficacious', 'efficaciously', 'efficacy', 'efficiency', 'efficient', 'efficiently', 'effort', 'efforts', 'ego', 'egypt', 'egyptian', 'eicus', 'eid', 'eidaladha', 'eight', 'eighth', 'eightyearold', 'eightysix', 'eileen', 'either', 'ekiti', 'elago', 'elbow', 'elderberry', 'elderly', 'elders', 'elected', 'election', 'elections', 'elective', 'electoral', 'electric', 'electricians', 'electrification', 'electromagnetic', 'electronic', 'electronics', 'elevated', 'eleven', 'eleventybillion', 'eligibility', 'eligible', 'elijahschaffer', 'eliminate', 'eliminated', 'eliminates', 'elimination', 'elisa', 'elite', 'elizabeth', 'elkin', 'ella', 'ellencutch', 'ellerslie', 'ellie', 'elon', 'elonmusk', 'else', 'elses', 'elsewhere', 'elsieilori', 'elsieilorifor', 'elucidate', 'elvis', 'elvislives', 'elvispresley', 'ema', 'email', 'emailing', 'embassy', 'embedded', 'embezzle', 'emboldened', 'embrace', 'embracing', 'emeka', 'emerge', 'emerged', 'emergencies', 'emergency', 'emerges', 'emerging', 'eminent', 'emirates', 'emission', 'emissions', 'emmanuel', 'emmawehipeihana', 'emmy', 'emotional', 'emotionally', 'emotions', 'empanelled', 'emphasis', 'emphasises', 'emphasize', 'emphasized', 'emphasizes', 'employed', 'employee', 'employees', 'employer', 'employers', 'employersponsored', 'employment', 'empower', 'empowered', 'empowering', 'empress', 'empty', 'enable', 'enabled', 'enables', 'enabling', 'enacted', 'enacting', 'encephalitis', 'encephalomyelitischronic', 'enclosed', 'encorafenib', 'encounters', 'encourage', 'encouraged', 'encourages', 'encouraging', 'encyclopedia', 'end', 'endall', 'endangered', 'endangeredspecies', 'enddear', 'enddrtedros', 'ended', 'endemic', 'ending', 'endless', 'endocrine', 'endocrinologists', 'endorses', 'endothelial', 'ends', 'endtb', 'endure', 'enema', 'enemas', 'enemies', 'enemy', 'energetic', 'energy', 'enforce', 'enforced', 'enforcement', 'enforcing', 'engage', 'engaged', 'engagement', 'engagements', 'engages', 'engaging', 'engine', 'engineered', 'engineering', 'engineers', 'england', 'englands', 'english', 'enhance', 'enhanced', 'enhancement', 'enjoy', 'enjoyed', 'enlarged', 'enlist', 'enough', 'enrich', 'enriched', 'enrolled', 'enrollment', 'ensure', 'ensured', 'ensures', 'ensuring', 'enter', 'enterdeboard', 'entered', 'entering', 'enteroviruses', 'enters', 'entertained', 'entertaining', 'entire', 'entirely', 'entities', 'entitled', 'entitlements', 'entity', 'entrance', 'entrench', 'entrepreneursauto', 'entrepreneurship', 'entries', 'entrusted', 'entry', 'entschuldigung', 'enugu', 'environment', 'environmental', 'environmentdrtedros', 'environments', 'envoy', 'enzyme', 'eoc', 'epass', 'epic', 'epicenter', 'epicentre', 'epicentres', 'epidemic', 'epidemicprone', 'epidemics', 'epidemiological', 'epidemiologically', 'epidemiologist', 'epidemiologists', 'epidemiology', 'episode', 'epstein', 'equal', 'equality', 'equalling', 'equally', 'equating', 'equation', 'equipment', 'equipped', 'equitable', 'equitably', 'equity', 'equivalent', 'era', 'eradicate', 'eradicated', 'eradicating', 'eradication', 'erased', 'erath', 'eric', 'ericcolson', 'erictopol', 'ernakulam', 'erratic', 'erratically', 'erred', 'erroneously', 'error', 'errors', 'ers', 'erscongress', 'erspublications', 'erupt', 'erupting', 'erwillia', 'erythromycin', 'escalated', 'escape', 'escaped', 'esccongress', 'eschews', 'eshe', 'esmo', 'esophagus', 'esp', 'especially', 'espinal', 'essay', 'essential', 'essentials', 'essentialworker', 'essex', 'establish', 'established', 'establishes', 'establishing', 'establishment', 'estate', 'estero', 'estimate', 'estimated', 'estimates', 'etc', 'ethical', 'ethics', 'ethiopia', 'ethiopian', 'ethnic', 'ethnicity', 'ethnicracial', 'etiquette', 'etsy', 'etymology', 'eua', 'eucalyptus', 'eucommission', 'euecho', 'europe', 'european', 'euros', 'eus', 'euskadi', 'evacuation', 'evaluate', 'evaluated', 'evaluating', 'evaluation', 'evander', 'evangelical', 'evangelicals', 'even', 'evening', 'event', 'events', 'eventual', 'eventually', 'ever', 'everight', 'evers', 'eversmaller', 'every', 'everybody', 'everyday', 'everyone', 'everything', 'everythingonly', 'everywhere', 'evict', 'eviction', 'evictions', 'evidence', 'evidenced', 'evil', 'evin', 'evinindia', 'evoke', 'evolution', 'evolutionary', 'evolve', 'evolves', 'evolving', 'exacerbated', 'exact', 'exactly', 'exaggerated', 'exaggerating', 'exam', 'examination', 'examinations', 'examined', 'examiner', 'examines', 'example', 'examples', 'exams', 'exceed', 'exceeded', 'exceeding', 'exceeds', 'excellent', 'except', 'exception', 'exceptional', 'exceptions', 'excerpt', 'excerpted', 'excess', 'excessive', 'excited', 'exclamation', 'exclude', 'excluded', 'excludes', 'excluding', 'exclusion', 'exclusive', 'exclusively', 'excoriated', 'excuse', 'execution', 'executions', 'executive', 'executives', 'exemplar', 'exempt', 'exempted', 'exemption', 'exemptions', 'exercise', 'exercised', 'exercising', 'exhale', 'exhaled', 'exhausted', 'exhaustion', 'exhaustive', 'exhibit', 'exhibited', 'exhibiting', 'exhorted', 'exhorts', 'exist', 'existed', 'existence', 'existing', 'exists', 'exit', 'exiting', 'exosome', 'exotic', 'expand', 'expanded', 'expanding', 'expandingdrtedros', 'expands', 'expansion', 'expect', 'expectations', 'expected', 'expecting', 'expects', 'expedite', 'expel', 'expelled', 'expend', 'expenditures', 'expenses', 'expensive', 'experience', 'experienced', 'experiences', 'experiencing', 'experiment', 'experimental', 'experimentation', 'expert', 'expertise', 'experts', 'expired', 'explain', 'explained', 'explainer', 'explaining', 'explains', 'explanation', 'explicable', 'explicit', 'explicitly', 'explode', 'exploded', 'exploit', 'exploration', 'exploratory', 'explored', 'explores', 'exploring', 'explosion', 'explosive', 'expo', 'exponential', 'exponentially', 'export', 'exporting', 'exports', 'exposed', 'exposes', 'exposing', 'exposure', 'expresident', 'express', 'expressing', 'expression', 'expressions', 'expressly', 'extend', 'extended', 'extending', 'extends', 'extension', 'extensive', 'extent', 'exterminated', 'extinct', 'extinguish', 'extra', 'extracted', 'extraordinary', 'extreme', 'extremely', 'extremists', 'eye', 'eyes', 'eyesight', 'eyewatering', 'eyewitness', 'fabiflu', 'fabiflufavipiravir', 'fabreese', 'fabric', 'fabricate', 'fabricating', 'fabunan', 'facd', 'face', 'facebook', 'facebut', 'facecover', 'faced', 'facemask', 'facemasks', 'faces', 'facewine', 'facial', 'facilitate', 'facilitates', 'facilitating', 'facilitation', 'facilities', 'facility', 'facilitydrtedros', 'facing', 'facinglet', 'fact', 'factcheck', 'factchecked', 'factchecking', 'factchecknet', 'factchecknets', 'factchecks', 'factor', 'factories', 'factors', 'factory', 'facts', 'factsmatter', 'factsnotfears', 'faculty', 'fad', 'fade', 'faded', 'fadnavis', 'faerie', 'faheemyounus', 'fail', 'failed', 'failing', 'failings', 'fails', 'failure', 'failures', 'fain', 'fainted', 'fainting', 'faints', 'fair', 'fairly', 'faith', 'fake', 'fakenews', 'fakenewsalert', 'fall', 'fallen', 'falling', 'fallout', 'falls', 'false', 'falsehood', 'falsehoods', 'falsely', 'falsenegatives', 'falsepositive', 'falsification', 'falsified', 'familiafeeling', 'families', 'familiesfor', 'family', 'familysized', 'famine', 'famous', 'fampg', 'fan', 'fancy', 'fanfic', 'fangbin', 'fanned', 'fans', 'fantastic', 'fantasy', 'fao', 'faq', 'faqs', 'far', 'farage', 'farcical', 'fardrtedros', 'faring', 'farm', 'farmer', 'farmland', 'farting', 'farts', 'fascinating', 'fascism', 'fascist', 'fascists', 'fashion', 'fashions', 'fast', 'fastacting', 'faster', 'fastest', 'fasting', 'fasttracked', 'fasttracking', 'fat', 'fatal', 'fatalities', 'fatality', 'fatalityrate', 'fate', 'father', 'fatherbob', 'fathers', 'fatigue', 'fatigued', 'faucciamp', 'fauccis', 'fauci', 'faucian', 'faucis', 'faulty', 'favipiravir', 'favipiravirbased', 'favipiravirdcgi', 'favipravir', 'favor', 'favorite', 'favourably', 'favourite', 'fbi', 'fck', 'fckingup', 'fct', 'fda', 'fear', 'feared', 'fearmongering', 'fears', 'feasible', 'feat', 'feature', 'featured', 'features', 'featuring', 'feb', 'febreeze', 'february', 'februaryearly', 'fed', 'federal', 'federation', 'feds', 'fee', 'feedback', 'feel', 'feelbetter', 'feeling', 'feels', 'fees', 'feet', 'felipe', 'fell', 'fellow', 'fellowship', 'felony', 'felt', 'fema', 'female', 'females', 'fencing', 'fennel', 'fenugreek', 'fep', 'ferguson', 'fernández', 'ferrari', 'festival', 'festivities', 'fetid', 'fetuses', 'feuds', 'fever', 'feverinside', 'fevers', 'fewer', 'fewest', 'feynmanfreaky', 'fiber', 'fibres', 'fibrinolysis', 'fibrosis', 'fiction', 'fidelcastro', 'field', 'fields', 'fifth', 'fifthhighest', 'fifty', 'fiftyone', 'fight', 'fightagainstcoronavirus', 'fighter', 'fightflu', 'fighting', 'fights', 'figure', 'figures', 'figuring', 'fiji', 'file', 'filed', 'filgotinib', 'filing', 'filipce', 'filipino', 'filipinos', 'filippe', 'fill', 'filled', 'fillfinish', 'filling', 'film', 'filmed', 'filming', 'filmmaker', 'films', 'filtered', 'filtermax', 'final', 'finalising', 'finalizing', 'finally', 'finance', 'financed', 'finances', 'financial', 'financially', 'financing', 'find', 'finding', 'findings', 'finds', 'fine', 'fined', 'fines', 'finger', 'finish', 'finished', 'finishes', 'finland', 'finminindia', 'fire', 'fireandbloodd', 'firearm', 'fired', 'firefighters', 'fires', 'firewood', 'fireworks', 'firing', 'firm', 'firmly', 'first', 'firstever', 'firstknown', 'fiscal', 'fish', 'fist', 'fistbump', 'fit', 'fitness', 'fits', 'five', 'fiveday', 'fivefold', 'fiveyear', 'fix', 'fixed', 'fixes', 'fixing', 'fkups', 'fla', 'flaccid', 'flag', 'flags', 'flameforce', 'flames', 'flare', 'flareup', 'flash', 'flat', 'flatlands', 'flatten', 'flattened', 'flattening', 'flattenthecurve', 'flatter', 'flaunts', 'flavor', 'flawed', 'flaxter', 'fleamarkets', 'fled', 'fledged', 'fleeing', 'flees', 'fletcher', 'flew', 'flies', 'flight', 'flights', 'flinches', 'flipflops', 'floating', 'flock', 'flood', 'flooded', 'floor', 'floors', 'florence', 'florida', 'floridas', 'flour', 'flouting', 'flow', 'flower', 'flowers', 'flown', 'floyds', 'flu', 'fluent', 'fluids', 'flulike', 'flus', 'fluzone', 'fly', 'flyer', 'flyers', 'flying', 'flyover', 'fmohnigeria', 'focus', 'focused', 'focuses', 'focusing', 'focussed', 'focussing', 'foe', 'fog', 'foghornleghorn', 'foia', 'fold', 'folic', 'folk', 'folks', 'follow', 'followed', 'followers', 'following', 'followlasg', 'follows', 'followup', 'followups', 'fom', 'food', 'foods', 'foodsafety', 'foodshortages', 'fooling', 'foot', 'footage', 'football', 'footballamerican', 'footballer', 'footing', 'footpath', 'forbade', 'forbes', 'forbidding', 'forbids', 'force', 'forced', 'forces', 'forcibly', 'forcing', 'ford', 'forecast', 'forecasting', 'forecasts', 'forefront', 'forehead', 'foreign', 'foreigners', 'foremost', 'foreseeable', 'foretold', 'forever', 'forged', 'forgery', 'forget', 'forging', 'forgive', 'forgot', 'forgotten', 'fork', 'forklift', 'form', 'formal', 'formation', 'former', 'formosas', 'forms', 'formula', 'fort', 'fortaleza', 'forthcoming', 'fortunately', 'fortune', 'forty', 'fortynine', 'forward', 'forwarded', 'forwards', 'foster', 'fought', 'found', 'foundation', 'founded', 'founder', 'four', 'fourmonth', 'fourstate', 'fourteen', 'fourth', 'fourthlargest', 'fourthofjuly', 'fourtyfour', 'fox', 'foxandfriends', 'foxinwolfs', 'foxnews', 'foxnewssundays', 'fraction', 'framework', 'frameworkdrtedros', 'france', 'francis', 'franco', 'franklin', 'frankly', 'frasernelson', 'fraud', 'frauds', 'fraudulent', 'freak', 'free', 'freedom', 'freedoms', 'freefall', 'freely', 'freenationtoday', 'freeview', 'freeze', 'freezing', 'freight', 'french', 'frenzy', 'frequencies', 'frequency', 'frequent', 'frequently', 'fresh', 'freshly', 'fri', 'friday', 'fridayfeeling', 'fridaymorning', 'friddlecopper', 'fridge', 'friend', 'friendly', 'friends', 'friendship', 'friendsrelatives', 'friston', 'frm', 'fromi', 'front', 'frontier', 'frontline', 'frontliners', 'frontlines', 'fronts', 'froze', 'frozen', 'fruit', 'fruition', 'fruits', 'frustrated', 'frustrating', 'frustration', 'frustrations', 'fry', 'ftc', 'ftse', 'ftwrharry', 'fucini', 'fuck', 'fucked', 'fucking', 'fuel', 'fueling', 'fuelled', 'fulfilling', 'full', 'fully', 'fullyimmunizeeverychild', 'fun', 'function', 'functional', 'functioning', 'functions', 'fund', 'fundamental', 'fundamentally', 'fundamentals', 'funded', 'funding', 'fundingdrtedros', 'fundraiser', 'fundraising', 'funds', 'funeral', 'funerals', 'fungal', 'fungus', 'funk', 'funneled', 'funny', 'funnyspoof', 'funrun', 'fur', 'furious', 'furlough', 'furloughing', 'fury', 'future', 'futurenow', 'futures', 'futuretrends', 'futurism', 'fwd', 'fwiw', 'fyi', 'féin', 'gaddafi', 'gaiman', 'gain', 'gained', 'gainesville', 'gaining', 'gainoffunction', 'gains', 'gaiters', 'galicia', 'gallagher', 'gallera', 'gallon', 'gallup', 'gamcovidvac', 'game', 'gamechanging', 'gamechangingdrtedros', 'games', 'gaming', 'gamkrelidze', 'gammons', 'gandhi', 'gandhinagar', 'ganga', 'gangadhars', 'gangaram', 'gaonconnection', 'gap', 'gaps', 'garbage', 'gardaí', 'garden', 'gardening', 'gardens', 'garg', 'gargle', 'gargled', 'gargles', 'gargling', 'garib', 'garlic', 'garmendia', 'garments', 'garnerforest', 'gary', 'garysaintdooley', 'gas', 'gaslighted', 'gate', 'gates', 'gateshead', 'gather', 'gathered', 'gathering', 'gatherings', 'gaumutra', 'gaumutrsteaming', 'gaushala', 'gautambuddhnagar', 'gave', 'gavi', 'gavin', 'gavinnewsom', 'gavinnewsoms', 'gay', 'gayatri', 'gazolla', 'gbi', 'gdp', 'gear', 'gears', 'geeta', 'gemma', 'gender', 'genderwise', 'gene', 'general', 'generally', 'generate', 'generated', 'generates', 'generating', 'generation', 'generations', 'generous', 'genetic', 'genetically', 'genexpert', 'genius', 'genocide', 'genome', 'genomic', 'genomics', 'gentleman', 'gentlemangeorge', 'gently', 'genuine', 'genuinely', 'geographic', 'geographical', 'geographicallytargeted', 'geography', 'geometrical', 'geopolitical', 'george', 'georgeorwell', 'georgetown', 'georgia', 'georgian', 'georgina', 'geotv', 'geraintmeysydd', 'gerais', 'germ', 'germain', 'german', 'germans', 'germany', 'germaphobe', 'germfree', 'germs', 'get', 'gets', 'getting', 'ghana', 'ghanamade', 'ghaziabad', 'ghazibad', 'ghebreyesus', 'ghislaine', 'ghislainemaxwell', 'ghiyatoriroti', 'ghrp', 'ghs', 'gift', 'gifted', 'gifts', 'gilead', 'ginger', 'giniminimanemo', 'ginsburg', 'girl', 'girls', 'github', 'giuliani', 'giulio', 'giuseppe', 'give', 'given', 'gives', 'giving', 'gjdltnrjmp', 'glad', 'gladysb', 'glance', 'glare', 'glass', 'glastonbury', 'glaswegian', 'glittering', 'global', 'globalhlthtwit', 'globally', 'globallycoordinated', 'globalnews', 'globaltimesnews', 'globalwarming', 'globe', 'globo', 'globuleaks', 'gloriously', 'gloves', 'gmc', 'gmt', 'goal', 'goals', 'goat', 'gobar', 'god', 'godblsmnymkr', 'godelhiites', 'godi', 'gods', 'goes', 'gof', 'goggles', 'gogoi', 'goi', 'going', 'goingbust', 'goiupat', 'gold', 'golden', 'goldfish', 'goldman', 'golf', 'gom', 'gombe', 'gomez', 'gone', 'good', 'goodbye', 'goodness', 'goodnight', 'goodpaying', 'goods', 'goodwill', 'goofy', 'google', 'goombalini', 'gop', 'gorakhpur', 'gossiping', 'got', 'gotten', 'goulding', 'gourd', 'gout', 'gouty', 'gov', 'gove', 'goverment', 'governador', 'government', 'governmentbureaucracts', 'governmentfunded', 'governmentimposed', 'governmentnow', 'governments', 'governor', 'governorinuwa', 'governors', 'govlarryhogan', 'govmurphy', 'govnedlamont', 'govparsonmo', 'govricketts', 'govrondesantis', 'govsisolak', 'govt', 'govtofimostate', 'govts', 'govwhitmer', 'gowdy', 'gown', 'gowns', 'goya', 'goyabeans', 'goyal', 'gpib', 'gps', 'grab', 'grabbed', 'grace', 'gracelands', 'grad', 'grade', 'graded', 'grades', 'grading', 'gradual', 'gradually', 'graduate', 'graduated', 'grafitti', 'grafton', 'graham', 'grahamemorris', 'grahamscooke', 'granato', 'grand', 'granddaughter', 'grande', 'grandmother', 'grandparents', 'grant', 'granted', 'grants', 'grantshapps', 'graph', 'graphic', 'graphical', 'graphs', 'grapples', 'grasp', 'grass', 'grassroot', 'grateful', 'gratitude', 'grave', 'graves', 'graveyard', 'graveyards', 'gravity', 'great', 'greater', 'greatest', 'greatly', 'greatwallofchina', 'greece', 'greek', 'green', 'greens', 'greensafe', 'greet', 'greg', 'gregmilamsky', 'gregmilamskys', 'gregorio', 'gregory', 'gregorypeck', 'grenons', 'gretchen', 'gretchenwhitmer', 'grey', 'greyfoxp', 'grief', 'grieve', 'grieving', 'grim', 'grime', 'grimes', 'grinning', 'gripped', 'grobse', 'groceries', 'grocery', 'grodzisk', 'gross', 'grossly', 'ground', 'groundbreaking', 'grounded', 'grounds', 'group', 'groupies', 'groups', 'grow', 'growing', 'grown', 'growth', 'grueling', 'gst', 'gtgtgt', 'guadeloupe', 'guam', 'guarantee', 'guarantees', 'guard', 'guardian', 'guards', 'guatemala', 'guatemalan', 'guaviare', 'guayaquil', 'guess', 'guesstimate', 'guests', 'guidance', 'guidances', 'guide', 'guided', 'guideline', 'guidelines', 'guidelinesadvisory', 'guidelinesnotifications', 'guillermo', 'guilt', 'guinea', 'guinean', 'guineans', 'guineas', 'guinness', 'guitar', 'gujarat', 'gujaratcoronaupdate', 'gujarati', 'gujaratmodel', 'gujarats', 'gummed', 'gums', 'gun', 'gunarockya', 'gunes', 'gung', 'gunna', 'gunpoint', 'guns', 'gunsupplies', 'guntoting', 'gurbani', 'gurgaon', 'guru', 'gurugram', 'gusau', 'gut', 'guterres', 'gutierrez', 'guwahati', 'guy', 'guyana', 'guys', 'gyani', 'gyiso', 'gym', 'gymnasium', 'gymnasiums', 'gyms', 'habit', 'habits', 'hack', 'hackingdata', 'hacks', 'hadfield', 'hadio', 'haematology', 'hafeez', 'haggis', 'hai', 'hailed', 'hails', 'hair', 'haircut', 'hairdressers', 'hairdryer', 'hairstylist', 'hairy', 'haji', 'hajipur', 'hala', 'haldi', 'haldwani', 'half', 'halfmast', 'halfmeasures', 'halfway', 'hall', 'hallmark', 'halls', 'hallway', 'halt', 'halted', 'halting', 'hamburger', 'hamilton', 'hampering', 'hampshire', 'hamsters', 'hancock', 'hand', 'handcuffs', 'handed', 'handful', 'handguns', 'handing', 'handle', 'handled', 'handles', 'handling', 'handrespiratory', 'hands', 'handsanitizer', 'handson', 'handwashing', 'handy', 'hang', 'hanging', 'hangover', 'hanks', 'hannity', 'hanson', 'hansons', 'hantavirus', 'hanuman', 'hanumantha', 'hapelensrob', 'hapless', 'happen', 'happened', 'happening', 'happens', 'happy', 'harassment', 'harcourt', 'hard', 'harder', 'hardest', 'hardesthit', 'hardhit', 'harding', 'hardship', 'hardships', 'hardwon', 'hardworking', 'hardy', 'hare', 'haribo', 'haripriya', 'harm', 'harmful', 'harmless', 'harms', 'harola', 'harris', 'harry', 'harrymaguire', 'harsh', 'hart', 'harvard', 'harvardgh', 'harvardmed', 'harvarduniversity', 'harveyweinstein', 'haryana', 'hashtag', 'hast', 'hate', 'hates', 'hating', 'hats', 'haul', 'haults', 'hauora', 'havana', 'havard', 'havoc', 'hawaii', 'hayfever', 'hazard', 'hazardous', 'hazipur', 'hazmat', 'hcp', 'hcpcollected', 'hcpm', 'hcps', 'hcq', 'hcws', 'hdfc', 'head', 'headache', 'headed', 'heading', 'headline', 'headlines', 'headquarters', 'headroom', 'heads', 'headteacher', 'headthis', 'heal', 'healer', 'health', 'healthcare', 'healthequity', 'healthforall', 'healthier', 'healthline', 'healthoverexams', 'healthwiremedia', 'healthworkers', 'healthworkersdrtedros', 'healthy', 'healthyfla', 'healthylife', 'hear', 'heard', 'hearing', 'hearings', 'heart', 'heartattacks', 'heartbreaking', 'heartening', 'heartless', 'heartrelated', 'heartwarming', 'heat', 'heath', 'heatvery', 'heaven', 'heavily', 'heavy', 'heberon', 'heck', 'hedgeyedj', 'heidiklum', 'height', 'heights', 'held', 'heleno', 'helicopters', 'hell', 'hello', 'hellochante', 'helm', 'helmet', 'help', 'helped', 'helpful', 'helping', 'helpless', 'helpline', 'helps', 'helsinki', 'helth', 'hemant', 'hematoencephalitic', 'hemisphere', 'hemorrhage', 'hence', 'henderson', 'heneghan', 'heneryhawk', 'henry', 'hepatitis', 'heralded', 'herb', 'herbal', 'herbs', 'herd', 'hereford', 'herman', 'hero', 'heroes', 'heroic', 'heroin', 'hes', 'heshe', 'hey', 'heymanitshayden', 'hhs', 'hhsash', 'hhsgov', 'hib', 'hiccups', 'hid', 'hidden', 'hide', 'hideo', 'hides', 'hiding', 'hidroxychloroquine', 'hierro', 'high', 'highdose', 'highend', 'higher', 'highest', 'highincome', 'highlight', 'highlighted', 'highlighting', 'highlights', 'highly', 'highpressure', 'highquality', 'highrisk', 'highs', 'highthroughput', 'hightouch', 'highway', 'hike', 'hildreth', 'hill', 'hillary', 'hills', 'hilt', 'himachalpradesh', 'himanta', 'himbeing', 'himselfherself', 'hinder', 'hindered', 'hindi', 'hindu', 'hindus', 'hinges', 'hinted', 'hinting', 'hints', 'hippocratic', 'hipster', 'hired', 'hisher', 'hispanic', 'historic', 'historical', 'historically', 'history', 'hit', 'hitech', 'hitfmcalabar', 'hits', 'hitsolutions', 'hitting', 'hiv', 'hivaids', 'hkon', 'hmh', 'hmoindia', 'hmsh', 'hoard', 'hoarding', 'hoax', 'hoaxes', 'hockey', 'hod', 'hogabaki', 'hokum', 'hold', 'holder', 'holding', 'holdout', 'holds', 'holes', 'holiday', 'holidayrelated', 'holidays', 'holland', 'hollywood', 'hollywoodcurry', 'holt', 'holy', 'holyfield', 'home', 'homebased', 'homefacility', 'homehorriblestayhome', 'homeisolation', 'homeless', 'homelessness', 'homemade', 'homeoffice', 'homeopath', 'homeopathic', 'homeopathy', 'homequarantine', 'homes', 'homeschooling', 'homicides', 'homoeopathic', 'homosexuality', 'hon', 'honble', 'honduras', 'honestly', 'honey', 'hong', 'hongkongs', 'honjo', 'honor', 'honorable', 'honourable', 'honoured', 'hontiveros', 'hood', 'hooked', 'hope', 'hoped', 'hopeful', 'hopefulexcoach', 'hopefully', 'hopes', 'hoping', 'hopkins', 'hopkinscdhs', 'hopson', 'horby', 'horizon', 'horizons', 'horny', 'horrific', 'horrified', 'horror', 'horse', 'horses', 'hosp', 'hospital', 'hospitalbased', 'hospitalisation', 'hospitalised', 'hospitalists', 'hospitality', 'hospitalization', 'hospitalizations', 'hospitalizationsicu', 'hospitalize', 'hospitalized', 'hospitallevel', 'hospitals', 'hospitalthey', 'hossain', 'host', 'hosted', 'hosting', 'hosts', 'hot', 'hota', 'hotel', 'hotels', 'hotline', 'hotspot', 'hotspots', 'hotter', 'hour', 'hours', 'hoursnumber', 'house', 'housed', 'houseflies', 'household', 'households', 'houses', 'houseslpg', 'housing', 'houstonchron', 'hovering', 'however', 'howie', 'hownsle', 'howwehospitalist', 'hpropaganda', 'hpv', 'hrd', 'hrh', 'hrs', 'hselive', 'hsipaw', 'htdelhi', 'htservadac', 'huawei', 'hub', 'hubei', 'huckabee', 'huddled', 'hudgens', 'hue', 'huge', 'hugely', 'hugging', 'hugo', 'huh', 'hum', 'human', 'humanitarian', 'humanity', 'humanly', 'humanmade', 'humans', 'humes', 'humidity', 'humor', 'humour', 'humvee', 'hundred', 'hundreds', 'hunger', 'hungry', 'hunting', 'huntsonmark', 'huoshenshan', 'hurdles', 'hurricane', 'hurricanelaura', 'hurt', 'hurts', 'husband', 'hussain', 'hussein', 'hut', 'hyderabad', 'hyderbad', 'hydrochloroquine', 'hydrogen', 'hydroquinone', 'hydroxichloroquine', 'hydroxy', 'hydroxychloroqen', 'hydroxychloroquin', 'hydroxychloroquine', 'hydroxychloroquineis', 'hydroxydhloroquine', 'hygiene', 'hype', 'hypercapnia', 'hypermarket', 'hypertension', 'hypochlorite', 'hypochondria', 'hypoxia', 'hysteria', 'iacc', 'iamadunnii', 'iammisstrees', 'iampii', 'ians', 'ianuragthakur', 'iasalok', 'iaspankajpandey', 'ibadan', 'ibd', 'ibekwe', 'ibergwiesel', 'ibirapuera', 'ibis', 'ibom', 'ibrahim', 'ibs', 'ibuprofen', 'icahnmountsinai', 'icai', 'icairespondnow', 'ice', 'iceberg', 'ickes', 'icmr', 'icmrdelhi', 'icmrdelhis', 'icmrnirrh', 'icmrniv', 'icmrrmrcgkp', 'icphhomeless', 'icu', 'icus', 'icymi', 'idaho', 'idea', 'ideal', 'ideas', 'identification', 'identified', 'identifies', 'identify', 'identifying', 'identity', 'idh', 'idiocy', 'idiots', 'idiotsthey', 'idlisdosasmeals', 'idols', 'idorigatti', 'idph', 'iea', 'iebc', 'ifad', 'ife', 'iffy', 'iga', 'igg', 'ignite', 'ignorance', 'ignore', 'ignored', 'ignores', 'ignoring', 'igot', 'ihipidsp', 'ihme', 'ihr', 'ihstowers', 'iii', 'iit', 'ikaveri', 'ikea', 'ilaihi', 'ilhan', 'ill', 'illa', 'illegal', 'illegalimmigrants', 'illegally', 'illinformed', 'illinois', 'illinoisans', 'illiterate', 'illness', 'illnesses', 'illogical', 'illprepared', 'ills', 'illuminates', 'illustrate', 'illustration', 'illustrations', 'image', 'images', 'imagined', 'imam', 'imdanthompson', 'imf', 'imitating', 'immanuel', 'immediate', 'immediately', 'immigrants', 'immigration', 'immigrations', 'imminent', 'immobilizing', 'immune', 'immunecompromised', 'immunesystem', 'immunisation', 'immunity', 'immunitybooster', 'immunization', 'immunizationforall', 'immunizations', 'immunize', 'immunogenic', 'immunoglobulin', 'immunologist', 'immunoresponse', 'immunosuppression', 'immuntiy', 'imp', 'impact', 'impactdrtedros', 'impacted', 'impacting', 'impacts', 'impaired', 'impassioned', 'impeachment', 'imperative', 'imperfect', 'imperial', 'imperialcollege', 'imperialem', 'imperialjidea', 'implant', 'implanted', 'implants', 'implement', 'implementation', 'implemented', 'implementing', 'implemention', 'implements', 'implication', 'implicitly', 'implies', 'imply', 'implying', 'import', 'importance', 'important', 'importantinformation', 'importantly', 'imported', 'impose', 'imposed', 'imposes', 'impossible', 'imposters', 'impplemented', 'impressed', 'impresses', 'impression', 'impressive', 'imprisonment', 'improperly', 'improve', 'improved', 'improvement', 'improvements', 'improves', 'improving', 'impt', 'impunity', 'imran', 'imtherealdmac', 'inability', 'inaccessible', 'inaccurate', 'inactivated', 'inactive', 'inadequate', 'inadvertently', 'inarguable', 'inaugural', 'inauguration', 'inbetween', 'inbox', 'inc', 'incarcerated', 'incentive', 'inch', 'inching', 'incidence', 'incident', 'incidents', 'incinerated', 'incl', 'incline', 'include', 'included', 'includes', 'including', 'inclusion', 'inclusive', 'income', 'incomes', 'incompetence', 'incomplete', 'incompletely', 'incontext', 'incorporated', 'incorporates', 'incorrect', 'incorrectly', 'incountry', 'increase', 'increased', 'increases', 'increasing', 'increasingly', 'incredible', 'incredibly', 'incubating', 'incubation', 'incurred', 'indebted', 'indecipherable', 'indeed', 'indefinite', 'indefinitely', 'independence', 'independenceday', 'independent', 'index', 'india', 'indiaas', 'indiadst', 'indiafightscirona', 'indiafightscorona', 'indiafightscoronavirus', 'indiaindependenceday', 'indiainguyana', 'indian', 'indiana', 'indianalaska', 'indianarmy', 'indianembtokyo', 'indians', 'indiansv', 'indiantelecommunication', 'indias', 'indiatv', 'indiawilllwin', 'indiawillwin', 'indicate', 'indicated', 'indicates', 'indicating', 'indication', 'indications', 'indicative', 'indicator', 'indicators', 'indictment', 'indifferent', 'indigenous', 'indigenously', 'indigo', 'indindianarmy', 'indirect', 'indirectly', 'individual', 'individually', 'individuals', 'indoctornation', 'indonesia', 'indonesian', 'indoor', 'indoors', 'indore', 'indous', 'indsupremecourt', 'induced', 'induction', 'indus', 'industrial', 'industrialist', 'industries', 'industry', 'ineffective', 'inefficiency', 'inept', 'inequality', 'inequities', 'inevitable', 'inevitably', 'inexplicable', 'infamous', 'infant', 'infanta', 'infants', 'infect', 'infected', 'infectedmild', 'infecting', 'infection', 'infectiondrtedros', 'infections', 'infectionsdrtedros', 'infectious', 'infectivity', 'infects', 'inference', 'inferring', 'infertility', 'infinity', 'infirm', 'inflammation', 'inflammatory', 'inflating', 'inflection', 'inflicting', 'influence', 'influenced', 'influenza', 'influenzalike', 'info', 'infocovidactnoworg', 'infodemic', 'infographic', 'infointerest', 'inform', 'information', 'informed', 'informs', 'infra', 'infrared', 'infrastructure', 'infrequent', 'infusing', 'ingenuity', 'ingest', 'ingesting', 'ingrahamangle', 'ingredient', 'ingredients', 'ingress', 'inhabitant', 'inhalation', 'inhale', 'inhaled', 'inhalers', 'inhaling', 'inherited', 'inhibitor', 'inhibits', 'inhome', 'inhospital', 'initial', 'initially', 'initiate', 'initiated', 'initiation', 'initiative', 'inject', 'injectable', 'injected', 'injecting', 'injection', 'injections', 'injured', 'injuries', 'injury', 'ink', 'inkalonji', 'inmates', 'inna', 'innocence', 'innovation', 'innovations', 'innovative', 'innowner', 'inoculation', 'inperson', 'inquiry', 'inr', 'insanity', 'insect', 'insecticide', 'insects', 'inserted', 'insertion', 'inside', 'insider', 'insight', 'insightful', 'insights', 'insilico', 'insist', 'insisting', 'insists', 'insolvency', 'inspect', 'inspector', 'inspirational', 'inspire', 'instability', 'instagram', 'install', 'installed', 'installing', 'installment', 'instalment', 'instance', 'instances', 'instant', 'instead', 'institute', 'institutelabs', 'institutes', 'instituting', 'institution', 'institutional', 'institutionalquarantine', 'institutions', 'instructed', 'instructing', 'instruction', 'instructions', 'instructive', 'instructs', 'instrument', 'instuctions', 'insufficiency', 'insufficient', 'insulting', 'insurance', 'insurgency', 'intact', 'intake', 'integral', 'integrate', 'integrated', 'integration', 'integrative', 'intel', 'intelligence', 'intelligent', 'intended', 'intending', 'intense', 'intensified', 'intensify', 'intensity', 'intensive', 'intentional', 'intentionally', 'inter', 'interact', 'interactive', 'interconnectedness', 'interesante', 'interest', 'interested', 'interfere', 'interferon', 'interim', 'interior', 'intermediate', 'intermittent', 'internal', 'international', 'internationally', 'internatl', 'internet', 'interns', 'interpret', 'interpretation', 'interpreted', 'interregional', 'interrogation', 'interrupted', 'interrupteddrtedros', 'interruptions', 'interstate', 'interval', 'intervene', 'intervention', 'interventions', 'interventionsdrtedros', 'interview', 'interviewed', 'interviews', 'intestinal', 'inthe', 'intially', 'intimate', 'intra', 'intrastate', 'intravenous', 'intrepid', 'intriguing', 'introduce', 'introduced', 'introduces', 'introducing', 'introduction', 'introvert', 'introverts', 'intrusions', 'intubate', 'intubated', 'inundated', 'invalid', 'invasion', 'invented', 'inventing', 'invention', 'inventions', 'inventor', 'inverness', 'invest', 'invested', 'investeddrtedros', 'investigate', 'investigated', 'investigates', 'investigating', 'investigation', 'investigations', 'investigative', 'investigator', 'investigators', 'investing', 'investment', 'investmentdrtedros', 'investors', 'invisible', 'invite', 'invited', 'invites', 'inviting', 'invoking', 'involve', 'involved', 'involvement', 'involves', 'involving', 'ioannidis', 'ioc', 'iodine', 'iowa', 'ipc', 'iphone', 'ipl', 'iprnewsradio', 'iran', 'iranian', 'iranians', 'iraq', 'iraqi', 'ireland', 'irelands', 'irene', 'irish', 'irisheurophile', 'iron', 'irony', 'irrefutable', 'irrefutably', 'irregular', 'irresponsible', 'irritation', 'irs', 'isa', 'isabel', 'isabeloakeshott', 'ischemic', 'isha', 'isis', 'islam', 'islamabad', 'islamic', 'islamist', 'island', 'islander', 'islanders', 'islands', 'ismmskidney', 'isnt', 'isolate', 'isolated', 'isolating', 'isolation', 'isolationhospitalisation', 'isolationquarantine', 'israel', 'israeli', 'israelis', 'israels', 'issue', 'issued', 'issues', 'issuing', 'istanbul', 'istandwithmashpee', 'italian', 'italians', 'itally', 'italy', 'italys', 'itand', 'itaperuna', 'item', 'items', 'itemscertificates', 'itemsit', 'itinerary', 'itly', 'itplus', 'itwhat', 'iud', 'ivankatrump', 'ive', 'ivermectin', 'jabalpursafety', 'jacinda', 'jacindaardern', 'jackie', 'jackinthebox', 'jacksonville', 'jackwestmd', 'jacob', 'jacobselisabeth', 'jagan', 'jail', 'jain', 'jaipur', 'jair', 'jalingo', 'jam', 'jama', 'jamaat', 'jamaatis', 'jamal', 'jamalkhashoggi', 'jamat', 'jamati', 'james', 'jamesdsteinberg', 'jamesgross', 'jamestodaromd', 'jamie', 'jammat', 'jammu', 'jan', 'janata', 'janeiro', 'janmabhoomi', 'janta', 'january', 'japan', 'japanese', 'japans', 'jared', 'jaredkushner', 'jarkhand', 'jaroslav', 'jason', 'jatayler', 'jazz', 'jbalsich', 'jburnmurdoch', 'jcoasco', 'jdeely', 'jdmaresco', 'jeanine', 'jeanroger', 'jeans', 'jechalmers', 'jedi', 'jedward', 'jee', 'jeevan', 'jeffrey', 'jenkinson', 'jenner', 'jennifer', 'jennifersmith', 'jenny', 'jennymccarthy', 'jennymikakos', 'jeopardy', 'jerad', 'jeremyhume', 'jerrbearr', 'jersey', 'jerseys', 'jessica', 'jesus', 'jesusjimz', 'jesús', 'jet', 'jetpark', 'jewellry', 'jewish', 'jhalawar', 'jharkhand', 'jhu', 'jhuber', 'jigawa', 'jihadi', 'jihadis', 'jim', 'jimcramer', 'jimdtweet', 'jimmy', 'jinping', 'jio', 'jis', 'jitendra', 'jjmalina', 'jkuat', 'jlo', 'jmcstarbug', 'jninstitute', 'job', 'jobless', 'jobs', 'jobseekers', 'jobwork', 'jockeys', 'joe', 'joebiden', 'joewasserman', 'joggers', 'john', 'johnabrahamclub', 'johnkubie', 'johnpavlovitz', 'johnrentoul', 'johns', 'johnshopkins', 'johnshopkinsepi', 'johnson', 'johnsons', 'johntravolta', 'johnwayne', 'join', 'joined', 'joining', 'joins', 'joint', 'jointly', 'joke', 'jokeinformation', 'jokowis', 'jolie', 'jonashworth', 'jonathan', 'joncraig', 'jones', 'jonkay', 'jordanian', 'jordanzino', 'jorge', 'jos', 'jose', 'josephbiden', 'joshfrydenberg', 'joshgordo', 'joshtpm', 'josé', 'journal', 'journalist', 'journalists', 'journey', 'journeys', 'jovis', 'joy', 'joyalukkas', 'joyannreid', 'joão', 'jrwyke', 'jsolomonreports', 'jsssms', 'juan', 'juba', 'judaism', 'juddlegum', 'judge', 'judith', 'judy', 'juice', 'julia', 'julian', 'julienchien', 'julius', 'july', 'jump', 'jumped', 'jumping', 'jumps', 'juna', 'june', 'junior', 'junos', 'jurisdictions', 'justice', 'justifies', 'justify', 'justin', 'justinhart', 'justintrudeau', 'jyoti', 'kabataan', 'kachiguda', 'kaczynski', 'kadha', 'kadhas', 'kaduna', 'kag', 'kagashley', 'kalabari', 'kalka', 'kalma', 'kalonji', 'kalyan', 'kamal', 'kamala', 'kamalaharris', 'kamathgurudutt', 'kamias', 'kanganateam', 'kanika', 'kannanthanam', 'kanniyakumari', 'kano', 'kanpur', 'kansas', 'kapoor', 'karachi', 'karakaxlist', 'karaoehler', 'karaoke', 'karimganj', 'karinaclaudiob', 'karipurairport', 'karl', 'karluskap', 'karnataka', 'karnatakabjpgovernment', 'karnatakas', 'karol', 'karti', 'kashmir', 'kasturba', 'kate', 'kathleen', 'kathua', 'katsina', 'katy', 'kaufman', 'kawasakilike', 'kayburley', 'kayleigh', 'kayleighmcenany', 'kazakhstanis', 'kaziranga', 'kcpubhealth', 'kcrfailedtelangana', 'kctaz', 'kdhauck', 'kdhe', 'kdu', 'keanu', 'keating', 'kebbi', 'keeling', 'keenly', 'keep', 'keeping', 'keeppushing', 'keeps', 'keg', 'keir', 'keirstarmer', 'keirstarmers', 'keithholdskeytovirusvaccine', 'kejriwal', 'kem', 'kemp', 'kennedy', 'kenpomeroy', 'kent', 'kentucky', 'kentuckyderby', 'kentuckys', 'kenya', 'kenyan', 'kenyaphysicians', 'kenyas', 'kept', 'keqiang', 'kerala', 'keralas', 'kerrygroup', 'ketamine', 'ketchup', 'kettle', 'kevan', 'kevin', 'kevinfurr', 'kevinlyfather', 'key', 'keyboards', 'keychain', 'kff', 'khaled', 'khaleesyd', 'khaliahhh', 'khan', 'khans', 'khargone', 'khashoggi', 'khnews', 'khoneyfordstats', 'kia', 'kicillof', 'kick', 'kicked', 'kicks', 'kickstart', 'kid', 'kidalabama', 'kidnapped', 'kidney', 'kidneys', 'kidneytransplant', 'kids', 'kikimarfat', 'kill', 'killed', 'killer', 'killing', 'killingvirus', 'kills', 'kilos', 'kim', 'kimathi', 'kimmel', 'kind', 'kindly', 'kindness', 'kinds', 'king', 'kingdom', 'kings', 'kingswood', 'kinks', 'kins', 'kiosk', 'kirkland', 'kirklandwa', 'kirtan', 'kishanganj', 'kiss', 'kissane', 'kissing', 'kissinger', 'kit', 'kitchen', 'kitchencone', 'kitmalthouse', 'kits', 'kitswe', 'kiwibardy', 'kiwis', 'kmag', 'kmccready', 'kmedved', 'knell', 'knew', 'knight', 'knock', 'knocks', 'know', 'knowing', 'knowledge', 'knowledgeable', 'known', 'knowns', 'knows', 'knowthefacts', 'knowto', 'knsmoh', 'kochi', 'kogi', 'kolhapur', 'kolkata', 'kolkataairport', 'kolkatta', 'komal', 'konark', 'kong', 'koolaid', 'koolfee', 'koran', 'korea', 'korean', 'koreans', 'koregaon', 'korona', 'kota', 'kothapet', 'kris', 'krisbeknowin', 'krishna', 'kroger', 'kryziamarie', 'ksrinivas', 'ksrtctruck', 'ktwopines', 'kudos', 'kumar', 'kunfaaya', 'kung', 'kunj', 'kurnool', 'kusaweir', 'kushner', 'kuwait', 'kwara', 'kyi', 'kylie', 'kytheanticomguy', 'lab', 'labalexismadrigal', 'labconfirmed', 'label', 'labeled', 'labels', 'labor', 'laboratories', 'laboratory', 'laboratoryconfirmed', 'laboratorygrade', 'laboratorymade', 'laborday', 'labordaysafe', 'laborers', 'labour', 'labourers', 'labours', 'labs', 'labshospitals', 'labsshifts', 'labthen', 'lace', 'lachupacabra', 'lack', 'lacking', 'lacks', 'laclippers', 'lactancy', 'lactate', 'lady', 'lag', 'lagarde', 'lage', 'lager', 'lagging', 'lagos', 'lags', 'lagta', 'laguna', 'lahood', 'lahore', 'laid', 'lake', 'lakh', 'lakhday', 'lakhs', 'lakshadweep', 'lalu', 'laminar', 'lamp', 'lampedusa', 'lancashire', 'lancaster', 'lancet', 'land', 'landing', 'landlords', 'landmark', 'langres', 'language', 'languages', 'lanka', 'lankan', 'lankas', 'lao', 'lapdances', 'lapses', 'laptops', 'laredo', 'large', 'largely', 'larger', 'largest', 'las', 'last', 'lasting', 'lastly', 'lastmile', 'lasts', 'lastwordwilliam', 'late', 'latejune', 'lately', 'later', 'latest', 'latex', 'lathi', 'latimeralder', 'latin', 'latino', 'latinos', 'latinx', 'latitude', 'latitudes', 'latter', 'latur', 'latvia', 'latvian', 'lauded', 'lauds', 'laugh', 'launch', 'launched', 'launches', 'launching', 'laura', 'laureate', 'laurent', 'lav', 'law', 'lawmaker', 'lawn', 'laws', 'lawsuit', 'lawsuits', 'lawyers', 'lax', 'laxative', 'laxmi', 'lay', 'layer', 'laying', 'layoffed', 'layoffs', 'lazy', 'lbgoodnessgrows', 'lcsm', 'ldf', 'lead', 'leader', 'leaders', 'leadership', 'leading', 'leads', 'leaflet', 'leafs', 'league', 'leakage', 'leaked', 'leaking', 'leaning', 'leapfrogged', 'learn', 'learned', 'learning', 'learningdrtedros', 'learns', 'learnt', 'leash', 'least', 'leather', 'leave', 'leaves', 'leaving', 'lebanon', 'lebronjames', 'led', 'leehurstcomic', 'left', 'leftover', 'leg', 'legal', 'legend', 'legionnaires', 'legislation', 'legislative', 'legislator', 'legitfundcom', 'legitimate', 'legitimately', 'lego', 'leh', 'leicester', 'lemon', 'length', 'lengths', 'lengthy', 'leni', 'lennons', 'lenox', 'lentils', 'leonardo', 'leonor', 'les', 'lesamitchell', 'lesions', 'leslie', 'lesotho', 'less', 'lessen', 'lesser', 'lesserknown', 'lesson', 'lessons', 'lester', 'let', 'lethal', 'leto', 'letter', 'letterbox', 'letters', 'letting', 'leukemia', 'level', 'levels', 'levied', 'lewd', 'lewis', 'lga', 'lgas', 'lgbtq', 'lgbtquarantine', 'lgte', 'liable', 'liaison', 'liangs', 'liberal', 'liberate', 'liberia', 'libertarians', 'liberties', 'liberty', 'libraries', 'library', 'license', 'licensed', 'licking', 'lid', 'lieber', 'lied', 'lies', 'lieutenant', 'life', 'lifecamp', 'lifel', 'lifelong', 'lifesaver', 'lifesaving', 'lifescihiggins', 'lifestyle', 'lifethreatening', 'lifetime', 'lift', 'lifted', 'lifts', 'light', 'lightcandles', 'lighten', 'lighting', 'lights', 'like', 'likelihood', 'likely', 'lillahi', 'limaye', 'lime', 'limeng', 'limengyan', 'limes', 'limit', 'limitations', 'limited', 'limiting', 'limitlesscountry', 'limits', 'linda', 'lindsey', 'line', 'lined', 'lines', 'linger', 'lingering', 'lining', 'link', 'linked', 'linking', 'links', 'lion', 'lionel', 'lions', 'lips', 'lipservice', 'liquefies', 'liquid', 'liquids', 'liquor', 'lisa', 'list', 'listed', 'listen', 'listening', 'listerine', 'listing', 'lists', 'lit', 'literacy', 'literally', 'literaryeric', 'literate', 'lithuanian', 'litigation', 'little', 'live', 'livelife', 'livelihoods', 'liver', 'liverpool', 'lives', 'livesdrtedros', 'livestock', 'livestream', 'living', 'liwen', 'llano', 'lnjp', 'load', 'loads', 'loaf', 'lobs', 'local', 'localised', 'locality', 'localized', 'locally', 'locals', 'locate', 'located', 'locating', 'location', 'locations', 'lock', 'lockdown', 'lockdowncanada', 'lockdownera', 'lockdownextension', 'lockdownish', 'lockdownnow', 'lockdownontario', 'lockdownquery', 'lockdowns', 'locked', 'lockout', 'locsin', 'lodges', 'log', 'logged', 'logic', 'logically', 'logistics', 'logo', 'lokckdown', 'loknayak', 'loksabha', 'lol', 'lolageek', 'lombardy', 'london', 'londonbased', 'londoners', 'loneliness', 'long', 'longer', 'longest', 'longestablished', 'longfeared', 'longlasting', 'longstanding', 'longterm', 'longtime', 'look', 'lookalike', 'looked', 'looking', 'looks', 'loops', 'loose', 'loosening', 'looted', 'looting', 'lopez', 'lord', 'lordloredo', 'lorry', 'los', 'lose', 'loser', 'loses', 'losing', 'loss', 'losses', 'lost', 'lostdrtedros', 'lot', 'lots', 'lotus', 'louis', 'louisiana', 'lounge', 'lousy', 'lovato', 'love', 'loved', 'loveheart', 'low', 'lowamp', 'lowcock', 'lowdensity', 'lower', 'lowered', 'lowerincome', 'lowering', 'lowers', 'lowerthetemp', 'lowest', 'lowincome', 'lowintensity', 'lows', 'lpc', 'lshtm', 'lsmoh', 'ltc', 'ltd', 'ltgovdelhi', 'ltgrusselhonore', 'luck', 'lucknow', 'lucky', 'luckyyou', 'lucía', 'lugansk', 'luigi', 'luis', 'lukes', 'lukewarm', 'lull', 'lump', 'lumped', 'lumping', 'lung', 'lungs', 'lungtransplant', 'lupus', 'luque', 'lurk', 'luvhopecourage', 'luxembourg', 'luxury', 'lying', 'lyme', 'lymphocyte', 'lymphocytopenia', 'lysol', 'maasai', 'macarthur', 'macedonia', 'macedonian', 'machine', 'machines', 'mackinaw', 'macrolide', 'macron', 'madagascan', 'madagascar', 'madavidj', 'maddow', 'made', 'madhav', 'madhu', 'madhukishwar', 'madhya', 'madhyapradesh', 'madison', 'madness', 'madonna', 'madrasas', 'madrid', 'madrids', 'maduro', 'maduros', 'maga', 'magazine', 'maggie', 'magic', 'magickly', 'magne', 'magnitude', 'mahal', 'maharashtra', 'maharashtras', 'maharasthra', 'maharastra', 'maharshtra', 'mahila', 'mahinda', 'mahmoud', 'maia', 'maiduguri', 'mail', 'mailbox', 'mailinvoting', 'main', 'mainbhinewschecker', 'maine', 'mainland', 'mainly', 'mainstream', 'maintain', 'maintained', 'maintaineddrtedros', 'maintaining', 'maintains', 'maintenance', 'majha', 'majid', 'major', 'majority', 'majorleaguebaseball', 'makati', 'make', 'maked', 'maker', 'makers', 'makes', 'makeshift', 'makeup', 'makhi', 'making', 'makraz', 'maks', 'malaga', 'malagasy', 'malaria', 'malarial', 'malarianomoreuk', 'malaysia', 'malaysian', 'maldives', 'male', 'males', 'mali', 'malignancies', 'mall', 'malls', 'malnourished', 'malnutrition', 'malpractice', 'malunggay', 'mama', 'mamata', 'mamataofficial', 'man', 'manafort', 'manage', 'managed', 'management', 'manager', 'managers', 'managing', 'manara', 'manatū', 'manaus', 'manchester', 'mancoronavirus', 'mandal', 'mandaluyong', 'mandate', 'mandated', 'mandates', 'mandatorily', 'mandatory', 'mandel', 'mandetta', 'mandilovell', 'maneesha', 'manfred', 'mangaloreshimogachikmagalur', 'manhours', 'manifestations', 'manifests', 'manila', 'manipulated', 'manipulating', 'manipulation', 'manipur', 'manir', 'manish', 'manisha', 'manmade', 'mannequin', 'mannequins', 'manner', 'manori', 'mans', 'mantova', 'mantra', 'mantralayaroom', 'mantri', 'mantua', 'manual', 'manuel', 'manufacture', 'manufactured', 'manufacturer', 'manufacturered', 'manufacturers', 'manufactures', 'manufacturing', 'many', 'map', 'mapped', 'maps', 'mar', 'marakont', 'maralago', 'marapr', 'marañón', 'march', 'marchapril', 'marchmadness', 'marcos', 'margaret', 'margarets', 'margarita', 'margin', 'marginalized', 'marginally', 'mariana', 'maricopa', 'marie', 'marijuana', 'marine', 'marist', 'mark', 'markaz', 'markdrakeford', 'marked', 'markedbycovid', 'market', 'marketed', 'marketing', 'marketplaces', 'marketresearch', 'markets', 'marketstrategy', 'markle', 'markplease', 'marks', 'marlena', 'marlins', 'marred', 'marriage', 'marriages', 'married', 'mars', 'marseille', 'marshablackburn', 'marshmallows', 'martial', 'martin', 'martindaubney', 'martinelli', 'martín', 'marvin', 'marvinbrite', 'mary', 'maryland', 'mas', 'mascot', 'mashpee', 'mashrafe', 'masjid', 'mask', 'masked', 'maskface', 'maskfacecover', 'maskfor', 'masking', 'maskingforafriend', 'maskonnaija', 'masks', 'maskwearing', 'mass', 'massachusetts', 'massai', 'masses', 'massive', 'massproduce', 'masterplan', 'masters', 'masterstroke', 'masts', 'masturbate', 'matadors', 'matamata', 'matarratn', 'match', 'matches', 'matching', 'mate', 'matelots', 'material', 'materials', 'maternal', 'maternity', 'mates', 'math', 'mathematically', 'matt', 'mattadkin', 'matter', 'matterhorn', 'matters', 'mattersdrtedros', 'matthancock', 'maturín', 'maulana', 'mauritius', 'max', 'maxcroser', 'maxed', 'maximally', 'maximebernier', 'maximize', 'maximum', 'maxwell', 'maxwells', 'may', 'mayan', 'mayans', 'maybe', 'mayor', 'mayors', 'mazaak', 'mazjobrani', 'mazowiecki', 'mbdavolt', 'mbiegovtnz', 'mbuhari', 'mccain', 'mccarthy', 'mcconnell', 'mcdonalds', 'mcenany', 'mckesson', 'mckinnell', 'mcmichael', 'mcrc', 'mcuban', 'mean', 'meaneydelman', 'meaning', 'meaningless', 'meaninglessness', 'meanings', 'means', 'meanssilicon', 'meant', 'meantime', 'meanwhile', 'measles', 'measure', 'measurement', 'measures', 'measuring', 'meat', 'meatpackers', 'meatpacking', 'meats', 'mecfs', 'mechanical', 'mechanism', 'mechanisms', 'medbennett', 'medcure', 'meddling', 'medecin', 'media', 'median', 'medias', 'mediaservices', 'mediawise', 'medica', 'medicaid', 'medical', 'medicaldoctor', 'medicare', 'medicate', 'medication', 'medications', 'medicinal', 'medicine', 'medicines', 'medics', 'medscape', 'medtwitter', 'meerut', 'meet', 'meeting', 'meetings', 'meets', 'megha', 'meghalaya', 'meghan', 'mehdipatnam', 'mehsana', 'melania', 'melaniatrump', 'melaninabsorbs', 'melasma', 'melbourne', 'melbournes', 'melburnians', 'melinda', 'member', 'members', 'membrane', 'membranes', 'meme', 'memo', 'memorandum', 'memorial', 'memory', 'memorydrtedros', 'memos', 'memphis', 'men', 'meng', 'mennewsdesk', 'mental', 'mentalhealth', 'mentalhealthawareness', 'mentally', 'mention', 'mentioned', 'mentored', 'meow', 'merci', 'mercury', 'mercy', 'mere', 'merely', 'mergecaexamsjulyandnov', 'merit', 'merits', 'merkel', 'mers', 'merscov', 'merseyside', 'mesenchymal', 'message', 'messages', 'messaging', 'messed', 'messejana', 'messonnier', 'messy', 'met', 'metaanalysis', 'metal', 'metastatic', 'meteorologist', 'meters', 'metformin', 'methanol', 'method', 'methodological', 'methods', 'methodsmanmd', 'methylxanthine', 'methylxanthines', 'meto', 'metres', 'metric', 'metrics', 'metro', 'metrobackontrack', 'metropolises', 'mexican', 'mexico', 'mexicos', 'mexiwi', 'mgput', 'mha', 'mhfwgoup', 'miami', 'mibindia', 'mic', 'mice', 'michael', 'michaelminalab', 'michaelnielsen', 'micheál', 'michigan', 'michiganders', 'michigans', 'micro', 'microbiologists', 'microchip', 'microchipped', 'microchips', 'microphase', 'microscope', 'microsoft', 'microsofts', 'microvascular', 'microwave', 'mid', 'midapril', 'midatlantic', 'midcourse', 'midday', 'middle', 'middleclass', 'middleincome', 'middlemore', 'middleton', 'midjuly', 'midjune', 'midlands', 'midmay', 'midnight', 'midnovember', 'midoctober', 'midst', 'midtolate', 'midweek', 'midwest', 'midwinter', 'might', 'mighty', 'migrant', 'migrants', 'migrating', 'miguel', 'mihigo', 'mikakoss', 'mike', 'mikehixenbaugh', 'mikejgallant', 'mikepence', 'mikovits', 'mil', 'mila', 'milan', 'mild', 'milder', 'mildpresymptomatic', 'mildpresymptomaticasymptomatic', 'mildpresymptomaticmoderate', 'mildvery', 'miles', 'milestone', 'mileycyrus', 'military', 'milk', 'milking', 'milkshake', 'millennials', 'millennium', 'million', 'milliondollar', 'millionmark', 'millions', 'mills', 'milwaukee', 'mime', 'mimes', 'min', 'minas', 'mind', 'mindedmusically', 'minds', 'mine', 'mineral', 'minerals', 'mingfang', 'mingling', 'minhealthnz', 'minimise', 'minimize', 'minimized', 'minimum', 'minister', 'ministers', 'ministries', 'ministry', 'ministrywcd', 'minnesota', 'minogue', 'minority', 'minorityfriendly', 'minoritymentalhealth', 'minorityowned', 'mins', 'minster', 'minuses', 'minute', 'minutes', 'miq', 'miracle', 'miraclesoftrueworship', 'mis', 'misbehaved', 'misbehaving', 'misbehavior', 'misc', 'miscarriage', 'misconduct', 'misconstrue', 'misdiagnosed', 'miserably', 'mishra', 'misinfo', 'misinformation', 'misinformationdisinformation', 'misinformationfearmongering', 'mislabeled', 'mislead', 'misleading', 'misled', 'mismanagement', 'miss', 'missed', 'missiles', 'missing', 'mission', 'missionaries', 'mississippi', 'misso', 'missouri', 'mistake', 'mistakenly', 'mistakes', 'mistaking', 'mistook', 'mistreating', 'misuse', 'misusing', 'mit', 'mitch', 'mitchmcconnell', 'mitigate', 'mitigation', 'mix', 'mixed', 'mixes', 'mixing', 'mixture', 'mizoram', 'mkehealth', 'mla', 'mlasudhakar', 'mlb', 'mms', 'mny', 'moayush', 'mob', 'mobile', 'mobileand', 'mobilepunch', 'mobilise', 'mobility', 'mobilization', 'mobilize', 'mobilized', 'mobs', 'mocagoi', 'mock', 'mocking', 'mocks', 'mode', 'model', 'modeled', 'modeling', 'modellereconomist', 'modellers', 'modelling', 'models', 'moderate', 'moderatehigh', 'moderateish', 'modern', 'moderna', 'modestly', 'modi', 'modia', 'modicovidaddress', 'modifiable', 'modified', 'modify', 'modigovtfailed', 'modiji', 'modijipostponejeeneet', 'modimedia', 'modulators', 'moh', 'mohammed', 'mohan', 'mohfwindia', 'mohfwindias', 'mohoddin', 'moinhos', 'moist', 'moistly', 'moisture', 'molecular', 'molecule', 'molecules', 'mom', 'mombasa', 'moment', 'momentarily', 'moments', 'mon', 'monday', 'mondaymorning', 'mondays', 'mondayvibes', 'money', 'moneylaundering', 'mongolia', 'monitor', 'monitoring', 'monkeys', 'monoclonal', 'montana', 'montanari', 'montero', 'month', 'monthly', 'months', 'mood', 'moonshot', 'mooted', 'mor', 'morally', 'moratalaz', 'morbidity', 'morbidityas', 'morbidly', 'moreover', 'morgue', 'morguescrematoriums', 'morning', 'morningmotivation', 'morningnight', 'mornings', 'moron', 'morons', 'morrinsville', 'morrison', 'morrisons', 'mortality', 'mortalityrate', 'mortaza', 'mortgage', 'mortimer', 'mortuary', 'moscow', 'mosh', 'mosinee', 'mosque', 'mosques', 'mosquito', 'mosquitoborne', 'mosquitoes', 'mosquitos', 'mostaffected', 'mostly', 'mother', 'motherloudly', 'mothers', 'mothersday', 'motherstobe', 'mothertochild', 'motivate', 'motivating', 'motivation', 'motor', 'motorbiked', 'motorway', 'mountain', 'mountsinairmti', 'mourn', 'mouth', 'mouthwash', 'move', 'moved', 'movement', 'movements', 'moves', 'movie', 'movies', 'moving', 'mow', 'mpmlas', 'mps', 'mrcoutbreak', 'mrdelvan', 'mri', 'mrmikeparker', 'mrna', 'mrs', 'msg', 'msisodia', 'mskatemcd', 'msm', 'msmes', 'msrightmsright', 'muammar', 'much', 'muchpoor', 'mucus', 'mud', 'muddled', 'muddying', 'mufti', 'mug', 'mugwort', 'muhamed', 'muhammadu', 'mujahid', 'mukwege', 'multicentric', 'multinational', 'multiple', 'multiples', 'multiplication', 'multiplies', 'multiplying', 'multisystem', 'multiweek', 'mum', 'mumbai', 'mumbaipolice', 'mumbaipolicerajputramesh', 'mumbais', 'mumbaiyb', 'municipal', 'municipalities', 'municipality', 'muradabad', 'muradnagar', 'mural', 'murcia', 'murder', 'murders', 'murdeshwar', 'murs', 'musck', 'muscle', 'musculoskeletal', 'museveni', 'music', 'muslim', 'muslims', 'muslimstyle', 'must', 'mustafa', 'mustapha', 'mustard', 'mutate', 'mutated', 'mutates', 'mutation', 'mutiny', 'mutton', 'mutual', 'muy', 'muñiz', 'muñíz', 'mvankerkhove', 'mvcs', 'myalgia', 'myalgic', 'myanmar', 'mybmcs', 'myelitis', 'myeloma', 'mygovindia', 'myjourneymyself', 'mykowitz', 'mylan', 'myocarditis', 'myogiadityanath', 'myriad', 'myrtle', 'mysore', 'myspace', 'mysterious', 'mystery', 'myths', 'myyogiadityanath', 'mühlberger', 'naaaa', 'nabarro', 'nabl', 'nac', 'nadda', 'nadu', 'nadus', 'naeem', 'nagar', 'nagatrooper', 'nagpaul', 'nagpur', 'nagpurs', 'nahar', 'nahi', 'nahin', 'nahua', 'nahuw', 'naik', 'nail', 'nails', 'nairobi', 'nakamura', 'naked', 'nalanda', 'namaha', 'naman', 'namaskar', 'namaz', 'name', 'named', 'namely', 'names', 'namo', 'nanavathi', 'nanavati', 'nancy', 'nancypelosi', 'nanded', 'nanopathologist', 'nanshan', 'nap', 'napkin', 'napoleon', 'narayana', 'narendra', 'narendramodi', 'naresh', 'narrative', 'narrow', 'narrowly', 'narvuntien', 'nas', 'nasa', 'nasal', 'nasaldropsgargle', 'nasarawa', 'nascent', 'nashville', 'nasser', 'nasty', 'nastysurf', 'nataleedesotell', 'natalia', 'nataliehats', 'nation', 'national', 'nationalism', 'nationalist', 'nationalists', 'nationality', 'nationally', 'nationals', 'nations', 'nationwide', 'native', 'natl', 'natural', 'naturally', 'nature', 'naturopathy', 'navajo', 'navi', 'navigate', 'navigating', 'navsari', 'navy', 'nayak', 'nazi', 'nba', 'nbabubble', 'nbpaustralia', 'ncaa', 'ncd', 'ncdc', 'ncdcgov', 'ncdcinthenews', 'ncdclabnetwork', 'ncdcrrt', 'ncdcteam', 'ncdcwer', 'ncdhhs', 'nci', 'ncov', 'ncpol', 'ncr', 'nct', 'ndgov', 'ndmaindia', 'ndtv', 'nealkhosla', 'near', 'nearest', 'nearing', 'nearly', 'nearrecord', 'nears', 'neath', 'nebraska', 'nebraskas', 'necessarily', 'necessary', 'necessities', 'need', 'needed', 'neededdrtedros', 'needs', 'needsdrtedros', 'needy', 'needylesson', 'neem', 'neet', 'nefarious', 'negative', 'negatively', 'negatives', 'neglecting', 'negligence', 'negligent', 'negotiating', 'neighbor', 'neighbors', 'neighbour', 'neighbourhood', 'neighbouring', 'neighbours', 'neil', 'neilferguson', 'neilson', 'neilyoung', 'neither', 'nejm', 'nelson', 'nepotism', 'nersus', 'nervous', 'net', 'netflix', 'netherlands', 'netizenparo', 'netogly', 'nets', 'network', 'networks', 'neurological', 'neuroscientist', 'neutralize', 'neutron', 'neutropenic', 'nevada', 'nevadas', 'never', 'new', 'newborn', 'newcase', 'newcastle', 'newcastleupontyne', 'newer', 'newest', 'newhampshire', 'newjersey', 'newkirks', 'newly', 'newlyupdated', 'news', 'newschecker', 'newsinphoto', 'newsinphotos', 'newsletter', 'newsom', 'newspaper', 'newspapers', 'newssatire', 'newsthump', 'newtest', 'newworldorder', 'newyork', 'newyorkcity', 'newyorktimes', 'newyorktough', 'newzealand', 'next', 'nfeltp', 'nfidvaccines', 'nfl', 'nhk', 'nhl', 'nhs', 'nicade', 'nicaragua', 'nice', 'nicely', 'nichola', 'nick', 'nickapalmer', 'nickcradio', 'nickname', 'nicobar', 'nicola', 'nicolás', 'nicotine', 'nicprnoida', 'niece', 'nieve', 'nigeducation', 'nigel', 'nigelfarage', 'nigella', 'niger', 'nigeria', 'nigeriafeltp', 'nigeriagov', 'nigerian', 'nigerians', 'nigerias', 'nigh', 'nighealthwatch', 'night', 'nightclubs', 'nightingale', 'nightly', 'nights', 'nih', 'nihrresearchsupported', 'nine', 'nineteen', 'nineties', 'nintendoswitch', 'niosh', 'nipah', 'nirt', 'nitazoxanide', 'nites', 'nitiaayog', 'nitish', 'nitp', 'niv', 'nizamuddin', 'niño', 'njdeptofhealth', 'nmhheartdoc', 'nms', 'noahpinion', 'noahsark', 'nobel', 'nobody', 'nod', 'nodal', 'noddy', 'noel', 'noguchi', 'noia', 'noida', 'noimot', 'nominate', 'nonbinding', 'nonbravery', 'noncommunicable', 'noncontiguous', 'noncovid', 'nondominant', 'none', 'nonessential', 'nonestablished', 'nonetheless', 'nonexistent', 'nonfatal', 'nonhispanic', 'noninvasive', 'nonmask', 'nonmedical', 'nonmuslims', 'nonnas', 'nonnews', 'nonofficial', 'nonpharmaceutical', 'nonpregnant', 'nonsevere', 'nonsmokers', 'nonteaching', 'nonused', 'nonvegetarian', 'nonwhite', 'noon', 'nope', 'norcalpunkman', 'normal', 'normality', 'normally', 'normanbrennan', 'norms', 'norris', 'nortedame', 'north', 'northcote', 'northdakota', 'northeast', 'northeastern', 'northern', 'northshore', 'northumberland', 'northwest', 'northwestern', 'norway', 'nose', 'nostradamus', 'nostrils', 'notable', 'note', 'noted', 'notes', 'notfunny', 'nothing', 'notice', 'noticeable', 'noticed', 'notices', 'notification', 'notificationsdrtedros', 'notifies', 'notify', 'noting', 'notion', 'notmypresident', 'notre', 'nouri', 'novak', 'novakglobal', 'novartis', 'novel', 'novelist', 'november', 'novotel', 'nowadays', 'nowdouble', 'npis', 'npr', 'nresearchnews', 'nrl', 'nsci', 'nsitharaman', 'nsw', 'ntanewsnow', 'ntnsndr', 'ntuh', 'nucs', 'nude', 'nudged', 'number', 'numbers', 'numberthat', 'numerous', 'nuns', 'nurse', 'nurses', 'nursing', 'nursinghome', 'nutrients', 'nutrition', 'nutritional', 'nuñez', 'nvgovernment', 'nwajiuba', 'nyc', 'nyclockdown', 'nyers', 'nynjct', 'nypostより', 'nyt', 'nytimes', 'nytscience', 'nzs', 'oath', 'obama', 'obamacare', 'obamagate', 'obese', 'obesewomen', 'obesity', 'obey', 'object', 'objection', 'objects', 'obnoxious', 'obscure', 'obscures', 'observation', 'observational', 'observe', 'observed', 'observers', 'observes', 'observing', 'obsession', 'obstacle', 'obtain', 'obvious', 'obviously', 'ocasiocortez', 'occasionally', 'occupancy', 'occupational', 'occupies', 'occur', 'occured', 'occurred', 'occurring', 'occurs', 'ocd', 'oct', 'october', 'octopus', 'ocular', 'odd', 'odds', 'odia', 'odisha', 'odishafightscorona', 'odorata', 'odoylecharlotte', 'oecd', 'offdrtedros', 'offence', 'offending', 'offense', 'offensive', 'offer', 'offered', 'offering', 'offers', 'office', 'officeofut', 'officer', 'officers', 'officerwould', 'offices', 'official', 'officialaitlive', 'officialdmrc', 'officialfcta', 'officially', 'officialosgfng', 'officials', 'officialsecretsact', 'offlabel', 'offline', 'offloaded', 'offset', 'offsetting', 'offshut', 'often', 'ogden', 'ogun', 'ohio', 'ohomai', 'oil', 'okay', 'oklahoma', 'oklahomas', 'okthen', 'old', 'older', 'oldies', 'oldnote', 'oldpeople', 'olive', 'oliver', 'olives', 'olly', 'oluwaniyi', 'olympic', 'olympicgames', 'olympics', 'omar', 'omara', 'omarkelly', 'omeara', 'oms', 'onboard', 'onceinacentury', 'oncologist', 'ondo', 'one', 'oneday', 'onefifth', 'oneoff', 'ones', 'oneself', 'onestop', 'onethird', 'onetime', 'onetwo', 'ongoing', 'onion', 'onions', 'onitsha', 'online', 'onlinedistance', 'onpoli', 'ons', 'onset', 'ontario', 'onthebeach', 'ontheground', 'onto', 'onwardreturn', 'ooaswaho', 'ooni', 'open', 'openamerica', 'opencollect', 'opened', 'opening', 'opens', 'operate', 'operated', 'operating', 'operation', 'operational', 'operationalisation', 'operations', 'operators', 'ophthalmologist', 'opinion', 'opponent', 'opportunities', 'opportunity', 'oppose', 'opposes', 'opposite', 'opposition', 'ops', 'opt', 'opthalmology', 'optics', 'optimal', 'optimisation', 'optimised', 'optimism', 'optimistic', 'optimistically', 'optimization', 'option', 'optional', 'options', 'ora', 'oral', 'orana', 'orange', 'orangutan', 'orbit', 'order', 'ordered', 'ordering', 'orders', 'ordinance', 'ordinary', 'oregon', 'oregonians', 'organ', 'organic', 'organisation', 'organisationhelp', 'organisations', 'organising', 'organisms', 'organization', 'organizational', 'organizations', 'organize', 'organized', 'organizers', 'organizing', 'organs', 'origin', 'original', 'originally', 'originate', 'originated', 'originator', 'origins', 'orlando', 'orleans', 'ormoc', 'ormore', 'orwell', 'osama', 'oscillococcinum', 'osd', 'osha', 'oslo', 'osmania', 'osmar', 'osmosismed', 'osun', 'otc', 'others', 'othersdrtedros', 'otherwise', 'otoh', 'ottawa', 'ought', 'ous', 'outages', 'outbid', 'outbreak', 'outbreaks', 'outburst', 'outcome', 'outcomes', 'outdated', 'outdoor', 'outdoors', 'outer', 'outlawed', 'outlawing', 'outlet', 'outlets', 'outlier', 'outline', 'outlined', 'outlines', 'outofarea', 'outofthedarkage', 'outoftheway', 'outpaced', 'outpacing', 'outpatient', 'outputs', 'outrage', 'outset', 'outside', 'outsiders', 'outsource', 'outstanding', 'outwards', 'outweigh', 'overactivation', 'overall', 'overarching', 'overblown', 'overcome', 'overcrowded', 'overcrowding', 'overdoses', 'overflow', 'overheard', 'overinflated', 'overlaid', 'overlapping', 'overload', 'overloaded', 'overloading', 'overloads', 'overly', 'overnight', 'overreaction', 'overregistration', 'overseas', 'overseeing', 'oversight', 'oversold', 'overstated', 'overtaken', 'overtakes', 'overtaking', 'overtime', 'overturned', 'overwhelmed', 'overwhelming', 'overwhelmingly', 'owaisi', 'owe', 'owned', 'owner', 'owners', 'ownership', 'owning', 'owns', 'owo', 'oxford', 'oxfordastrazeneca', 'oxfordevcharger', 'oximeter', 'oxygen', 'oxygenation', 'oyo', 'ozmy', 'ozone', 'pabloperguz', 'pacaembu', 'pace', 'pacient', 'pacific', 'pack', 'package', 'packages', 'packaging', 'packed', 'packets', 'packs', 'page', 'pagedisappointed', 'pages', 'paid', 'paige', 'pain', 'painful', 'pains', 'paint', 'painted', 'pair', 'pairs', 'pak', 'pakistan', 'pakistani', 'pakistanis', 'pakistans', 'pakisthan', 'palermo', 'pallavivedic', 'palliative', 'palm', 'palmer', 'palmeras', 'pamphlet', 'pamphlets', 'panama', 'panamacanal', 'panchagavya', 'pandamic', 'pandas', 'pandemic', 'pandemicdriven', 'pandemicdrtedros', 'pandemici', 'pandemicno', 'pandemicrelated', 'pandemics', 'pandeyji', 'panel', 'panels', 'pangolin', 'panic', 'panicbuying', 'panicked', 'panicking', 'panties', 'pantin', 'pants', 'papad', 'papaya', 'papayamosumbigrapesugandhi', 'paper', 'paperbased', 'papers', 'pappu', 'paprikalady', 'papua', 'paracetamol', 'parade', 'paragraph', 'paraguay', 'paraguayan', 'paraguayans', 'paralyzed', 'parameter', 'parameters', 'paramilitary', 'parasite', 'parasites', 'parcels', 'parent', 'parental', 'parents', 'paris', 'parisien', 'park', 'parker', 'parking', 'parliament', 'parliamentary', 'parlors', 'parmeshwar', 'part', 'parth', 'partial', 'partially', 'participant', 'participants', 'participate', 'participated', 'participating', 'participation', 'particles', 'particular', 'particularly', 'parties', 'partner', 'partnering', 'partners', 'partnership', 'partnerships', 'parts', 'party', 'partylist', 'parviz', 'pará', 'paschim', 'pass', 'passage', 'passed', 'passenger', 'passengerexpress', 'passengers', 'passes', 'passing', 'past', 'paste', 'pasted', 'pastor', 'patanjali', 'patarroyo', 'patch', 'patel', 'patent', 'patented', 'patents', 'path', 'pathak', 'pathan', 'pathetic', 'pathogenesis', 'pathogenscribe', 'pathologies', 'pathologists', 'patience', 'patient', 'patiently', 'patients', 'patientsdrtedros', 'patientswho', 'patientswhose', 'patientzero', 'patil', 'patinents', 'patio', 'patna', 'patrick', 'patriotic', 'patronize', 'patrons', 'pattern', 'patterns', 'patting', 'pattinson', 'pattyapoian', 'paul', 'pauline', 'paulmromer', 'paulo', 'paulos', 'paulpauwaert', 'paulreiddublin', 'pause', 'paused', 'paved', 'paws', 'pay', 'paybacks', 'payers', 'paying', 'payment', 'payments', 'payroll', 'pays', 'paz', 'pbcom', 'pcps', 'pcr', 'pcrtest', 'pcrtested', 'pdr', 'peace', 'peacock', 'peak', 'peaked', 'peaking', 'peaks', 'pearl', 'pearls', 'peatapann', 'peddled', 'pedestrian', 'pediatric', 'pediatricians', 'pediatrics', 'pedophiles', 'pedro', 'peelings', 'peels', 'peeping', 'peepingtom', 'peer', 'peerreviewed', 'pegged', 'pelicans', 'pelosi', 'pelosis', 'pelotas', 'pelted', 'pelting', 'penalised', 'penalty', 'pence', 'pences', 'pending', 'penetrate', 'penis', 'pennsylvania', 'pension', 'pentagon', 'people', 'peoplehe', 'peoples', 'pepper', 'peppers', 'peptide', 'per', 'perambra', 'percapita', 'percent', 'percentage', 'percentages', 'percentpositive', 'perchbicester', 'perfect', 'perfected', 'perfectly', 'perform', 'performance', 'performed', 'performers', 'performing', 'perfume', 'perhaps', 'perilous', 'perinatal', 'period', 'periodic', 'periods', 'permanent', 'permanently', 'permission', 'permit', 'permits', 'permitted', 'peroxide', 'peroxidesore', 'perpetrated', 'perry', 'persisted', 'persistent', 'persists', 'person', 'personal', 'personalised', 'personality', 'personalized', 'personally', 'personnel', 'persons', 'personsdrtedros', 'persontoperson', 'personvia', 'perspective', 'perspectives', 'pertains', 'pertussis', 'peru', 'peruvian', 'pescomediterranean', 'pesticide', 'pesticides', 'pet', 'petal', 'petals', 'petas', 'peter', 'peterjwalker', 'peterverhaar', 'peterzeihan', 'petrol', 'pets', 'pfizer', 'pfms', 'pgi', 'pgimer', 'pharma', 'pharmaceutical', 'pharmacies', 'pharmacist', 'pharmacological', 'pharmacy', 'phase', 'phased', 'phases', 'phasesdrtedros', 'phasewise', 'phe', 'phenolic', 'phenomenal', 'phenomenon', 'pheoc', 'pheocs', 'philadelphia', 'philanthropies', 'philippine', 'philippines', 'phillyinquirer', 'philosophy', 'philrobertson', 'phone', 'phones', 'phoneserted', 'phoning', 'photo', 'photograph', 'photographer', 'photographs', 'photoop', 'photos', 'physical', 'physicaldistance', 'physically', 'physician', 'physicians', 'physics', 'physique', 'piabizlaw', 'piamancini', 'pib', 'pibfactcheck', 'pibhomeaffairs', 'pibindia', 'pibmumbai', 'pic', 'pick', 'picked', 'picking', 'pickup', 'pickupdelivery', 'picture', 'pictures', 'pie', 'piece', 'pieces', 'pied', 'pier', 'pig', 'pigeon', 'pigeons', 'pigs', 'pile', 'piling', 'pillar', 'pillow', 'pills', 'pilot', 'piltdown', 'pimps', 'pin', 'pinal', 'pinch', 'pink', 'pinol', 'pinpoint', 'pins', 'pioneer', 'pioneering', 'pipe', 'piper', 'piss', 'pissed', 'pisspoor', 'pistols', 'pitanga', 'pitching', 'pitt', 'pivot', 'piyush', 'pjpaton', 'placard', 'place', 'placebo', 'placebopills', 'placed', 'placement', 'places', 'placing', 'plagiarized', 'plague', 'plains', 'plamsarelated', 'plan', 'plandemia', 'plandemic', 'plane', 'planet', 'plank', 'planned', 'planning', 'plans', 'plant', 'planted', 'planting', 'plants', 'plaque', 'plasma', 'plasmatherapy', 'plastic', 'plasticwrapped', 'plasvirec', 'plateau', 'plateaued', 'plates', 'platform', 'platforms', 'play', 'playbook', 'playboy', 'played', 'player', 'players', 'playgrounds', 'playing', 'playoffs', 'plays', 'plaza', 'plea', 'pleads', 'please', 'pleased', 'pledge', 'plenty', 'pleurisy', 'pleuro', 'plight', 'plot', 'plots', 'plotting', 'pls', 'plug', 'plummet', 'plummeted', 'plummeting', 'plunge', 'plus', 'pluscoronil', 'plusses', 'ply', 'plz', 'pmay', 'pmcares', 'pmjjby', 'pmnrf', 'pmo', 'pmoindia', 'pmqs', 'pms', 'pmsby', 'pna', 'pneumococcal', 'pneumonia', 'pnouvellet', 'pns', 'poc', 'pockets', 'podcast', 'poe', 'poem', 'poet', 'point', 'pointed', 'pointing', 'pointless', 'pointofcare', 'points', 'poised', 'poison', 'poisoned', 'poisonous', 'poisons', 'poker', 'pokhriyal', 'pole', 'poleaxed', 'poles', 'police', 'policed', 'policeman', 'policemen', 'policewoman', 'policies', 'policing', 'policy', 'polio', 'poliolike', 'polish', 'political', 'politicalcorrectness', 'politically', 'politician', 'politicians', 'politiciansdo', 'politicized', 'politics', 'politifact', 'politifactnc', 'politifacttexas', 'politifactwisc', 'poll', 'pollen', 'polling', 'polls', 'pollutants', 'pollution', 'polymerase', 'pommylee', 'pompeo', 'pondicherry', 'pontypridd', 'pool', 'pooled', 'pooling', 'pools', 'poor', 'poorly', 'poors', 'poorselders', 'pope', 'popenshaw', 'popped', 'popping', 'popular', 'popularity', 'populated', 'population', 'populations', 'populous', 'pork', 'porn', 'pornography', 'port', 'portal', 'portend', 'portfolio', 'portion', 'portions', 'portland', 'portlands', 'porto', 'portrait', 'portraying', 'portrays', 'portsmouth', 'portugal', 'portuguese', 'pose', 'posed', 'posing', 'position', 'positioned', 'positions', 'positive', 'positively', 'positivenegative', 'positives', 'positivevibes', 'positivity', 'possession', 'possibilities', 'possibility', 'possible', 'possibledrtedros', 'possibly', 'post', 'postbrexit', 'postcoronavirus', 'postcovid', 'posted', 'poster', 'posters', 'postgraduate', 'posting', 'postintensive', 'postlockdown', 'postmortem', 'postnatal', 'postpone', 'postponecaexamtillnov', 'postponed', 'postponement', 'postponeneeet', 'postponing', 'postregistration', 'posts', 'postventilation', 'pot', 'pota', 'potency', 'potent', 'potential', 'potentially', 'pothole', 'potomac', 'potsales', 'potus', 'poubel', 'poultry', 'pound', 'pour', 'poverty', 'powder', 'power', 'powerful', 'powerpoint', 'powers', 'ppe', 'ppes', 'ppi', 'ppl', 'pplscouncil', 'ppm', 'practical', 'practice', 'practiced', 'practices', 'practicesdrtedros', 'practicing', 'practise', 'practitioner', 'practitioners', 'pradesh', 'pradeshs', 'pradhan', 'pragya', 'praise', 'praised', 'praises', 'praising', 'prakashjavdekar', 'prasad', 'pratapgarh', 'pratimbose', 'prattle', 'pray', 'prayed', 'prayer', 'prayers', 'praying', 'pre', 'precaution', 'precautionary', 'precautions', 'preceding', 'precious', 'precipitously', 'precise', 'preclinical', 'precovid', 'predicament', 'predict', 'predicted', 'predicting', 'prediction', 'predictions', 'predictive', 'predicts', 'preexisting', 'prefect', 'prefectural', 'prefer', 'preference', 'preferred', 'pregnancy', 'pregnant', 'prego', 'prejuly', 'preliminary', 'prelockdown', 'premature', 'premier', 'premises', 'premji', 'prenatal', 'prep', 'prepair', 'prepandemic', 'preparation', 'prepare', 'prepared', 'preparedness', 'prepares', 'preparing', 'prepost', 'preppers', 'prequalified', 'preregister', 'pres', 'prescribe', 'prescribed', 'prescribing', 'prescription', 'prescriptions', 'presence', 'present', 'presentation', 'presentations', 'presented', 'presenter', 'presenting', 'presently', 'presents', 'preserve', 'preserved', 'presidency', 'president', 'presidential', 'presidents', 'press', 'presser', 'presssec', 'pressure', 'pressures', 'presumably', 'presumed', 'presumptive', 'presymptomatic', 'pretence', 'pretend', 'pretended', 'pretending', 'preterm', 'pretty', 'prevalence', 'prevent', 'prevented', 'preventing', 'prevention', 'preventive', 'prevents', 'preview', 'previewed', 'previous', 'previously', 'prevnar', 'prexisting', 'price', 'prices', 'priceskg', 'pride', 'priest', 'priests', 'primarily', 'primary', 'primate', 'prime', 'primer', 'prince', 'princess', 'principal', 'prior', 'priorities', 'prioritise', 'prioritised', 'prioritize', 'priority', 'prioritycovidresearch', 'prison', 'prisoner', 'prisoners', 'prisonplanet', 'prisons', 'priti', 'pritipatel', 'pritzker', 'privacy', 'private', 'priyanka', 'prize', 'prizewinning', 'pro', 'proactively', 'probability', 'probable', 'probables', 'probably', 'probe', 'probiden', 'problem', 'problems', 'procedure', 'procedures', 'proceed', 'proceedings', 'process', 'processed', 'processes', 'processing', 'procession', 'proclaim', 'procovid', 'procurement', 'produce', 'produced', 'producers', 'produces', 'producing', 'product', 'production', 'products', 'productsdrtedros', 'prof', 'profakinabayomi', 'profbhargava', 'profesion', 'professional', 'professionals', 'professor', 'professors', 'professorso', 'profile', 'profitable', 'profitmaking', 'profits', 'profkarolsikora', 'profsushmagupta', 'program', 'programme', 'programming', 'programs', 'progress', 'progressdrtedros', 'progressed', 'progression', 'progressive', 'progressively', 'progressives', 'prohibit', 'prohibited', 'prohibiting', 'prohibits', 'project', 'projected', 'projecting', 'projection', 'projections', 'projectlincoln', 'projects', 'prolonged', 'prolongs', 'promise', 'promised', 'promises', 'promising', 'promote', 'promoted', 'promoting', 'promotion', 'prompt', 'promptly', 'prone', 'prong', 'pronounced', 'pronxt', 'proof', 'propaganda', 'proper', 'properly', 'properties', 'property', 'prophesied', 'prophet', 'prophetess', 'prophetic', 'prophetised', 'prophylactic', 'prophylactics', 'prophylaxis', 'proportion', 'proportional', 'proportionally', 'proposal', 'proposed', 'proposes', 'proposing', 'props', 'propublicas', 'prospect', 'prospects', 'prostata', 'prostatecancer', 'prostatitis', 'prostrate', 'protagonists', 'protect', 'protected', 'protecting', 'protection', 'protectiondrtedros', 'protections', 'protective', 'protects', 'protein', 'proteins', 'protest', 'protesters', 'protesting', 'protestors', 'protests', 'protocol', 'protocolampprocedure', 'protocolprocedure', 'protocols', 'proud', 'prove', 'proved', 'proven', 'proves', 'provide', 'provided', 'provider', 'providers', 'provides', 'providing', 'province', 'proving', 'provision', 'provisional', 'psa', 'psbs', 'psus', 'psychiatrist', 'psychological', 'psychology', 'ptf', 'pti', 'ptinews', 'pub', 'public', 'publication', 'publications', 'publichealth', 'publichealthreports', 'publicity', 'publicly', 'publish', 'published', 'publishes', 'publishing', 'pubs', 'pucho', 'puducherry', 'puebla', 'puerta', 'puerto', 'pui', 'pulaski', 'pull', 'pulled', 'pulling', 'pullman', 'pulmonary', 'pulmonologists', 'pulp', 'pulse', 'pump', 'pumps', 'punch', 'punchandjudy', 'punches', 'pundits', 'pune', 'punekars', 'punishable', 'punished', 'punishing', 'punishment', 'punjab', 'pupils', 'pur', 'pura', 'purchase', 'purchased', 'purchasing', 'pure', 'puri', 'purnima', 'puro', 'purohit', 'purple', 'purport', 'purported', 'purportedly', 'purpose', 'purposefully', 'purposes', 'purse', 'push', 'pushed', 'pushes', 'pushing', 'pushpa', 'pussy', 'put', 'putin', 'putins', 'puts', 'putting', 'puzzled', 'puzzling', 'pvt', 'pvtgs', 'qais', 'qampa', 'qanda', 'qanon', 'qatar', 'quadrupled', 'quadruples', 'qualified', 'quality', 'quantifies', 'quantify', 'quantitative', 'quantities', 'quarantine', 'quarantinecentres', 'quarantined', 'quarantining', 'quarter', 'quarters', 'quavers', 'quckly', 'quebecs', 'queen', 'queens', 'queenstown', 'quell', 'quercetin', 'queries', 'query', 'questdiag', 'question', 'questionable', 'questioned', 'questions', 'queue', 'queues', 'queuing', 'quick', 'quicker', 'quickly', 'quicklydrtedros', 'quicktake', 'quietly', 'quillette', 'quinine', 'quintero', 'quit', 'quite', 'quito', 'quits', 'quitting', 'quiz', 'quote', 'quoted', 'quotes', 'quoting', 'quran', 'raab', 'raam', 'raccoon', 'race', 'raceethnicity', 'races', 'rachael', 'rachel', 'rachelreevesmp', 'raches', 'racial', 'racing', 'racism', 'racist', 'racists', 'rackets', 'radar', 'radcliffe', 'radiation', 'radio', 'raffi', 'rahman', 'rahul', 'rai', 'raid', 'raided', 'rail', 'railway', 'rain', 'raina', 'raise', 'raised', 'raises', 'raising', 'raj', 'rajahthan', 'rajapaksa', 'rajasthan', 'rajasthans', 'rajeoon', 'rajesharao', 'rajkot', 'rajoelina', 'rajpura', 'raleigh', 'rally', 'ram', 'rama', 'ramadan', 'ramakrishna', 'ramaphosa', 'ramdev', 'ramdevs', 'ramesh', 'ramnavami', 'ramnavmi', 'ramp', 'rampd', 'ramped', 'ramping', 'rampup', 'ramu', 'ramzaan', 'ran', 'ranaayyub', 'random', 'randomized', 'randomly', 'randpaul', 'range', 'ranges', 'ranging', 'ranjan', 'rank', 'ranking', 'ranudhillon', 'rao', 'raoult', 'rap', 'rape', 'rapid', 'rapidantigentest', 'rapidly', 'rapidtests', 'rare', 'rasam', 'rash', 'rashes', 'rashid', 'rashlessdoctor', 'rashokabjp', 'rashtriya', 'rat', 'ratan', 'rate', 'rated', 'rates', 'rather', 'rating', 'ratings', 'ratio', 'ration', 'ratnaprabhaias', 'ravi', 'ravikundurthi', 'ravindra', 'raw', 'ray', 'raymond', 'rayner', 'rayners', 'rays', 'rbi', 'rdrp', 'reach', 'reached', 'reaches', 'reaching', 'react', 'reacting', 'reaction', 'reactions', 'reactivated', 'reactivates', 'reacts', 'read', 'readers', 'readily', 'reading', 'readingkafka', 'reads', 'ready', 'reaffirms', 'reagents', 'reais', 'real', 'realdonaldtrump', 'realdonaldtrumps', 'realise', 'realised', 'realising', 'realism', 'realistic', 'reality', 'realize', 'realized', 'realizing', 'really', 'realtalktruthd', 'realtime', 'reappraisal', 'reason', 'reasonable', 'reasonably', 'reasoning', 'reasons', 'reasserting', 'reassurance', 'reassured', 'reassuring', 'rebeccadaymen', 'rebirth', 'rebound', 'rebounded', 'rebuild', 'rebuilt', 'rebuking', 'recall', 'recalling', 'recap', 'recast', 'receive', 'received', 'receiver', 'receives', 'receiving', 'recent', 'recently', 'reception', 'recession', 'recieved', 'recipe', 'recipes', 'recipients', 'recirculated', 'recital', 'recitation', 'recite', 'reciting', 'reckedrik', 'reckoning', 'reclassified', 'recognise', 'recognition', 'recognize', 'recognized', 'recognizing', 'recommend', 'recommendation', 'recommendations', 'recommended', 'recommending', 'recommends', 'reconciliation', 'reconfigure', 'reconsider', 'reconsidered', 'reconsiders', 'reconvening', 'record', 'recorded', 'recordhigh', 'recording', 'records', 'recover', 'recovered', 'recoveredrecovered', 'recoveries', 'recovering', 'recovers', 'recovery', 'recoverydrtedros', 'recoveryrate', 'recreated', 'recruiting', 'rectifying', 'red', 'redcross', 'reddit', 'reddy', 'redefined', 'redeployed', 'redfield', 'redistributing', 'redouble', 'redraws', 'reduce', 'reduced', 'reduces', 'reducing', 'reduction', 'reductions', 'reelect', 'reelected', 'reelection', 'reese', 'reesmogg', 'reeves', 'refactor', 'refer', 'reference', 'referencing', 'referrals', 'referred', 'referring', 'refers', 'reff', 'reffective', 'reflect', 'reflected', 'reflection', 'reflects', 'reformats', 'refreshing', 'refund', 'refunds', 'refusal', 'refuse', 'refused', 'refuses', 'refusing', 'regarding', 'regardless', 'regards', 'regime', 'region', 'regional', 'regions', 'register', 'registered', 'registering', 'registers', 'registrations', 'registry', 'regret', 'regrets', 'regular', 'regularity', 'regularly', 'regulations', 'rehabilitation', 'rehire', 'rehome', 'reicher', 'reignite', 'reimbursement', 'reimplementation', 'reimpose', 'reimposed', 'reimposing', 'reina', 'reinfected', 'reinfection', 'reinforce', 'reinforced', 'reinforces', 'reinforcing', 'reinstated', 'reiterate', 'reiterated', 'reiterates', 'reject', 'rejecting', 'rejects', 'rejoice', 'relactation', 'related', 'relating', 'relation', 'relationship', 'relationships', 'relatively', 'relatives', 'relax', 'relaxation', 'relaxed', 'relaxing', 'release', 'released', 'releases', 'releasing', 'relevance', 'relevant', 'reliable', 'reliably', 'reliance', 'relief', 'relieve', 'relieved', 'religion', 'religious', 'reluctance', 'reluctantly', 'rely', 'relying', 'remain', 'remainder', 'remained', 'remaining', 'remains', 'remanagarajan', 'remark', 'remarkable', 'remarkably', 'remarks', 'remdesivir', 'remedies', 'remedy', 'remember', 'remembering', 'remind', 'reminded', 'reminder', 'reminding', 'reminds', 'remote', 'remotely', 'removal', 'remove', 'removed', 'removes', 'removing', 'renamed', 'renata', 'renatakonkoly', 'rendesiver', 'renew', 'renewed', 'renovations', 'renowned', 'rent', 'renters', 'rentfreezenow', 'rents', 'reoccupation', 'reopen', 'reopened', 'reopening', 'reopenings', 'reopeningsafely', 'reopens', 'reopensafely', 'rep', 'repairer', 'repandybiggsaz', 'repatriated', 'repeat', 'repeatable', 'repeated', 'repeatedly', 'repeats', 'repentance', 'replace', 'replaced', 'replaces', 'replicant', 'replication', 'reply', 'report', 'reportage', 'reportalexismadrigal', 'reported', 'reportedly', 'reporter', 'reporters', 'reporting', 'reports', 'repositioning', 'repositories', 'reposting', 'reprehensible', 'represent', 'representation', 'representative', 'representatives', 'represented', 'representing', 'represents', 'repression', 'reprinted', 'reproducible', 'reproduction', 'reproductive', 'reps', 'republic', 'republican', 'republicans', 'repurposed', 'repurposing', 'reqest', 'request', 'requested', 'requesting', 'requests', 'require', 'required', 'requirement', 'requirements', 'requires', 'requiring', 'requisition', 'requisitioning', 'rerouted', 'rerun', 'rescue', 'rescued', 'rescuing', 'research', 'researched', 'researcher', 'researchers', 'resembling', 'reservation', 'reserve', 'reserved', 'reservoir', 'reservoirs', 'residence', 'resident', 'residential', 'residents', 'residing', 'residual', 'residues', 'resign', 'resigned', 'resigns', 'resiguru', 'resilient', 'resist', 'resistiré', 'resists', 'resolutely', 'resolution', 'resolve', 'resolved', 'resolving', 'resort', 'resorting', 'resource', 'resources', 'respect', 'respected', 'respecting', 'respective', 'respectively', 'respirator', 'respirators', 'respiratory', 'respond', 'responded', 'responder', 'responders', 'responding', 'responds', 'response', 'responses', 'responsibility', 'responsible', 'responsibly', 'responsive', 'responsiveness', 'resposible', 'rest', 'restart', 'restatement', 'restaurant', 'restaurants', 'restored', 'restrict', 'restricted', 'restricting', 'restriction', 'restrictions', 'restrictive', 'restroom', 'result', 'resulted', 'resulting', 'results', 'resultsdrtedros', 'resume', 'resumed', 'resuming', 'resumption', 'resurgence', 'retail', 'retaining', 'retention', 'retested', 'rethink', 'retirees', 'retirement', 'retitling', 'retractable', 'retracted', 'retractions', 'retreating', 'retrieved', 'retroactively', 'retrospective', 'retrovirus', 'return', 'returned', 'returnee', 'returnees', 'returning', 'returns', 'retweet', 'retweeted', 'reunion', 'reuse', 'reused', 'reusing', 'revalidation', 'reveal', 'revealed', 'revealing', 'reveals', 'revenue', 'revenuethink', 'revered', 'reversal', 'reverse', 'reversed', 'reversegenetic', 'reversible', 'review', 'reviewed', 'reviewing', 'reviews', 'revise', 'revised', 'revises', 'revision', 'revitalize', 'revived', 'revoked', 'revokes', 'revoking', 'revolution', 'revolutionnow', 'reward', 'rex', 'rfid', 'rglobalism', 'rheaarrested', 'rhesus', 'rheumatic', 'rheumatoid', 'rhinitis', 'rhinovirus', 'rhode', 'rhondda', 'riaz', 'riazs', 'ribbon', 'rica', 'riccigeri', 'riccisergienko', 'rice', 'richard', 'richardnixon', 'richest', 'richie', 'rick', 'rickatwsnz', 'rickleventhal', 'ricksheatcool', 'rico', 'rid', 'rides', 'ridge', 'ridgeonsunday', 'ridiculous', 'rife', 'riga', 'right', 'rightbold', 'righthand', 'rightmove', 'rights', 'rightsindia', 'rightward', 'rightwing', 'rigorous', 'rijpew', 'riktheozfrog', 'rinascerai', 'rinascerò', 'ringing', 'rinks', 'rinse', 'rinses', 'rinsing', 'rio', 'rioja', 'rioting', 'riots', 'rip', 'risa', 'rise', 'risen', 'rises', 'rish', 'rishi', 'rishte', 'rising', 'risk', 'riskbased', 'riskdrtedros', 'risking', 'riskreward', 'risks', 'risky', 'rita', 'rivaled', 'rivalries', 'rivals', 'river', 'rivers', 'riyaz', 'rizwan', 'rmds', 'rmrc', 'rna', 'rnadependent', 'rnc', 'road', 'roadblock', 'roadmap', 'roads', 'roadtrips', 'roaming', 'rob', 'robbery', 'robbiedocs', 'robbing', 'robchandigarh', 'robert', 'robertbuckland', 'robertgehrke', 'roberto', 'robertsfinkle', 'robgooders', 'robin', 'robinmonotti', 'robmerrimath', 'roboskis', 'robpowellnews', 'robredo', 'robreiner', 'robust', 'roche', 'rochelle', 'rock', 'rockandrollvaccine', 'rocked', 'rocknroll', 'rocksolid', 'rodrigo', 'rohingya', 'rohini', 'rohtak', 'role', 'roleplaying', 'roles', 'roll', 'rollback', 'rolled', 'rolling', 'rollingstones', 'rollingstonevaccineforcv', 'rollout', 'rolynhome', 'rome', 'ron', 'ronaldo', 'ronan', 'roof', 'roofer', 'roofs', 'rooftop', 'rooftops', 'room', 'rooms', 'rooney', 'roosevelt', 'root', 'ropebeds', 'rosannarago', 'rose', 'roses', 'rosewood', 'roskill', 'rosnovsky', 'rotorua', 'rough', 'roughly', 'round', 'rounds', 'roundtable', 'roundup', 'route', 'routes', 'routine', 'routinely', 'routines', 'roviir', 'row', 'rows', 'roy', 'royal', 'royce', 'roypentland', 'rpharmcoronavir', 'rrt', 'rspathania', 'rss', 'rsv', 'rtcom', 'rtpcr', 'rtve', 'rubbish', 'ruby', 'rudakovbloomberg', 'rudd', 'ruddsbunny', 'rudimentary', 'rudolph', 'rudy', 'ruin', 'ruining', 'rukh', 'rule', 'ruled', 'rules', 'ruling', 'rumor', 'rumors', 'rumour', 'rumours', 'run', 'rundown', 'running', 'runny', 'runs', 'rupees', 'rural', 'rurmeric', 'rush', 'rushed', 'rushes', 'rushhourp', 'russell', 'russia', 'russiaeverywhere', 'russian', 'russians', 'russianvaccine', 'russias', 'russie', 'russki', 'rustyaway', 'ruth', 'rvsv', 'rwanda', 'rwandans', 'ryan', 'ryanair', 'ryanmacphd', 'rydges', 'saad', 'saadia', 'sabotage', 'sachs', 'sack', 'sacked', 'sacred', 'sacrifice', 'sacrificed', 'sacrifices', 'sad', 'saddam', 'saddened', 'sadhgurus', 'sadhvipragyamp', 'sadiq', 'sadly', 'sadness', 'saeed', 'safe', 'safeguard', 'safely', 'safer', 'safest', 'safety', 'safetyfirst', 'sage', 'sages', 'sai', 'said', 'sail', 'sailed', 'saint', 'sake', 'saketgokhale', 'salaambaalakngo', 'salad', 'salads', 'salako', 'salaries', 'salariesluxury', 'salary', 'sale', 'saleh', 'sales', 'saleyhaahsan', 'saline', 'saliva', 'salivabased', 'sallah', 'sally', 'salman', 'salt', 'salute', 'salutecoronawarriors', 'saluting', 'salvador', 'salvatore', 'salwar', 'sam', 'samadi', 'samarjeetn', 'samitis', 'samoa', 'sample', 'samples', 'samplesday', 'sampling', 'sampoerna', 'samsung', 'samthaan', 'san', 'sanatan', 'sanchez', 'sanction', 'sanctuary', 'sanders', 'sang', 'sangh', 'sani', 'sanitary', 'sanitiser', 'sanitisers', 'sanitize', 'sanitized', 'sanitizer', 'sanitizers', 'sanitizing', 'sanskrit', 'santa', 'santiago', 'santo', 'santojanni', 'sao', 'sara', 'sarah', 'sarcastic', 'sard', 'sarma', 'sars', 'sarscov', 'sarscovid', 'sat', 'satanic', 'satellite', 'sathosa', 'satire', 'satmonday', 'saturation', 'saturday', 'saturdaymonday', 'saturdaynightfever', 'saturdays', 'satyendar', 'satyendra', 'saudi', 'saudiarabia', 'sauna', 'saurab', 'savarkar', 'save', 'saved', 'saves', 'saving', 'saw', 'sawaal', 'say', 'sayardaw', 'sayha', 'saying', 'says', 'sbi', 'scale', 'scaled', 'scales', 'scaleup', 'scaleupdrtedros', 'scaling', 'scam', 'scan', 'scanned', 'scanners', 'scans', 'scapegoat', 'scar', 'scaramangi', 'scaramucci', 'scarce', 'scare', 'scared', 'scarf', 'scary', 'scathing', 'scattered', 'scclemons', 'scenario', 'scenariocoronavirus', 'scenarios', 'scenery', 'scenes', 'schedule', 'scheduled', 'schedules', 'scheduling', 'scheme', 'schemes', 'schizophrenia', 'schizophrenics', 'scholar', 'school', 'schoolchildren', 'schoolingdrtedros', 'schools', 'schoolsreopening', 'schwabe', 'schwabeindia', 'science', 'sciencemagazine', 'sciences', 'scientific', 'scientifically', 'scientist', 'scientists', 'sclerosis', 'scoffed', 'scolds', 'scope', 'score', 'scorecard', 'scotland', 'scott', 'scottgottliebmd', 'scottmorrisonmp', 'scout', 'scramble', 'scraper', 'scream', 'screaming', 'screams', 'screen', 'screened', 'screening', 'screenings', 'screenshot', 'screenshots', 'scripps', 'scripts', 'scroll', 'scrub', 'scrubs', 'scrutiny', 'sdsm', 'sdunbabin', 'sea', 'seafood', 'seafoodthe', 'seal', 'sealed', 'seamless', 'sean', 'seanhannity', 'seanmdav', 'search', 'searching', 'seas', 'seashore', 'season', 'seasonal', 'seasons', 'seat', 'seated', 'seats', 'seattle', 'seawater', 'sec', 'secazar', 'secession', 'sechenov', 'secluedo', 'second', 'secondary', 'secondhand', 'secondhighest', 'secondly', 'secondmost', 'seconds', 'secret', 'secretary', 'secretarygeneral', 'secretion', 'secretly', 'section', 'sector', 'secure', 'secured', 'secures', 'securing', 'security', 'securitydrtedros', 'sedated', 'see', 'seed', 'seeds', 'seedso', 'seeing', 'seek', 'seekers', 'seeking', 'seeks', 'seem', 'seemed', 'seemingly', 'seems', 'seen', 'sees', 'segment', 'seize', 'seldom', 'selected', 'selecting', 'selection', 'selectively', 'self', 'selfadministered', 'selfcare', 'selfcheck', 'selfchecker', 'selfcheckup', 'selfdepricating', 'selfdiagnostic', 'selffinancing', 'selfie', 'selfish', 'selfisolate', 'selfisolating', 'selfisolation', 'selfless', 'selflessly', 'selfmedicate', 'selfmonitor', 'selfmonitoring', 'selfquarantine', 'selfquarantined', 'selfreporting', 'selftest', 'sell', 'sellers', 'selling', 'selva', 'semple', 'sen', 'senate', 'senatedems', 'senator', 'senatorkapengas', 'senators', 'send', 'sender', 'sending', 'sends', 'senegal', 'senegalese', 'senior', 'sens', 'sensational', 'sensationalize', 'senschumer', 'sense', 'sensible', 'sensitisation', 'sensitivity', 'sensor', 'sensorbased', 'sent', 'sentence', 'sentomcotton', 'seoul', 'sep', 'separate', 'separated', 'separately', 'separating', 'separatist', 'sepsis', 'sept', 'septateneuf', 'september', 'septemberdrtedros', 'septum', 'sequel', 'sequence', 'sequences', 'sequencing', 'serbia', 'serbian', 'sergio', 'serial', 'series', 'serious', 'seriously', 'seriousness', 'sero', 'serological', 'serology', 'seroprevalence', 'serosorting', 'serum', 'servant', 'servants', 'serve', 'served', 'servers', 'serves', 'service', 'services', 'sesame', 'set', 'sets', 'setting', 'settings', 'settle', 'settles', 'setup', 'seva', 'seven', 'sevenday', 'seventeen', 'seventh', 'several', 'severe', 'severely', 'severity', 'sewage', 'sex', 'sexcounseling', 'sexual', 'sexually', 'sexyteens', 'sft', 'sgrh', 'shab', 'shadab', 'shade', 'shadow', 'shady', 'shah', 'shaheed', 'shaheen', 'shahrukh', 'shake', 'shakespeare', 'shakeup', 'shaking', 'shall', 'sham', 'shambles', 'shame', 'shameful', 'shands', 'shanghai', 'shangrila', 'shape', 'shaped', 'shapps', 'sharad', 'sharda', 'share', 'sharechat', 'shared', 'sharedouble', 'sharepic', 'shares', 'sharing', 'shark', 'sharma', 'sharp', 'sharpest', 'sharply', 'sharukhkhan', 'shashi', 'shattock', 'shave', 'shaved', 'shaves', 'shaving', 'shea', 'sheep', 'sheeran', 'sheet', 'sheets', 'shelf', 'shelter', 'shelteringinplace', 'shelterinplace', 'shelters', 'shelves', 'shenzhen', 'sheraton', 'shes', 'shetty', 'shevanthin', 'shi', 'shield', 'shields', 'shift', 'shifted', 'shifting', 'shifts', 'shijian', 'shincheonji', 'ship', 'shipments', 'shipped', 'shipping', 'ships', 'shipwreck', 'shirt', 'shit', 'shite', 'shiva', 'shivaya', 'shivraj', 'shock', 'shocked', 'shocking', 'shockingly', 'shoes', 'shondagarrison', 'shook', 'shoot', 'shootatsight', 'shooter', 'shooting', 'shootings', 'shootouts', 'shoots', 'shop', 'shopper', 'shoppers', 'shopping', 'shops', 'shore', 'short', 'shortage', 'shortages', 'shortcircuit', 'shorter', 'shortest', 'shortly', 'shortness', 'shortsighted', 'shortterm', 'shot', 'shots', 'shouldering', 'shouting', 'shoutout', 'shouts', 'show', 'showcasing', 'showed', 'showers', 'showing', 'shown', 'showrunner', 'shows', 'shramik', 'shredding', 'shri', 'shriduttrao', 'shrime', 'shrinking', 'shripad', 'shud', 'shut', 'shutdown', 'shutdowns', 'shuts', 'shutting', 'siam', 'siblings', 'sic', 'sick', 'sicker', 'sickness', 'siddaramaiah', 'side', 'sidewalk', 'sight', 'sign', 'signages', 'signal', 'signals', 'signed', 'significant', 'significantly', 'signing', 'signs', 'sii', 'sikkim', 'sikora', 'silent', 'silentdeserts', 'silently', 'silver', 'silverbirdtv', 'similar', 'similarities', 'similarity', 'similarly', 'simoncowell', 'simple', 'simplified', 'simply', 'simpsons', 'simulated', 'simulation', 'simultaneously', 'since', 'sincelejo', 'sincerely', 'sinclair', 'sindh', 'singapore', 'singapores', 'singer', 'singh', 'singing', 'single', 'singleday', 'singles', 'sings', 'sinha', 'sinn', 'sinopharms', 'sinovac', 'sinovacs', 'sips', 'sir', 'sirens', 'sirtomtucker', 'sis', 'sisi', 'sister', 'sisters', 'sit', 'sitamarhi', 'site', 'sites', 'sitting', 'situation', 'situations', 'six', 'sixth', 'sizable', 'size', 'sizeable', 'sjforkids', 'sjws', 'skagit', 'skeptically', 'skies', 'skill', 'skilled', 'skills', 'skin', 'skinned', 'skintoskin', 'skip', 'skull', 'sky', 'skyenda', 'skynews', 'skynewsbreak', 'skynewsmichelle', 'skyrocket', 'skys', 'slack', 'slacker', 'slang', 'slaughter', 'slavery', 'sleep', 'sleeping', 'sleepless', 'slices', 'slide', 'sliding', 'slight', 'slightly', 'slippery', 'slogans', 'slovakia', 'slovenia', 'slow', 'slowdown', 'slowed', 'slower', 'slowing', 'slowly', 'slows', 'slowthespread', 'slpp', 'sluggish', 'slum', 'slumped', 'slumps', 'slurry', 'small', 'smallbusiness', 'smaller', 'smallpox', 'smart', 'smartnews', 'smartphone', 'smartphones', 'smearing', 'smell', 'smelltaste', 'smile', 'smith', 'smoke', 'smoked', 'smokers', 'smoking', 'smoky', 'smooth', 'smoother', 'smoothly', 'sms', 'smt', 'smugly', 'snake', 'snakes', 'snap', 'snapchat', 'snapped', 'snapshot', 'sneeze', 'sneezes', 'sneezescoughs', 'sneezing', 'sniff', 'sniffing', 'sniffle', 'sniffy', 'snitches', 'snopes', 'snotty', 'snowden', 'snowdon', 'snows', 'snuck', 'snugly', 'soap', 'soapituphard', 'soaps', 'soar', 'soared', 'soars', 'socalled', 'soccer', 'social', 'socialdistance', 'socialdistancing', 'socialism', 'societies', 'society', 'socioeconomic', 'sociopathic', 'soda', 'sodium', 'sodo', 'sofiavergara', 'soft', 'software', 'sofía', 'soil', 'soilworld', 'sokoto', 'sold', 'soldier', 'soldiers', 'sole', 'solely', 'solid', 'solidarity', 'solution', 'solutiondrtedros', 'solutions', 'solve', 'solved', 'solvent', 'solving', 'somebody', 'someday', 'somehow', 'someone', 'somerset', 'something', 'sometime', 'sometimes', 'somewhat', 'somewhere', 'son', 'song', 'songs', 'sonko', 'sonnante', 'sons', 'sony', 'soon', 'sooner', 'soonpmoindia', 'sop', 'sophisticated', 'sophyridgesky', 'sops', 'sore', 'soren', 'sormas', 'sormasopen', 'soros', 'sorosglobalistsdem', 'sorrow', 'sorrowful', 'sorry', 'sort', 'sorts', 'sosa', 'sought', 'soukyaofficial', 'souls', 'sound', 'sounding', 'soundly', 'sounds', 'soup', 'souplike', 'source', 'sources', 'sourcing', 'south', 'southcarolina', 'southcentral', 'southdelhi', 'southeast', 'southern', 'souths', 'southwest', 'southwestcoast', 'southwestern', 'space', 'spaces', 'spaghetti', 'spain', 'spanish', 'spanishlanguage', 'spanning', 'spared', 'sparing', 'spark', 'sparked', 'sparks', 'spate', 'spavis', 'spawned', 'speak', 'speaker', 'speakerpelosi', 'speaking', 'speaks', 'spear', 'spears', 'special', 'specialist', 'specialists', 'specialized', 'species', 'specific', 'specifically', 'specified', 'specifies', 'specifying', 'specimen', 'specimens', 'specimentest', 'spectre', 'spectrum', 'speculation', 'speech', 'speeches', 'speed', 'speedy', 'spelled', 'spend', 'spending', 'spends', 'spent', 'sperm', 'spice', 'spicy', 'spike', 'spiked', 'spikes', 'spiking', 'spiky', 'spilled', 'spin', 'spirit', 'spirullina', 'spit', 'spitalongadon', 'spite', 'spits', 'spitters', 'spitting', 'spoil', 'spoke', 'spoken', 'spokesman', 'spokesperson', 'sponsor', 'sponsored', 'sponsors', 'spoonful', 'spoons', 'sporadic', 'sport', 'sports', 'spot', 'spots', 'sprawled', 'spray', 'sprayed', 'spraying', 'spread', 'spreaded', 'spreader', 'spreaderlow', 'spreaders', 'spreadhseet', 'spreading', 'spreads', 'spreadsheet', 'spreadsheetbased', 'spree', 'spring', 'springst', 'sprinklr', 'spurred', 'spurs', 'sputnik', 'sputnikv', 'sputum', 'spying', 'squandering', 'square', 'squash', 'squeezed', 'srbachchan', 'sreesub', 'sri', 'sridhar', 'srikakulam', 'srileyidd', 'srinivas', 'ssfarouk', 'stabbed', 'stabilise', 'stable', 'stably', 'stacked', 'stadium', 'stadiums', 'staff', 'staffing', 'stafford', 'stage', 'stages', 'staggered', 'staggering', 'staging', 'stake', 'stakeholders', 'stalled', 'stalling', 'stalls', 'stamford', 'stamp', 'stamping', 'stand', 'standard', 'standardised', 'standardize', 'standardized', 'standards', 'standby', 'standing', 'stands', 'stanford', 'staphylococcus', 'star', 'stared', 'starmer', 'stars', 'start', 'started', 'starting', 'starts', 'startup', 'startups', 'starving', 'stat', 'state', 'statebystate', 'stated', 'statedept', 'statelevel', 'statelocal', 'statemandated', 'statement', 'statements', 'stateoftheart', 'stateowned', 'staterun', 'states', 'statesbased', 'statesmaharashtra', 'statesman', 'statesmanship', 'statesterritories', 'statesthey', 'statesut', 'statesuts', 'stateut', 'stateuts', 'statewide', 'statewise', 'stating', 'statins', 'station', 'stationed', 'stations', 'statistic', 'statistical', 'statistically', 'statistics', 'statisticslink', 'statnews', 'stats', 'statue', 'status', 'statutory', 'stay', 'stayalert', 'stayathome', 'stayathomesavelives', 'stayed', 'stayhealthy', 'stayhome', 'stayhomestaysafe', 'staying', 'stays', 'staysafe', 'staysave', 'staystrong', 'std', 'stds', 'steadily', 'steady', 'steal', 'stealth', 'steam', 'steamgaraare', 'steel', 'steep', 'steer', 'steers', 'stefano', 'steil', 'stella', 'stem', 'stemi', 'stemming', 'step', 'stephen', 'stepheneglen', 'stephenville', 'stepped', 'stepping', 'steps', 'sterility', 'sterilization', 'sterilized', 'steroid', 'steroids', 'stethoscopes', 'stevefda', 'stevenreaney', 'stevenseagal', 'stevensville', 'stevereedmp', 'stewardship', 'stick', 'stickers', 'sticking', 'sticks', 'stigma', 'stigmas', 'stigmatise', 'still', 'stillbirth', 'stimulant', 'stimulate', 'stimulus', 'stimuluschecks', 'stip', 'stir', 'stjeffreystodd', 'stock', 'stocked', 'stockpile', 'stocks', 'stockton', 'stoked', 'stoking', 'stole', 'stolen', 'stomach', 'stomped', 'stone', 'stoned', 'stoner', 'stones', 'stonewalling', 'stood', 'stool', 'stop', 'stoping', 'stopped', 'stopping', 'stops', 'stopthespread', 'stopthespreadofcorona', 'storage', 'store', 'storehouse', 'stores', 'stories', 'storm', 'storminduced', 'storming', 'stormrelated', 'storms', 'stormsignalsa', 'story', 'stoush', 'stove', 'stpatricksday', 'straight', 'straightforward', 'strain', 'strains', 'stranded', 'strands', 'strange', 'strapped', 'strategic', 'strategicreserve', 'strategies', 'strategy', 'stream', 'streaming', 'streamlining', 'streams', 'street', 'streets', 'strength', 'strengthen', 'strengthened', 'strengthening', 'stress', 'stressed', 'stressful', 'stressing', 'stretched', 'strewn', 'strict', 'stricter', 'strictest', 'strictly', 'strike', 'striking', 'strip', 'stripclub', 'stripped', 'stripper', 'stroke', 'strokes', 'strong', 'stronger', 'strongertogether', 'strongest', 'strongly', 'struck', 'structure', 'structured', 'struggle', 'struggled', 'struggles', 'struggling', 'strung', 'stubbornly', 'stuck', 'student', 'students', 'studied', 'studies', 'study', 'studying', 'stuff', 'stumbling', 'stunning', 'stunt', 'stupid', 'sturgeon', 'stuttering', 'style', 'suba', 'subcategories', 'subcluster', 'subject', 'subjected', 'subjecting', 'subjects', 'submarine', 'submit', 'submitted', 'subnational', 'subprojects', 'subscribe', 'subsequent', 'subsequently', 'subsided', 'subsidized', 'substance', 'substances', 'substantial', 'substantially', 'substantively', 'substitute', 'subtle', 'subtracting', 'suburban', 'subway', 'succeed', 'succeeddrtedros', 'succeeded', 'success', 'successful', 'successfully', 'successive', 'successively', 'successor', 'successorbarack', 'succumbed', 'succumbing', 'suck', 'suckers', 'sucks', 'sudan', 'sudans', 'sudden', 'suddenly', 'sudima', 'suesensus', 'suffer', 'suffered', 'sufferers', 'suffering', 'suffers', 'sufficient', 'sufficiently', 'sugar', 'sugarcreek', 'suggest', 'suggested', 'suggesting', 'suggestion', 'suggestions', 'suggests', 'suicidal', 'suicide', 'suit', 'suitable', 'suite', 'suitheart', 'suits', 'sul', 'sulfur', 'sulphur', 'sultanpuri', 'sum', 'sumac', 'suman', 'summarizes', 'summarizing', 'summary', 'summer', 'summers', 'summon', 'sums', 'sun', 'sunak', 'sunbathing', 'sunday', 'sundays', 'sunderland', 'sunk', 'sunlight', 'sunmon', 'sunset', 'suntan', 'suomoto', 'super', 'superimposed', 'superintendent', 'supermarket', 'supermarkets', 'superspreaders', 'superstar', 'supervised', 'supervision', 'supervisor', 'supervisors', 'superwealthy', 'supplement', 'supplementary', 'supplementation', 'supplementing', 'supplements', 'supplier', 'supplies', 'supply', 'supplying', 'support', 'supported', 'supporter', 'supporters', 'supporting', 'supports', 'suppose', 'supposed', 'supposedly', 'suppress', 'suppressed', 'suppressing', 'suppression', 'supremacist', 'supreme', 'supress', 'surabaya', 'suraksha', 'surat', 'sure', 'surely', 'surest', 'surface', 'surfaces', 'surfacing', 'surge', 'surged', 'surgeon', 'surgeongeneral', 'surgeries', 'surgery', 'surges', 'surgical', 'surpass', 'surpassed', 'surpasses', 'surprise', 'surprised', 'surprises', 'surprising', 'surrender', 'surrendered', 'surrenders', 'surreptitiously', 'surrounded', 'surveillance', 'survey', 'surveyed', 'surveys', 'survival', 'survive', 'survived', 'survivers', 'survives', 'surviving', 'survivors', 'susankilfoy', 'susceptibility', 'susceptible', 'suspect', 'suspected', 'suspects', 'suspended', 'suspending', 'suspends', 'suspension', 'suspicious', 'sustain', 'sustainability', 'sustainable', 'sustained', 'suu', 'suzisuperkitn', 'swab', 'swabbing', 'swabs', 'swallow', 'swamp', 'swamped', 'swannyqld', 'swans', 'swanston', 'swasari', 'swasthabharat', 'swastika', 'swat', 'swatantra', 'swath', 'swayamsevak', 'swear', 'swears', 'sweat', 'sweden', 'swedish', 'sweeping', 'sweeps', 'sweet', 'sweets', 'swept', 'swift', 'swiftly', 'swimming', 'swine', 'swintersections', 'swiss', 'swissbased', 'switch', 'switched', 'switching', 'switzerland', 'swizerdeutsch', 'swung', 'sycophancy', 'sydney', 'symbol', 'symptom', 'symptomatic', 'symptombased', 'symptomfree', 'symptoms', 'symptons', 'synagogue', 'synchronised', 'syncytial', 'syndemic', 'syndrome', 'syndromes', 'synthetic', 'syria', 'system', 'systematic', 'systematically', 'systemic', 'systems', 'sánchez', 'são', 'tab', 'table', 'tableau', 'tablespoon', 'tablet', 'tablets', 'tablighi', 'tablighis', 'tabligi', 'tablik', 'tabloid', 'tabs', 'tackinfl', 'tackle', 'tackled', 'tackling', 'tacobell', 'tactics', 'tad', 'taf', 'tags', 'taht', 'tail', 'tailored', 'tainted', 'taipei', 'taiwan', 'taiwanese', 'taiwans', 'taj', 'tak', 'take', 'takeaction', 'takeaway', 'takebreaks', 'takedown', 'takedowntheccp', 'takeitfromadoctor', 'taken', 'takeout', 'takeover', 'takerespinsibility', 'takeresponsibility', 'takeresponsibilty', 'takeresponslibility', 'takes', 'taking', 'takum', 'talavera', 'talent', 'talented', 'talk', 'talked', 'talkers', 'talking', 'talkradio', 'talks', 'talkwithus', 'tallied', 'tally', 'tallying', 'taluk', 'tamarind', 'tamazonx', 'tamiflu', 'tamil', 'tamilnadu', 'tamped', 'tan', 'tanda', 'tangerinelaw', 'tangihanga', 'tangled', 'tank', 'tanks', 'tanner', 'tanzania', 'tanzanian', 'tap', 'tapafrom', 'tape', 'tapes', 'taraba', 'target', 'targeted', 'targeting', 'targets', 'tarun', 'taruncovid', 'task', 'taskforce', 'tasmac', 'taste', 'tasty', 'tasuku', 'tata', 'tatahealth', 'tatas', 'tattered', 'tax', 'taxday', 'taxes', 'taxi', 'taxpayers', 'tazyas', 'tchotchkes', 'tea', 'teach', 'teacher', 'teachers', 'teaching', 'team', 'teamed', 'teamoffivemillion', 'teams', 'teamtrump', 'tear', 'teargassed', 'tearing', 'teaspoon', 'tech', 'techbiotechbig', 'technical', 'technically', 'technicians', 'technique', 'techniques', 'techno', 'technologies', 'technology', 'tectonic', 'ted', 'tedros', 'teen', 'teenager', 'teens', 'teething', 'teich', 'tejasvisurya', 'tejinderssodhi', 'telangana', 'telecast', 'telecom', 'telecommunications', 'telecounselling', 'telehealth', 'telemedicine', 'telephone', 'telethonauction', 'televangelist', 'televangelists', 'television', 'tell', 'telling', 'tells', 'telltale', 'telugunews', 'temp', 'temperature', 'temperatures', 'templates', 'temple', 'temporary', 'ten', 'tenants', 'tend', 'tends', 'tennessee', 'tennis', 'tens', 'tension', 'tensions', 'tent', 'tents', 'tenyear', 'teravolt', 'teresa', 'term', 'terminate', 'terminated', 'terminator', 'terms', 'terra', 'terrassa', 'terrible', 'terrified', 'terrifying', 'territorial', 'territories', 'territory', 'terrius', 'terrorism', 'terrorist', 'tertiary', 'tesco', 'tesla', 'teslaownerssv', 'test', 'testament', 'tested', 'testers', 'testifies', 'testifying', 'testing', 'testingconfirmed', 'tests', 'testsday', 'testsdaymillion', 'testsdrtedros', 'teststhat', 'testtracktreat', 'testtube', 'tetanus', 'texas', 'texass', 'text', 'textile', 'texts', 'thaali', 'thaalibajao', 'thackeray', 'thailand', 'thali', 'thalis', 'thane', 'thank', 'thankful', 'thankfully', 'thanks', 'thankshealthheroes', 'thankyoumom', 'tharoor', 'thatamartya', 'thats', 'theater', 'theaters', 'theatlantic', 'theatre', 'theatres', 'thecityny', 'thecoronavirus', 'thecyberdagger', 'thedailymao', 'thedevil', 'thedisproof', 'thefauxy', 'thefreds', 'theft', 'thefts', 'thehill', 'theicai', 'thejohnabraham', 'thelancet', 'theleaver', 'themdrtedros', 'theme', 'themes', 'thenewnormal', 'thenpresident', 'theobromine', 'theodore', 'theophylline', 'theories', 'theorist', 'theorists', 'theory', 'thephichick', 'thepolldude', 'therapeutic', 'therapeutics', 'therapies', 'therapy', 'thereafter', 'therealstoryplz', 'therealtruther', 'therefore', 'thereidout', 'thereof', 'theres', 'thermal', 'thermometers', 'therock', 'theselc', 'thesun', 'thewalkingdead', 'thewiderwiserview', 'theworrygames', 'theyre', 'thick', 'thieves', 'thing', 'things', 'thingsalexismadrigal', 'think', 'thinkin', 'thinking', 'thinks', 'thinksaboutit', 'thinners', 'third', 'thirdhighest', 'thirdmost', 'thirdworst', 'thirteen', 'thirties', 'thirtyeight', 'thirtyfive', 'thirtyfour', 'thirtynine', 'thirtythree', 'thisselling', 'thisvideonaahbecause', 'tho', 'thom', 'thondaman', 'thoracic', 'thorough', 'thoroughbred', 'thoroughly', 'though', 'thought', 'thoughts', 'thousand', 'thousandbed', 'thousands', 'thrashed', 'thread', 'threads', 'threat', 'threaten', 'threatened', 'threatening', 'threatens', 'threats', 'three', 'threefourths', 'threshold', 'threw', 'thrice', 'thriller', 'thrive', 'thrives', 'throat', 'thrombocytopenia', 'thrombosis', 'thrombotic', 'throne', 'throughout', 'throughwe', 'throw', 'throwing', 'thrown', 'throws', 'thru', 'thulped', 'thumb', 'thumbs', 'thursday', 'thus', 'thwarting', 'thyrocare', 'thyrotoxicosis', 'tick', 'ticked', 'ticket', 'ticketdebit', 'tickets', 'ticking', 'tidbits', 'tides', 'tied', 'tierra', 'ties', 'tiffany', 'tiger', 'tigers', 'tight', 'tightened', 'tighter', 'tightly', 'tightness', 'tijuana', 'tik', 'tiktok', 'tilak', 'till', 'tillis', 'time', 'timeline', 'timely', 'times', 'timesofindia', 'timing', 'timings', 'timothy', 'timothyhallett', 'tinapa', 'tincture', 'tiny', 'tip', 'tipping', 'tips', 'tipsadvice', 'tipsy', 'tire', 'tired', 'tireless', 'tirur', 'tissue', 'title', 'tiwari', 'tlowdon', 'tmccormick', 'toaster', 'tobacco', 'tobacconists', 'today', 'todaybut', 'todayinncdc', 'todays', 'todaywe', 'toddy', 'todti', 'toenail', 'together', 'togetheralone', 'togetherness', 'toi', 'toil', 'toilet', 'toiletpaper', 'toiletrollhorders', 'toilets', 'tok', 'token', 'tokoroa', 'tokyo', 'told', 'toll', 'tolls', 'tom', 'tomaspueyo', 'tomato', 'tomatoes', 'tomb', 'tomfitton', 'tomhanks', 'tommy', 'tomorrow', 'tomorrowif', 'ton', 'tone', 'tongue', 'tonic', 'tonight', 'tony', 'tonybaldeagle', 'took', 'tool', 'toolkit', 'tools', 'toothpaste', 'top', 'topic', 'topics', 'toplines', 'topped', 'toppling', 'tops', 'toronto', 'tortuous', 'tory', 'tosurvive', 'total', 'totalitarianism', 'totally', 'totals', 'totaltestresults', 'touch', 'touched', 'touches', 'touching', 'tough', 'tougher', 'toulon', 'toulouse', 'tour', 'tourism', 'tourists', 'touted', 'touting', 'touts', 'toward', 'towards', 'tower', 'towers', 'town', 'towns', 'township', 'toxic', 'toxicity', 'toxin', 'toxins', 'toys', 'tpm', 'tqmka', 'trace', 'traced', 'tracer', 'tracers', 'traces', 'tracing', 'tracingappfeedbackhealthgovtnz', 'track', 'tracked', 'tracker', 'trackers', 'tracking', 'tracks', 'tract', 'traction', 'trade', 'tradition', 'traditional', 'traffic', 'tragedy', 'tragic', 'trail', 'trailing', 'trails', 'train', 'trained', 'trainees', 'training', 'trainings', 'trains', 'trajectory', 'tramps', 'tranche', 'transcripts', 'transfer', 'transferred', 'transferring', 'transform', 'transformational', 'transformed', 'transfusions', 'transited', 'transition', 'transitional', 'translate', 'translated', 'translates', 'transmission', 'transmissiondrtedros', 'transmissions', 'transmit', 'transmitted', 'transmitting', 'transparency', 'transparent', 'transparently', 'transplants', 'transport', 'transportation', 'transporting', 'transverse', 'trap', 'traps', 'trauma', 'travel', 'traveled', 'traveler', 'travelers', 'traveling', 'travelled', 'traveller', 'travellers', 'travelling', 'travels', 'travolta', 'tray', 'trchnology', 'treasurer', 'treasury', 'treat', 'treated', 'treating', 'treatment', 'treatments', 'treats', 'tree', 'trehan', 'tremendous', 'trenches', 'trend', 'trended', 'trending', 'trendlines', 'trends', 'trentonmcfadyen', 'trey', 'triaging', 'trial', 'trialled', 'trials', 'tribal', 'tribe', 'tribes', 'tribute', 'trick', 'tricks', 'tricky', 'tried', 'tries', 'triggered', 'triggering', 'triggers', 'trillanes', 'trillion', 'trillions', 'trinitybellwoodspark', 'trip', 'triple', 'tripled', 'triplegggx', 'tripping', 'trips', 'tripura', 'triump', 'trolley', 'trolleys', 'troops', 'trophy', 'trophywife', 'trouble', 'troubling', 'truck', 'trucks', 'trudeau', 'trudeaus', 'true', 'truenat', 'truenatantigen', 'truly', 'trump', 'trumpbacked', 'trumpcouldhavesavedvalet', 'trumpliedamericansdied', 'trumppressconf', 'trumps', 'trumpsjealousofobama', 'trumpuniversity', 'trupti', 'trust', 'trusted', 'trusts', 'truth', 'trvrb', 'try', 'trying', 'tsa', 'tshirt', 'tsunami', 'ttc', 'ttsi', 'tube', 'tuberculosis', 'tuberville', 'tucked', 'tucker', 'tuckercarlson', 'tues', 'tuesday', 'tuesdayfriday', 'tuesdaylive', 'tuesdaymotivation', 'tuesdays', 'tulisa', 'tulsa', 'tulsatrumprally', 'tumbleweeds', 'tummy', 'tumor', 'tuna', 'tune', 'tunisia', 'tunisian', 'tunisians', 'turd', 'turkey', 'turkish', 'turkmenistan', 'turmeric', 'turn', 'turnaround', 'turnaroundtime', 'turned', 'turning', 'turns', 'tuscaloosa', 'tvcconnect', 'twalk', 'twatty', 'tweet', 'tweeted', 'tweeting', 'tweets', 'twenty', 'twentyone', 'twentyseven', 'twentythree', 'twentytwo', 'twice', 'twilight', 'twin', 'twins', 'twitter', 'two', 'twofold', 'twothirds', 'twoweek', 'tycoon', 'tyneside', 'type', 'types', 'typical', 'typically', 'typing', 'typos', 'tīmarimamiriona', 'uae', 'uber', 'ucla', 'uddhav', 'udupi', 'ufc', 'ufo', 'uganda', 'ugandan', 'ugandas', 'ugly', 'uhuru', 'uighur', 'uighurs', 'ukgovernment', 'uklabour', 'ukraine', 'ukrainian', 'ukrainians', 'uks', 'ukusa', 'ull', 'ulsan', 'ultimate', 'ultimately', 'ultra', 'ultrarich', 'ultraviolet', 'uma', 'umah', 'umbrella', 'unable', 'unacceptable', 'unaffected', 'unanimously', 'unattended', 'unauthorized', 'unavailability', 'unaware', 'unbands', 'unbelievable', 'uncaptured', 'uncertainty', 'unchanged', 'uncle', 'unclear', 'uncomfortable', 'unconfirmed', 'unconscionable', 'unconstitutional', 'uncontrolled', 'uncut', 'undark', 'undercount', 'undercounting', 'underestimated', 'undergo', 'undergoing', 'underground', 'underline', 'underlying', 'underrated', 'underscore', 'underserved', 'underserves', 'understand', 'understanding', 'understands', 'understood', 'undertaken', 'undertaking', 'underutilised', 'underway', 'undetected', 'undiction', 'undigested', 'undo', 'undoubtedly', 'undp', 'unemployed', 'unemployment', 'unequally', 'unequivocal', 'unequivocally', 'unessential', 'uneven', 'unevenly', 'unexpected', 'unfair', 'unfairly', 'unfolds', 'unforeseen', 'unfortunate', 'unfortunately', 'unfrozen', 'unfulfilled', 'unga', 'unhealthy', 'uni', 'unicef', 'unicefindia', 'unicefmedia', 'unidentified', 'unified', 'uniforms', 'unimaginable', 'unimaid', 'unimed', 'uninindia', 'uninterested', 'uniofoxford', 'union', 'unionization', 'unions', 'unipadova', 'unique', 'unison', 'unisted', 'unit', 'unite', 'united', 'unitednations', 'units', 'unity', 'univcordoba', 'univeristy', 'universal', 'universally', 'universitario', 'universities', 'university', 'unjustifiable', 'unki', 'unknowingly', 'unknown', 'unknowndrtedros', 'unknowns', 'unleashed', 'unless', 'unlike', 'unlikely', 'unlock', 'unlocking', 'unloved', 'unmasked', 'unnamed', 'unnatural', 'unnecessarily', 'unofficial', 'unpopular', 'unprecedented', 'unpredictable', 'unproven', 'unrecognized', 'unreliable', 'unreliefchief', 'unreported', 'unrestricted', 'unrestrictive', 'unsafe', 'unsafely', 'unsc', 'unseat', 'unstable', 'unstoppable', 'unsung', 'unsure', 'unsurprisingly', 'unsweetened', 'untiring', 'unto', 'untold', 'untreated', 'unused', 'unusual', 'unusually', 'unveils', 'unverified', 'unwarranted', 'unwashed', 'unwell', 'unwind', 'unwittingly', 'upcoming', 'update', 'updated', 'updates', 'updating', 'updrtedros', 'upfront', 'upgovt', 'upgrade', 'upgraded', 'upheaval', 'uphold', 'uplifted', 'upload', 'uploaded', 'upon', 'upper', 'uppermiddle', 'upside', 'upsurge', 'uptake', 'uptick', 'upto', 'uptodate', 'uptrend', 'upward', 'upwards', 'urban', 'uressien', 'urge', 'urged', 'urgency', 'urgent', 'urgently', 'urges', 'urging', 'urine', 'urinedung', 'url', 'urologists', 'urself', 'uruguay', 'usa', 'usable', 'usage', 'usaid', 'usama', 'usatoday', 'usb', 'uscdcnigeria', 'uschinese', 'usd', 'usdol', 'use', 'used', 'useddrtedros', 'usedrtedros', 'useful', 'usefulness', 'useless', 'user', 'username', 'users', 'uses', 'usfda', 'usgovernment', 'using', 'uslaunched', 'usman', 'usmle', 'usponline', 'uss', 'usual', 'usually', 'usurped', 'utah', 'utakar', 'utensils', 'utilise', 'utilitising', 'utilized', 'utpol', 'uts', 'uttar', 'uttarakhand', 'uttarpradesh', 'uttering', 'uva', 'uvc', 'uvdisinfection', 'uvlamp', 'uvled', 'uvlight', 'uvsolution', 'vacancies', 'vacancy', 'vacated', 'vacation', 'vacationing', 'vaccinate', 'vaccinated', 'vaccinating', 'vaccination', 'vaccinations', 'vaccine', 'vaccineacquired', 'vaccinedrtedros', 'vaccineepi', 'vaccinepreventable', 'vaccines', 'vaccinesdrtedros', 'vaccineswork', 'vaccino', 'vadodara', 'vadra', 'valet', 'valid', 'validate', 'validated', 'validation', 'vall', 'vallance', 'valle', 'valley', 'valuable', 'value', 'valuedetriment', 'values', 'valve', 'van', 'vandalizing', 'vandana', 'vanessa', 'vann', 'vans', 'vapor', 'vaporized', 'varadkar', 'varalakshmivratam', 'varamahalakshmi', 'varella', 'vargas', 'variability', 'variables', 'variation', 'variations', 'varies', 'variety', 'various', 'varvara', 'vary', 'vasant', 'vasconcellos', 'vast', 'vastly', 'vati', 'vatican', 'vax', 'vcs', 'vector', 'vegan', 'vegans', 'vegas', 'vegetable', 'vegetables', 'vegetarian', 'vegetarians', 'vehicle', 'vehicles', 'veil', 'vellore', 'vendor', 'vendors', 'venezuela', 'venezuelan', 'venices', 'venko', 'ventilaors', 'ventilated', 'ventilation', 'ventilatoins', 'ventilator', 'ventilators', 'ventilatorsdrtedros', 'ventillated', 'vento', 'venturing', 'venues', 'verdict', 'verge', 'verification', 'verified', 'verify', 'verifying', 'verity', 'vermont', 'vero', 'verse', 'verses', 'version', 'versus', 'vertical', 'veryvirology', 'vessel', 'veterans', 'veterinarian', 'veterinary', 'veto', 'vetsree', 'veuvek', 'via', 'viability', 'viable', 'vial', 'vials', 'viamed', 'vic', 'vicdevine', 'vice', 'vicepresident', 'vicepresidentjoebiden', 'vicepresidentmikepence', 'viciously', 'vicpol', 'vicrollison', 'vics', 'victim', 'victims', 'victor', 'victoria', 'victorian', 'victorias', 'vidal', 'video', 'videoconferencing', 'videograph', 'videos', 'vienna', 'viennetta', 'vietnam', 'view', 'viewed', 'viewers', 'views', 'viewsnow', 'vigil', 'vigilant', 'vigilants', 'vila', 'village', 'villavicencio', 'vincent', 'vincenzo', 'vinci', 'vinegar', 'vinguptamd', 'vinlew', 'vinod', 'violate', 'violated', 'violating', 'violation', 'violations', 'violence', 'violent', 'violently', 'violet', 'vip', 'viral', 'virality', 'viralogys', 'viralvideo', 'virgin', 'virginia', 'virologist', 'virology', 'virtual', 'virtualconferenceafrica', 'virtually', 'virus', 'virusdrtedros', 'viruses', 'virusinfected', 'virusno', 'virustainted', 'visa', 'visas', 'visible', 'visit', 'visited', 'visiting', 'visitor', 'visitors', 'visits', 'visor', 'visors', 'visual', 'visualabstract', 'visualizations', 'visualize', 'viswabharathi', 'vit', 'vital', 'vitamin', 'vitaminc', 'vitamind', 'vitamins', 'vivcooper', 'viz', 'vladimir', 'vladimirputin', 'vmaledew', 'vocal', 'vodka', 'voice', 'voiceover', 'voices', 'void', 'volleyball', 'volume', 'volumes', 'voluntarily', 'voluntary', 'volunteer', 'volunteers', 'vonderleyen', 'vos', 'vote', 'voted', 'voter', 'voters', 'voting', 'voucher', 'vow', 'voyages', 'vrs', 'vte', 'vulgar', 'vulnerability', 'vulnerabilitydrtedros', 'vulnerable', 'vulnerablefacing', 'vvip', 'vyas', 'víctor', 'wacotrib', 'wadepthealth', 'wage', 'wages', 'waikato', 'wait', 'waitakere', 'waited', 'waitemata', 'waitematā', 'waiters', 'waiting', 'waitkato', 'wake', 'wakeup', 'wales', 'walkers', 'walkin', 'walking', 'wall', 'wallace', 'walls', 'walmart', 'wampanoag', 'wand', 'wandering', 'wane', 'wang', 'wank', 'want', 'wanted', 'wanting', 'wants', 'wapflondon', 'war', 'warcrimes', 'ward', 'warded', 'wardquarantine', 'wards', 'warehouse', 'warfare', 'waris', 'warm', 'warmer', 'warn', 'warnapp', 'warned', 'warning', 'warnings', 'warns', 'warp', 'warps', 'warrant', 'warrior', 'warriors', 'wars', 'wash', 'washable', 'washed', 'washing', 'washington', 'washingtonpost', 'washingtons', 'wasnt', 'wastage', 'wasted', 'wasting', 'watch', 'watched', 'watches', 'watching', 'watchlist', 'water', 'waterford', 'waterpistols', 'waters', 'watery', 'watford', 'watsapp', 'wave', 'waves', 'way', 'waydrtedros', 'wayne', 'ways', 'waysdrtedros', 'wbur', 'wcvb', 'weak', 'weakened', 'weaker', 'weakness', 'wealthy', 'weapon', 'weaponized', 'weapons', 'wear', 'wearable', 'wearamask', 'wearer', 'wearers', 'wearespartan', 'wearing', 'wears', 'weather', 'weave', 'webinar', 'webinars', 'webmd', 'webpage', 'website', 'websites', 'wed', 'wedding', 'weddings', 'wedge', 'wednesday', 'wednesdays', 'weds', 'weed', 'week', 'weekday', 'weekend', 'weekends', 'weekly', 'weekold', 'weeks', 'weeksdrtedros', 'weekwise', 'weeping', 'wef', 'weibo', 'weighed', 'weighing', 'weight', 'weights', 'weird', 'welcome', 'welcoming', 'welding', 'welfare', 'well', 'wellbeing', 'wellchild', 'wellconnected', 'wellington', 'wellknown', 'wellness', 'welsh', 'weneedthedenominator', 'wenliang', 'went', 'wept', 'west', 'westbengal', 'westcoast', 'western', 'westminster', 'weston', 'westvirginia', 'wet', 'wetdamp', 'wetherspoons', 'weve', 'wevotedtoleave', 'wfp', 'wgrz', 'whatever', 'whati', 'whatmasks', 'whatsapp', 'whatthebit', 'wheat', 'wheel', 'wheelchairs', 'wheeled', 'wheels', 'whenever', 'whereas', 'wherein', 'wherever', 'whether', 'whilst', 'whining', 'whispers', 'whistle', 'whistleblower', 'whistling', 'whitbread', 'whitcomb', 'white', 'whitehouse', 'whitepaper', 'whitesupremacy', 'whith', 'whitmer', 'whitmers', 'whitty', 'whitwyatt', 'whoafro', 'whoever', 'whoimpact', 'whole', 'whophilippines', 'whose', 'whosearo', 'whânau', 'wichita', 'wide', 'widely', 'widen', 'widening', 'widens', 'wider', 'widespread', 'widow', 'wife', 'wifes', 'wifi', 'wikipedia', 'wild', 'wildfire', 'wildfires', 'wildflowers', 'wildland', 'wildly', 'willbe', 'william', 'williambarr', 'williambryan', 'willing', 'willto', 'wilson', 'win', 'wind', 'window', 'windows', 'wine', 'wing', 'winner', 'winning', 'wins', 'winsconsin', 'winter', 'wionews', 'wiped', 'wipes', 'wire', 'wiri', 'wisconsin', 'wisconsins', 'wisdom', 'wise', 'wish', 'wishing', 'wit', 'witch', 'witchcraft', 'withdraw', 'withdrawn', 'within', 'without', 'witness', 'witnessed', 'witnesses', 'witnessing', 'wits', 'witzel', 'wives', 'wlou', 'wndlb', 'wobble', 'wobbly', 'woke', 'wolfiecindy', 'woman', 'womans', 'women', 'womens', 'wonder', 'wondered', 'wonderful', 'wondering', 'wonders', 'wondrous', 'wont', 'wooden', 'woods', 'woodward', 'woodwardtapes', 'word', 'wordpressdotcom', 'words', 'wore', 'worest', 'work', 'workalexismadrigal', 'worked', 'worker', 'workers', 'workersdrtedros', 'workflows', 'workforce', 'workfromhome', 'workfromhomelife', 'working', 'workout', 'workplace', 'workplaces', 'workplacesafety', 'works', 'world', 'worldbank', 'worldbreastfeedingweek', 'worldhealthday', 'worldis', 'worldmaskweek', 'worldmosquitoday', 'worldoutside', 'worlds', 'worldwide', 'worldzoonosesday', 'worn', 'worried', 'worrisome', 'worry', 'worrying', 'worse', 'worsen', 'worsened', 'worship', 'worst', 'worstaffected', 'worstcase', 'worsthit', 'worth', 'would', 'wouldnt', 'wound', 'wreaked', 'wrecking', 'wring', 'wrinkle', 'write', 'writer', 'writes', 'writing', 'written', 'wrong', 'wrongly', 'wrote', 'wth', 'wuflu', 'wuhan', 'wuhancoronavirus', 'wuhaninstituteofvirologylaboratory', 'wuhans', 'wuhanviruspandemic', 'wuxi', 'wvumediacollege', 'wwii', 'wwn', 'wyoming', 'xanderarmstrong', 'xenophobic', 'xijimping', 'xijinping', 'xpressbengaluru', 'xrays', 'yaakovnahmias', 'yachts', 'yadav', 'yahoo', 'yale', 'yall', 'yalman', 'yan', 'yangon', 'yashuahawkeye', 'yavatmal', 'yayitsrob', 'yeah', 'year', 'yeardrtedros', 'yearly', 'yearold', 'years', 'yearsdrtedros', 'yedikule', 'yediyurappa', 'yelling', 'yellow', 'yemen', 'yemenis', 'yen', 'yes', 'yesterday', 'yesterdays', 'yet', 'yetwho', 'yields', 'yobe', 'yoga', 'yogrishiramdev', 'yojana', 'yojanapmjjby', 'yojanapmsby', 'yokes', 'york', 'yorkers', 'yorks', 'yorkshire', 'yorkshirebri', 'yorkshires', 'youk', 'youll', 'young', 'younger', 'yourviewtv', 'yous', 'youschina', 'youtc', 'youth', 'youtube', 'youyanggu', 'yrs', 'yumzers', 'yup', 'yvonne', 'ywoga', 'zacbissonnette', 'zack', 'zacks', 'zalima', 'zambales', 'zambia', 'zamfara', 'zanzibar', 'zaria', 'zealand', 'zealanders', 'zealands', 'zedwar', 'zee', 'zeenews', 'zekiri', 'zero', 'zevdr', 'zhangzhan', 'zhong', 'zhoushan', 'ziberi', 'zika', 'zillionaire', 'zinc', 'zip', 'ziplock', 'zithromax', 'zomatos', 'zombie', 'zombies', 'zone', 'zonecityspecific', 'zones', 'zoo', 'zoodirector', 'zookeepers', 'zoology', 'zoom', 'zooming', 'zoonotic', 'zubymusic', 'zuckoff', 'zurich', 'zydus', 'áñez', 'كورونا', '監獄絕食抗議', '被監視居住', '陳秋實', '𝗰𝗼𝗺𝗽𝗹𝗲𝘁𝗲𝗹𝘆', '𝗶𝗻𝗮𝗰𝘁𝗶𝘃𝗮𝘁𝗲']\n",
      "[[0 0 0 ... 0 0 0]\n",
      " [0 0 0 ... 0 0 0]\n",
      " [0 0 0 ... 0 0 0]\n",
      " ...\n",
      " [0 0 0 ... 0 0 0]\n",
      " [0 0 0 ... 0 0 0]\n",
      " [0 0 0 ... 0 0 0]]\n"
     ]
    }
   ],
   "source": [
    "print(vectorizer.get_feature_names()) #Words\n",
    "print(X_train_counts.toarray()) #Feature values"
   ]
  },
  {
   "cell_type": "code",
   "execution_count": 20,
   "id": "ea7dbd6f",
   "metadata": {},
   "outputs": [
    {
     "name": "stdout",
     "output_type": "stream",
     "text": [
      "Preprocessed tweet: cdc currently reports deaths general discrepancies death counts different sources small explicable death toll stands roughly people today \n",
      "\n",
      "Occurrencies: \n",
      "cdc: 1\n",
      "counts: 1\n",
      "currently: 1\n",
      "death: 2\n",
      "deaths: 1\n",
      "different: 1\n",
      "discrepancies: 1\n",
      "explicable: 1\n",
      "general: 1\n",
      "people: 1\n",
      "reports: 1\n",
      "roughly: 1\n",
      "small: 1\n",
      "sources: 1\n",
      "stands: 1\n",
      "today: 1\n",
      "toll: 1\n"
     ]
    }
   ],
   "source": [
    "counts = X_train_counts.toarray()[0]\n",
    "features = vectorizer.get_feature_names()\n",
    "\n",
    "print('Preprocessed tweet:', df_train['tweet'][0], '\\n')\n",
    "print('Occurrencies: ')\n",
    "for i in range(len(features)):\n",
    "    count = counts[i]\n",
    "    if(count > 0):\n",
    "        print('{}: {}'.format(features[i], count))"
   ]
  },
  {
   "cell_type": "markdown",
   "id": "79e9bd3d",
   "metadata": {},
   "source": [
    "##### 2. TF-IDF Representation"
   ]
  },
  {
   "cell_type": "code",
   "execution_count": 21,
   "id": "8fd29385",
   "metadata": {},
   "outputs": [
    {
     "name": "stdout",
     "output_type": "stream",
     "text": [
      "There are 8560 tweets and 14139 is the size of the vocabulary for all the tweets\n"
     ]
    }
   ],
   "source": [
    "from sklearn.feature_extraction.text import TfidfTransformer\n",
    "\n",
    "tf_transformer = TfidfTransformer(use_idf = False).fit(X_train_counts)\n",
    "X_train_tf = tf_transformer.transform(X_train_counts)\n",
    "X_train_tf.shape\n",
    "print('There are {} tweets and {} is the size of the vocabulary for all the tweets'\\\n",
    "      .format(X_train_tf.shape[0], X_train_tf.shape[1]))"
   ]
  },
  {
   "cell_type": "markdown",
   "id": "9d4cee5f",
   "metadata": {},
   "source": [
    "## 4. Naive Bayes"
   ]
  },
  {
   "cell_type": "markdown",
   "id": "ddc36ee8",
   "metadata": {},
   "source": [
    "#### Model Training"
   ]
  },
  {
   "cell_type": "code",
   "execution_count": 30,
   "id": "830f1d75",
   "metadata": {},
   "outputs": [],
   "source": [
    "from sklearn.pipeline import Pipeline\n",
    "from sklearn.naive_bayes import MultinomialNB\n",
    "from sklearn.model_selection import cross_validate\n",
    "from sklearn.metrics import make_scorer, recall_score\n",
    "\n",
    "pipeline = Pipeline([\n",
    "        ('bow', CountVectorizer()),  \n",
    "        ('tfidf', TfidfTransformer()),  \n",
    "        ('clf', MultinomialNB())\n",
    "    ])\n",
    "\n",
    "scoring = {'prec_macro': 'precision_macro', 'rec_macro': make_scorer(recall_score, average='macro'), 'f1_macro': 'f1_macro', 'accuracy': 'accuracy'}\n",
    "scores = cross_validate(pipeline, df_train['tweet'], df_train['label'], cv = 5, scoring = scoring, return_train_score = True)"
   ]
  },
  {
   "cell_type": "code",
   "execution_count": 31,
   "id": "30a32190",
   "metadata": {},
   "outputs": [
    {
     "data": {
      "text/plain": [
       "['fit_time',\n",
       " 'score_time',\n",
       " 'test_accuracy',\n",
       " 'test_f1_macro',\n",
       " 'test_prec_macro',\n",
       " 'test_rec_macro',\n",
       " 'train_accuracy',\n",
       " 'train_f1_macro',\n",
       " 'train_prec_macro',\n",
       " 'train_rec_macro']"
      ]
     },
     "execution_count": 31,
     "metadata": {},
     "output_type": "execute_result"
    }
   ],
   "source": [
    "sorted(scores.keys())"
   ]
  },
  {
   "cell_type": "code",
   "execution_count": 32,
   "id": "1a903d18",
   "metadata": {},
   "outputs": [
    {
     "name": "stdout",
     "output_type": "stream",
     "text": [
      "Mean Accuracy: 0.9031542056074766\n"
     ]
    },
    {
     "data": {
      "text/plain": [
       "array([0.9036215 , 0.90186916, 0.90829439, 0.89778037, 0.90420561])"
      ]
     },
     "execution_count": 32,
     "metadata": {},
     "output_type": "execute_result"
    }
   ],
   "source": [
    "print('Mean Accuracy:', scores['test_accuracy'].mean())\n",
    "scores['test_accuracy']"
   ]
  },
  {
   "cell_type": "code",
   "execution_count": 27,
   "id": "01745779",
   "metadata": {},
   "outputs": [
    {
     "name": "stdout",
     "output_type": "stream",
     "text": [
      "Mean F1: 0.9023090074442157\n"
     ]
    },
    {
     "data": {
      "text/plain": [
       "array([0.90284554, 0.90096031, 0.9074134 , 0.89682197, 0.90350382])"
      ]
     },
     "execution_count": 27,
     "metadata": {},
     "output_type": "execute_result"
    }
   ],
   "source": [
    "print('Mean F1:', scores['test_f1_macro'].mean())\n",
    "scores['test_f1_macro']"
   ]
  },
  {
   "cell_type": "code",
   "execution_count": 37,
   "id": "6bf6af4e",
   "metadata": {},
   "outputs": [
    {
     "name": "stdout",
     "output_type": "stream",
     "text": [
      "Mean Precision: 0.9078259192747286\n"
     ]
    },
    {
     "data": {
      "text/plain": [
       "array([0.90764091, 0.90702576, 0.91393958, 0.90296133, 0.90756202])"
      ]
     },
     "execution_count": 37,
     "metadata": {},
     "output_type": "execute_result"
    }
   ],
   "source": [
    "print('Mean Precision:', scores['test_prec_macro'].mean())\n",
    "scores['test_prec_macro']"
   ]
  },
  {
   "cell_type": "code",
   "execution_count": 29,
   "id": "d52fe3e7",
   "metadata": {},
   "outputs": [
    {
     "name": "stdout",
     "output_type": "stream",
     "text": [
      "Mean Recall: 0.90078125\n"
     ]
    },
    {
     "data": {
      "text/plain": [
       "array([0.90141369, 0.89935662, 0.90571385, 0.89523153, 0.90219056])"
      ]
     },
     "execution_count": 29,
     "metadata": {},
     "output_type": "execute_result"
    }
   ],
   "source": [
    "print('Mean Recall:', scores['test_rec_macro'].mean())\n",
    "scores['test_rec_macro']"
   ]
  },
  {
   "cell_type": "code",
   "execution_count": 33,
   "id": "bfa0af14",
   "metadata": {},
   "outputs": [],
   "source": [
    "fit = pipeline.fit(df_train['tweet'], df_train['label'])"
   ]
  },
  {
   "cell_type": "markdown",
   "id": "5cc2615c",
   "metadata": {},
   "source": [
    "#### Prediction on test data"
   ]
  },
  {
   "cell_type": "code",
   "execution_count": 34,
   "id": "ab1089e0",
   "metadata": {},
   "outputs": [],
   "source": [
    "predictions = pipeline.predict(df_test['tweet'])"
   ]
  },
  {
   "cell_type": "code",
   "execution_count": 35,
   "id": "d3450c8a",
   "metadata": {},
   "outputs": [
    {
     "name": "stdout",
     "output_type": "stream",
     "text": [
      "-----------------Naive Bayes Classifier------------------\n",
      "\n",
      "              precision    recall  f1-score   support\n",
      "\n",
      "        fake       0.94      0.86      0.90      1020\n",
      "        real       0.88      0.95      0.91      1120\n",
      "\n",
      "    accuracy                           0.91      2140\n",
      "   macro avg       0.91      0.90      0.91      2140\n",
      "weighted avg       0.91      0.91      0.91      2140\n",
      "\n"
     ]
    }
   ],
   "source": [
    "from sklearn.metrics import classification_report,confusion_matrix\n",
    "\n",
    "print('-----------------Naive Bayes Classifier------------------\\n')\n",
    "print(classification_report(df_test['label'], predictions))"
   ]
  },
  {
   "cell_type": "code",
   "execution_count": 38,
   "id": "1d6e90eb",
   "metadata": {
    "scrolled": true
   },
   "outputs": [
    {
     "data": {
      "image/png": "[encoded data removed]",
      "text/plain": [
       "<Figure size 504x360 with 2 Axes>"
      ]
     },
     "metadata": {
      "needs_background": "light"
     },
     "output_type": "display_data"
    }
   ],
   "source": [
    "# Plot confusion matrix\n",
    "import pandas as pd\n",
    "import seaborn as sbn\n",
    "import matplotlib.pyplot as plt\n",
    "\n",
    "data = {'true_labels': df_test['label'], 'predicted_labels': predictions}\n",
    "\n",
    "df = pd.DataFrame(data, columns = ['true_labels', 'predicted_labels'])\n",
    "\n",
    "confusion_matrix = pd.crosstab(\n",
    "    df['true_labels'], \n",
    "    df['predicted_labels'], \n",
    "    rownames = ['True Label'], \n",
    "    colnames = ['Predicted Label']\n",
    "    )\n",
    "\n",
    "fig, ax = plt.subplots(figsize=(7,5))\n",
    "sbn.heatmap(confusion_matrix, annot = True, linewidths = 1, fmt = 'd', cmap=\"Blues\")\n",
    "plt.title(\"Confusion matrix of Naive Bayes on Test Data\")\n",
    "plt.show()"
   ]
  }
 ],
 "metadata": {
  "kernelspec": {
   "display_name": "Python 3",
   "language": "python",
   "name": "python3"
  },
  "language_info": {
   "codemirror_mode": {
    "name": "ipython",
    "version": 3
   },
   "file_extension": ".py",
   "mimetype": "text/x-python",
   "name": "python",
   "nbconvert_exporter": "python",
   "pygments_lexer": "ipython3",
   "version": "3.8.8"
  }
 },
 "nbformat": 4,
 "nbformat_minor": 5
}
